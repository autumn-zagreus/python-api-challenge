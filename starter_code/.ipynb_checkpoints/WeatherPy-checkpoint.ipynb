{
 "cells": [
  {
   "cell_type": "markdown",
   "metadata": {},
   "source": [
    "# WeatherPy\n",
    "----\n",
    "\n",
    "#### Note\n",
    "* Instructions have been included for each segment. You do not have to follow them exactly, but they are included to help you think through the steps."
   ]
  },
  {
   "cell_type": "code",
   "execution_count": 2,
   "metadata": {
    "scrolled": true
   },
   "outputs": [],
   "source": [
    "# Dependencies and Setup\n",
    "import matplotlib.pyplot as plt\n",
    "import pandas as pd\n",
    "import numpy as np\n",
    "import requests\n",
    "import time\n",
    "from scipy.stats import linregress\n",
    "from pprint import pprint\n",
    "\n",
    "# Import API key\n",
    "from api_keys import weather_api_key\n",
    "\n",
    "# Incorporated citipy to determine city based on latitude and longitude\n",
    "from citipy import citipy\n",
    "\n",
    "# Output File (CSV)\n",
    "output_data_file = \"output_data/cities.csv\"\n",
    "\n",
    "# Range of latitudes and longitudes\n",
    "lat_range = (-90, 90)\n",
    "lng_range = (-180, 180)"
   ]
  },
  {
   "cell_type": "markdown",
   "metadata": {},
   "source": [
    "## Generate Cities List"
   ]
  },
  {
   "cell_type": "code",
   "execution_count": 3,
   "metadata": {},
   "outputs": [
    {
     "data": {
      "text/plain": [
       "628"
      ]
     },
     "execution_count": 3,
     "metadata": {},
     "output_type": "execute_result"
    }
   ],
   "source": [
    "# List for holding lat_lngs and cities\n",
    "lat_lngs = []\n",
    "cities = []\n",
    "\n",
    "# Create a set of random lat and lng combinations\n",
    "lats = np.random.uniform(lat_range[0], lat_range[1], size=1500)\n",
    "lngs = np.random.uniform(lng_range[0], lng_range[1], size=1500)\n",
    "lat_lngs = zip(lats, lngs)\n",
    "\n",
    "# Identify nearest city for each lat, lng combination\n",
    "for lat_lng in lat_lngs:\n",
    "    city = citipy.nearest_city(lat_lng[0], lat_lng[1]).city_name\n",
    "    \n",
    "    # If the city is unique, then add it to a our cities list\n",
    "    if city not in cities:\n",
    "        cities.append(city)\n",
    "        \n",
    "# Print the city count to confirm sufficient count\n",
    "len(cities)"
   ]
  },
  {
   "cell_type": "markdown",
   "metadata": {},
   "source": [
    "### Perform API Calls\n",
    "* Perform a weather check on each city using a series of successive API calls.\n",
    "* Include a print log of each city as it'sbeing processed (with the city number and city name).\n"
   ]
  },
  {
   "cell_type": "code",
   "execution_count": 4,
   "metadata": {},
   "outputs": [
    {
     "name": "stdout",
     "output_type": "stream",
     "text": [
      "'Getting info for Zhigansk'\n",
      "'Getting info for Bluff'\n",
      "'Getting info for São João da Barra'\n",
      "'Getting info for Barrow'\n",
      "'Getting info for Rikitea'\n",
      "'Getting info for Albany'\n",
      "'Getting info for Chokurdakh'\n",
      "'Getting info for Port Alfred'\n",
      "'Getting info for Elban'\n",
      "'Getting info for Leningradskiy'\n",
      "'Getting info for Amapá'\n",
      "'Getting info for Cape Town'\n",
      "'Getting info for Qaanaaq'\n",
      "'Getting info for Butaritari'\n",
      "'Getting info for Thompson'\n",
      "'Getting info for Xining'\n",
      "'Getting info for Geraldton'\n",
      "'Getting info for Betioky'\n",
      "'Getting info for Felanitx'\n",
      "'Getting info for San Benito'\n",
      "'Getting info for Tamiahua'\n",
      "'Getting info for Takoradze'\n",
      "'Getting info for Mar del Plata'\n",
      "'No records found'\n",
      "'Getting info for Ponta do Sol'\n",
      "'Getting info for Billings Metropolitan Area'\n",
      "\"Getting info for Sinegor'ye\"\n",
      "'Getting info for Port Elizabeth'\n",
      "'Getting info for Honiara'\n",
      "'Getting info for Port Hardy'\n",
      "'Getting info for Ambulu'\n",
      "'Getting info for Rafaela'\n",
      "'Getting info for Saint-Philippe'\n",
      "'Getting info for Saint-Joseph'\n",
      "'Getting info for Golden'\n",
      "'Getting info for Ushuaia'\n",
      "'Getting info for Busselton'\n",
      "'Getting info for Khatanga'\n",
      "'No records found'\n",
      "'Getting info for Lebu'\n",
      "'Getting info for New Norfolk'\n",
      "'Getting info for Richards Bay'\n",
      "'Getting info for Clyde River'\n",
      "'Getting info for Ribeira Grande'\n",
      "'Getting info for Wewak'\n",
      "'Getting info for Shahreza'\n",
      "'Getting info for Hilo'\n",
      "'Getting info for Verkhnevilyuysk'\n",
      "'Getting info for Montanha'\n",
      "'Getting info for Atuona'\n",
      "'Getting info for San Patricio'\n",
      "'Getting info for East London'\n",
      "'Getting info for Hamilton'\n",
      "'Getting info for Parry Sound'\n",
      "'Getting info for Avarua'\n",
      "'Getting info for Ilulissat'\n",
      "'Getting info for Mataura'\n",
      "'Getting info for Vaini'\n",
      "'Getting info for Cururupu'\n",
      "'Getting info for Bredasdorp'\n",
      "'Getting info for Pevek'\n",
      "'Getting info for Carnarvon'\n",
      "'Getting info for Cascais'\n",
      "'Getting info for Kapaa'\n",
      "'Getting info for Nikolskoye'\n",
      "'Getting info for Fortuna'\n",
      "'Getting info for Vaasa'\n",
      "'Getting info for Castro'\n",
      "'Getting info for Parfino'\n",
      "'Getting info for Bethel'\n",
      "'Getting info for Tazovsky'\n",
      "'Getting info for Semey'\n",
      "'No records found'\n",
      "'Getting info for Severo-Yeniseyskiy'\n",
      "'Getting info for The Pas'\n",
      "'Getting info for Mwanza'\n",
      "'No records found'\n",
      "'Getting info for Kaitangata'\n",
      "'Getting info for Macouria'\n",
      "'Getting info for Joshīmath'\n",
      "'Getting info for Port Blair'\n",
      "'Getting info for Mahébourg'\n",
      "'Getting info for Matagalpa'\n",
      "'Getting info for Chui'\n",
      "'Getting info for Sanok'\n",
      "'Getting info for Souillac'\n",
      "'Getting info for General Pico'\n",
      "'Getting info for Megion'\n",
      "'No records found'\n",
      "'Getting info for Kupang'\n",
      "'Getting info for Bāfq'\n",
      "'Getting info for Bartica'\n",
      "'Getting info for Chokwé'\n",
      "'Getting info for Bathsheba'\n",
      "'Getting info for Kloulklubed'\n",
      "\"Getting info for Severo-Kuril'sk\"\n",
      "'Getting info for Boende'\n",
      "'Getting info for Ahipara'\n",
      "'Getting info for Vardø'\n",
      "'Getting info for Korla'\n",
      "'No records found'\n",
      "'Getting info for Rome'\n",
      "'Getting info for Kieta'\n",
      "'Getting info for Concordia'\n",
      "'Getting info for Laguna'\n",
      "'Getting info for San Cristobal'\n",
      "'No records found'\n",
      "'Getting info for Preston'\n",
      "'Getting info for Sundargarh'\n",
      "'Getting info for Moïssala'\n",
      "'Getting info for Shahrud'\n",
      "'Getting info for Kavieng'\n",
      "'Getting info for Punta Arenas'\n",
      "'Getting info for Kiunga'\n",
      "'Getting info for Hobart'\n",
      "'Getting info for Te Anau'\n",
      "'Getting info for Margate'\n",
      "'Getting info for Bandarbeyla'\n",
      "'No records found'\n",
      "'Getting info for Tuatapere'\n",
      "'Getting info for Águilas'\n",
      "'Getting info for Clarence Town'\n",
      "'Getting info for Jamestown'\n",
      "'Getting info for Trairi'\n",
      "'No records found'\n",
      "'No records found'\n",
      "'Getting info for Provideniya'\n",
      "'Getting info for Namatanai'\n",
      "'Getting info for Jacareacanga'\n",
      "'Getting info for Puerto Ayora'\n",
      "'Getting info for Mbanza-Ngungu'\n",
      "'Getting info for Saint George'\n",
      "'Getting info for Saint Paul Harbor'\n",
      "'Getting info for Lavrentiya'\n",
      "'Getting info for Manjacaze'\n",
      "'Getting info for Newberry'\n",
      "'Getting info for Seoul'\n",
      "'Getting info for Nantucket'\n",
      "'Getting info for Nerchinskiy Zavod'\n",
      "'Getting info for Xapuri'\n",
      "'Getting info for Nanzhou'\n",
      "'Getting info for Aklavik'\n",
      "'Getting info for Río Gallegos'\n",
      "'No records found'\n",
      "'Getting info for Albeşti'\n",
      "'Getting info for George Town'\n",
      "'Getting info for Port Lincoln'\n",
      "'Getting info for Inhambane'\n",
      "'Getting info for Sunrise Manor'\n",
      "'Getting info for Upernavik'\n",
      "'Getting info for San Vicente'\n",
      "'Getting info for Broome'\n",
      "'Getting info for Aracaju'\n",
      "'Getting info for Chicama'\n",
      "'Getting info for Tuktoyaktuk'\n",
      "'Getting info for Pangkalanbuun'\n",
      "'Getting info for Luoyang'\n",
      "'Getting info for Imeni Poliny Osipenko'\n",
      "'No records found'\n",
      "'Getting info for Beringovskiy'\n",
      "'Getting info for Dikson'\n",
      "'Getting info for Alofi'\n",
      "'Getting info for Bilibino'\n",
      "\"Getting info for Chebarkul'\"\n",
      "'Getting info for Yellowknife'\n",
      "'Getting info for Saskylakh'\n",
      "'Getting info for Port-Cartier'\n",
      "'Getting info for Bambous Virieux'\n",
      "'Getting info for Clyde'\n",
      "'Getting info for Inírida'\n",
      "'Getting info for Hong Kong'\n",
      "'Getting info for Mataquescuintla'\n",
      "'Getting info for Diapaga'\n",
      "'Getting info for Hofn'\n",
      "'Getting info for Kindu'\n",
      "'No records found'\n",
      "'Getting info for Hithadhoo'\n",
      "'Getting info for Gayéri'\n",
      "'Getting info for Tabora'\n",
      "'Getting info for Huanan'\n",
      "'Getting info for Kyren'\n",
      "'Getting info for Kosa'\n",
      "'No records found'\n",
      "'Getting info for Snezhnogorsk'\n",
      "'Getting info for Makakilo City'\n",
      "'Getting info for Moses Lake'\n",
      "'Getting info for Kousséri'\n",
      "'Getting info for Yar-Sale'\n",
      "'Getting info for Lagoa'\n",
      "'Getting info for Lao Cai'\n",
      "'Getting info for Tiksi'\n",
      "'Getting info for Road Town'\n",
      "'Getting info for Lorengau'\n",
      "'Getting info for Manitouwadge'\n",
      "'Getting info for Ca Mau'\n",
      "'Getting info for Mehamn'\n",
      "'Getting info for Aykhal'\n",
      "'Getting info for Ballina'\n",
      "'Getting info for Ngama'\n",
      "'Getting info for Khovd'\n",
      "'No records found'\n",
      "'Getting info for La Ronge'\n",
      "'Getting info for Pisco'\n",
      "'Getting info for Yangi Marg`ilon'\n",
      "'Getting info for Hay River'\n",
      "'Getting info for São Filipe'\n",
      "'Getting info for Constitución'\n",
      "'Getting info for Alim'\n",
      "'Getting info for Touros'\n",
      "'Getting info for Omboué'\n",
      "'Getting info for Sabang'\n",
      "'Getting info for Cherbourg-en-Cotentin'\n",
      "'Getting info for Torbay'\n",
      "'Getting info for Bubaque'\n",
      "'No records found'\n",
      "'Getting info for Amazar'\n",
      "'Getting info for Mount Isa'\n",
      "'Getting info for Cabo San Lucas'\n",
      "'Getting info for Decatur'\n",
      "'Getting info for Bodden Town'\n",
      "'Getting info for Lucea'\n",
      "'Getting info for Tura'\n",
      "'Getting info for Naze'\n",
      "'Getting info for Hasaki'\n",
      "'Getting info for Ardakān'\n",
      "'Getting info for Ostrovnoy'\n",
      "'Getting info for São Luiz Gonzaga'\n",
      "'Getting info for Norman Wells'\n",
      "'Getting info for Tabuk'\n",
      "'Getting info for Sheregesh'\n",
      "'Getting info for Gütersloh'\n",
      "'Getting info for Maşyāf'\n",
      "'Getting info for Ust-Kuyga'\n",
      "'Getting info for Ixtapa'\n",
      "'Getting info for Wahpeton'\n",
      "'Getting info for Mmathubudukwane'\n",
      "'Getting info for Chumphon'\n",
      "'Getting info for Bengkulu'\n",
      "'Getting info for Milyutinskaya'\n",
      "'Getting info for Intipucá'\n",
      "'Getting info for Hermanus'\n",
      "'Getting info for Júlio de Castilhos'\n",
      "'Getting info for Labuan'\n",
      "'Getting info for Shenjiamen'\n",
      "'Getting info for Bayburt'\n",
      "'Getting info for Haines Junction'\n",
      "'Getting info for Nanortalik'\n",
      "'Getting info for Soyo'\n",
      "'Getting info for Nacogdoches'\n",
      "'Getting info for Uíge'\n",
      "'No records found'\n",
      "'Getting info for Arraial do Cabo'\n",
      "'Getting info for Husavik'\n",
      "'Getting info for Cayenne'\n",
      "'Getting info for Bilma'\n",
      "'Getting info for Ürümqi'\n",
      "'Getting info for Cooma'\n",
      "'Getting info for Tamworth'\n",
      "'Getting info for Kamina'\n",
      "'Getting info for Durban'\n",
      "'No records found'\n",
      "'Getting info for Nouadhibou'\n",
      "'Getting info for Fort Morgan'\n",
      "'Getting info for Paamiut'\n",
      "'No records found'\n",
      "'Getting info for Paranhos'\n",
      "'No records found'\n",
      "'No records found'\n",
      "'Getting info for Dunedin'\n",
      "'No records found'\n",
      "'Getting info for Sandwich'\n",
      "'No records found'\n",
      "'Getting info for Kenai'\n",
      "'No records found'\n",
      "'Getting info for Chiang Klang'\n",
      "'Getting info for Yertarskiy'\n",
      "'Getting info for Beloha'\n",
      "'Getting info for Batken'\n",
      "'Getting info for Saint-Pierre'\n",
      "'Getting info for Petropavlovsk-Kamchatskiy'\n",
      "'Getting info for Kalmunai'\n",
      "'Getting info for Kahului'\n",
      "'No records found'\n",
      "'Getting info for Lata'\n",
      "'Getting info for Taoudenni'\n",
      "'Getting info for Hirara'\n",
      "'Getting info for Egvekinot'\n",
      "'Getting info for Warrington'\n",
      "'Getting info for Kumul'\n",
      "'Getting info for Korsholm'\n",
      "'Getting info for Nishihara'\n",
      "'Getting info for Puerto Escondido'\n",
      "'Getting info for Isangel'\n",
      "'Getting info for Wieliczka'\n",
      "'Getting info for Talnakh'\n"
     ]
    },
    {
     "name": "stdout",
     "output_type": "stream",
     "text": [
      "'Getting info for Gladstone'\n",
      "'Getting info for Dolinsk'\n",
      "'No records found'\n",
      "'Getting info for Orchard Homes'\n",
      "'Getting info for Ovruch'\n",
      "'Getting info for Khorixas'\n",
      "'Getting info for Iquique'\n",
      "'Getting info for Yumen'\n",
      "'No records found'\n",
      "'Getting info for Ginir'\n",
      "'Getting info for Rørvik'\n",
      "'Getting info for Necochea'\n",
      "'Getting info for Kaka'\n",
      "'Getting info for Vestmannaeyjar'\n",
      "'Getting info for Salaverry'\n",
      "'No records found'\n",
      "'Getting info for Treinta y Tres'\n",
      "'Getting info for Sept-Îles'\n",
      "'Getting info for Havre-St-Pierre'\n",
      "'Getting info for Jijiang'\n",
      "'Getting info for Commerce'\n",
      "'Getting info for Province of Mantua'\n",
      "'Getting info for Diamantino'\n",
      "'Getting info for Tasiilaq'\n",
      "'Getting info for Channel-Port aux Basques'\n",
      "'Getting info for Frontera'\n",
      "'Getting info for Ancud'\n",
      "'Getting info for Sisimiut'\n",
      "'Getting info for Lompoc'\n",
      "'Getting info for Dedza'\n",
      "'Getting info for Kerema'\n",
      "'No records found'\n",
      "'Getting info for São Sepé'\n",
      "'Getting info for Sørland'\n",
      "'Getting info for Buala'\n",
      "'Getting info for Along'\n",
      "'Getting info for Broken Hill'\n",
      "'Getting info for Mēga'\n",
      "'Getting info for Hobyo'\n",
      "'Getting info for Ondjiva'\n",
      "'Getting info for Tilichiki'\n",
      "'Getting info for Bull Savanna'\n",
      "'Getting info for Reyes'\n",
      "'Getting info for Morehead'\n",
      "'Getting info for Ţahţā'\n",
      "'No records found'\n",
      "'Getting info for Tafresh'\n",
      "'Getting info for Elizabeth City'\n",
      "'Getting info for Ismailia'\n",
      "'Getting info for Kamaishi'\n",
      "'Getting info for Moba'\n",
      "'Getting info for Merrill'\n",
      "'No records found'\n",
      "'Getting info for Poum'\n",
      "'Getting info for Padang'\n",
      "'Getting info for Klaksvík'\n",
      "'Getting info for Black River'\n",
      "'Getting info for Phalaborwa'\n",
      "'Getting info for Kattivākkam'\n",
      "'Getting info for Krasnoarmeysk'\n",
      "'Getting info for Esperance'\n",
      "'Getting info for Istok'\n",
      "'Getting info for Plettenberg Bay'\n",
      "'Getting info for Kruisfontein'\n",
      "'Getting info for Upata'\n",
      "'Getting info for Izberbash'\n",
      "'Getting info for Wilmington'\n",
      "'Getting info for Airai'\n",
      "'Getting info for Vanavara'\n",
      "'Getting info for Iqaluit'\n",
      "'Getting info for Kailua'\n",
      "'Getting info for Berdigestyakh'\n",
      "'No records found'\n",
      "'Getting info for Thinadhoo'\n",
      "'Getting info for Vitim'\n",
      "'Getting info for Adrar'\n",
      "'Getting info for Prince George'\n",
      "'Getting info for Preeceville'\n",
      "'Getting info for Tautira'\n",
      "'Getting info for Tuy Hoa'\n",
      "'No records found'\n",
      "'Getting info for New Waterford'\n",
      "'Getting info for Omsukchan'\n",
      "\"Getting info for Oktyabr'skiy\"\n",
      "'Getting info for Salalah'\n",
      "'Getting info for Codrington'\n",
      "'Getting info for Barra Patuca'\n",
      "'Getting info for Mount Vernon'\n",
      "'Getting info for Kayes'\n",
      "'Getting info for Kishtwār'\n",
      "'Getting info for Bojnourd'\n",
      "'Getting info for Coquimbo'\n",
      "'Getting info for Belyy Yar'\n",
      "'Getting info for Flin Flon'\n",
      "'Getting info for Port Moresby'\n",
      "'Getting info for Lumby'\n",
      "'Getting info for Puerto Limón'\n",
      "'Getting info for Nome'\n",
      "'Getting info for Carutapera'\n",
      "'Getting info for Turan'\n",
      "'Getting info for Chadiza'\n",
      "'Getting info for Kiboga'\n",
      "'Getting info for Vao'\n",
      "'Getting info for Oparino'\n",
      "'Getting info for Rawson'\n",
      "'Getting info for Cidreira'\n",
      "'Getting info for Sanandij'\n",
      "'Getting info for Kapit'\n",
      "'Getting info for Vung Tau'\n",
      "'Getting info for Prince Rupert'\n",
      "'Getting info for Grindavik'\n",
      "'Getting info for Caravelas'\n",
      "'Getting info for İslahiye'\n",
      "'Getting info for Norsup'\n",
      "'Getting info for Stephenville'\n",
      "'Getting info for Cam Ranh'\n",
      "\"Getting info for Mezen'\"\n",
      "'Getting info for Asău'\n",
      "'No records found'\n",
      "'Getting info for Luanda'\n",
      "'Getting info for Amahai'\n",
      "'Getting info for Zhangye'\n",
      "'No records found'\n",
      "'Getting info for Cartagena'\n",
      "'Getting info for Hualmay'\n",
      "'Getting info for Marawi'\n",
      "'Getting info for Lázaro Cárdenas'\n",
      "'Getting info for Puqi'\n",
      "'Getting info for Santa Cruz de la Sierra'\n",
      "'Getting info for Thaba-Tseka'\n",
      "'Getting info for Huéscar'\n",
      "'Getting info for Katsuura'\n",
      "'Getting info for Proletariy'\n",
      "'Getting info for Itanagar'\n",
      "'Getting info for Loa Janan'\n",
      "'Getting info for Grand Island'\n",
      "'Getting info for Sur'\n",
      "'Getting info for Huarmey'\n",
      "'Getting info for Edgecumbe'\n",
      "'Getting info for Vaitape'\n",
      "'Getting info for Ihosy'\n",
      "'Getting info for Humberto de Campos'\n",
      "'Getting info for Santa Maria'\n",
      "'Getting info for Yashkino'\n",
      "'Getting info for Comodoro Rivadavia'\n",
      "'Getting info for Iralaya'\n",
      "'Getting info for Saint Anthony'\n",
      "'No records found'\n",
      "'Getting info for Rocha'\n",
      "'Getting info for Tshikapa'\n",
      "'Getting info for Qaqortoq'\n",
      "'Getting info for Port Hedland'\n",
      "'Getting info for Usakos'\n",
      "'Getting info for Methóni'\n",
      "'Getting info for Gambēla'\n",
      "'Getting info for Grand Gaube'\n",
      "'Getting info for Ugoofaaru'\n",
      "'Getting info for Kunduz'\n",
      "'Getting info for Donskoye'\n",
      "'Getting info for Mina'\n",
      "'Getting info for Greeley'\n",
      "'Getting info for Matagami'\n",
      "'Getting info for Aurillac'\n",
      "'Getting info for Sittwe'\n",
      "'Getting info for Guerrero Negro'\n",
      "'Getting info for Ngunguru'\n",
      "'Getting info for Faanui'\n",
      "'Getting info for Anan'\n",
      "'Getting info for Lumphat'\n",
      "'Getting info for Samarai'\n",
      "'Getting info for Micheweni'\n",
      "'Getting info for Hambantota'\n",
      "'Getting info for Roura'\n",
      "'Getting info for Santa Isabel Rio Negro'\n",
      "'No records found'\n",
      "'Getting info for Colón'\n",
      "'No records found'\n",
      "'Getting info for Morondava'\n",
      "'Getting info for Itarema'\n",
      "'Getting info for Lüderitz'\n",
      "'Getting info for Talcahuano'\n",
      "'Getting info for Kununurra'\n",
      "'Getting info for La Reforma'\n",
      "'Getting info for Shingū'\n",
      "'Getting info for Kodinsk'\n",
      "'No records found'\n",
      "'Getting info for Naryan-Mar'\n",
      "'Getting info for Chingirlau'\n",
      "'Getting info for Vostok'\n",
      "'Getting info for Bonavista'\n",
      "'Getting info for Mossamedes'\n",
      "'Getting info for Yulara'\n",
      "'Getting info for San Jose'\n",
      "'Getting info for Masvingo'\n",
      "'Getting info for Kaeo'\n",
      "'Getting info for Mmabatho'\n",
      "'Getting info for Fairbanks'\n",
      "'Getting info for Sitka'\n",
      "'Getting info for Halifax'\n",
      "'Getting info for Smithers'\n",
      "'Getting info for Ulaangom'\n",
      "'Getting info for Arlit'\n",
      "'Getting info for Eirunepé'\n",
      "'Getting info for Sterling'\n",
      "'Getting info for Saran'\n",
      "'Getting info for Matai'\n",
      "'Getting info for Namie'\n",
      "'Getting info for San Rafael'\n",
      "'Getting info for Kachīry'\n",
      "'Getting info for Usoke'\n",
      "'Getting info for Juneau'\n",
      "'Getting info for Ambovombe'\n",
      "'Getting info for Rossland'\n",
      "'Getting info for Kirakira'\n",
      "'Getting info for Falmouth'\n",
      "'Getting info for Savannah Bight'\n",
      "'Getting info for Roanoke Rapids'\n",
      "'Getting info for Abonnema'\n",
      "'Getting info for Antsohihy'\n",
      "'Getting info for Qixingtai'\n",
      "'Getting info for Buñol'\n",
      "'Getting info for Kuroiso'\n",
      "'Getting info for Jalingo'\n",
      "'Getting info for Auki'\n",
      "'Getting info for Coyhaique'\n",
      "'Getting info for Kiama'\n",
      "'Getting info for Wau'\n",
      "'Getting info for Ponta Delgada'\n",
      "'Getting info for Bosaso'\n",
      "'Getting info for Safita'\n",
      "'Getting info for Basco'\n",
      "'Getting info for Northam'\n",
      "'Getting info for Capitão Poço'\n",
      "'Getting info for Phaltan'\n",
      "'Getting info for Tongchuanshi'\n",
      "'Getting info for San Policarpo'\n",
      "'Getting info for Marabba'\n",
      "'Getting info for Antalaha'\n",
      "'Getting info for Ceyhan'\n",
      "'Getting info for Plesetsk'\n",
      "'Getting info for Ellisras'\n",
      "'Getting info for Saint-Augustin'\n",
      "'Getting info for Pingliang'\n",
      "'Getting info for Kingsville'\n",
      "'Getting info for Cherskiy'\n",
      "'Getting info for Florissant'\n",
      "'Getting info for Ossora'\n",
      "'Getting info for Goma'\n",
      "'Getting info for Muros'\n",
      "'Getting info for Maputo'\n",
      "'Getting info for Saldanha'\n",
      "'Getting info for Manakara'\n",
      "'Getting info for Yenagoa'\n",
      "'No records found'\n",
      "'Getting info for Yarmouth'\n",
      "'Getting info for Sigulda'\n",
      "'Getting info for Sātkhira'\n",
      "'Getting info for Concepción del Oro'\n",
      "'Getting info for Kavaratti'\n",
      "'Getting info for Aras'\n",
      "'No records found'\n",
      "'Getting info for Labuhan'\n",
      "'No records found'\n",
      "'Getting info for Pineville'\n",
      "'No records found'\n",
      "'Getting info for Dakar'\n",
      "'No records found'\n",
      "'Getting info for Cap Malheureux'\n",
      "'Getting info for Luk Pu'\n",
      "'Getting info for Fiesole'\n",
      "'Getting info for Bereket'\n",
      "'Getting info for Nísia Floresta'\n",
      "'Getting info for Healdsburg'\n",
      "'Getting info for Pochutla'\n",
      "'Getting info for Inuvik'\n",
      "'No records found'\n",
      "'Getting info for Pangnirtung'\n",
      "'Getting info for Zhezkazgan'\n",
      "'Getting info for Smoljan'\n",
      "'Getting info for Henties Bay'\n",
      "'Getting info for Roald'\n",
      "'Getting info for Winnemucca'\n",
      "'Getting info for Palmer'\n",
      "'No records found'\n",
      "'No records found'\n",
      "'Getting info for Nishifukuma'\n",
      "'Getting info for Olafsvik'\n",
      "'Getting info for San Quintín'\n",
      "'Getting info for Howard Springs'\n",
      "'Getting info for Raja'\n",
      "'Getting info for College'\n",
      "'Getting info for Bagan'\n",
      "'Getting info for Beidao'\n",
      "'Getting info for Menzelinsk'\n",
      "'Getting info for Visnes'\n",
      "'Getting info for Cardoso'\n",
      "'Getting info for Mount Gambier'\n"
     ]
    },
    {
     "name": "stdout",
     "output_type": "stream",
     "text": [
      "'Getting info for Poyarkovo'\n",
      "'Getting info for Pontianak'\n",
      "'Getting info for Biltine'\n",
      "'Getting info for Caruray'\n",
      "'No records found'\n",
      "'Getting info for Jagdalpur'\n",
      "'Getting info for Shimoda'\n",
      "'Getting info for Monte Carmelo'\n",
      "'Getting info for Los Llanos de Aridane'\n",
      "'Getting info for Marzuq'\n",
      "'Getting info for Tulsīpur'\n",
      "'Getting info for Kopervik'\n",
      "'Getting info for Villa Guerrero'\n",
      "'Getting info for Harper'\n",
      "'Getting info for Talara'\n",
      "'Getting info for Jacksonville'\n",
      "'No records found'\n",
      "'Getting info for Vila Velha'\n",
      "'Getting info for Opuwo'\n",
      "'Getting info for Nizhniy Kuranakh'\n",
      "'Getting info for Tessalit'\n",
      "'Getting info for Montepuez'\n",
      "'Getting info for Kidal'\n",
      "'Getting info for Praia da Vitória'\n",
      "'No records found'\n",
      "'Getting info for Saint-François'\n",
      "'Getting info for Wilmington Island'\n",
      "'Getting info for Derzhavīnsk'\n",
      "'Getting info for Cedar Lake'\n",
      "'Getting info for Fujin'\n",
      "'No records found'\n",
      "'Getting info for Springbok'\n",
      "'Getting info for Araouane'\n",
      "'Getting info for Muriti'\n",
      "'Getting info for Sidi Ali'\n",
      "'Getting info for Acri'\n"
     ]
    }
   ],
   "source": [
    "url = \"http://api.openweathermap.org/data/2.5/weather?\"\n",
    "cityObjs = []\n",
    "\n",
    "for city in cities:\n",
    "    query_url = url + \"appid=\" + weather_api_key + \"&q=\" + city\n",
    "    #print(query_url)\n",
    "    weather_response = requests.get(query_url)\n",
    "    weather_json = weather_response.json()\n",
    "    try:\n",
    "        cityName = weather_json['name']\n",
    "        cityNum = cities.index(city)\n",
    "        # latitude\n",
    "        cityLat = weather_json['coord']['lat']\n",
    "        # longitude\n",
    "        cityLon = weather_json['coord']['lon']\n",
    "        # max temp\n",
    "        maxTemp = weather_json['main']['temp_max']\n",
    "        # humidity\n",
    "        humidity = weather_json['main']['humidity']\n",
    "        # cloudiness\n",
    "        cloudiness = weather_json['clouds']['all']\n",
    "        # wind speed\n",
    "        speed = weather_json['wind']['speed']\n",
    "        # date\n",
    "        date = weather_json['dt']\n",
    "        cityObjs.append({\n",
    "            'Name' : cityName,\n",
    "            'Latitude' : cityLat,\n",
    "            'Longitude' : cityLon,\n",
    "            'Maximum Temperature' : maxTemp,\n",
    "            'Humidity' : humidity,\n",
    "            'Cloudiness' : cloudiness,\n",
    "            'Wind Speed' : speed,\n",
    "            'Date' : date\n",
    "        })\n",
    "        pprint(f\"Getting info for {cityName}\")\n",
    "    except KeyError:\n",
    "        pprint(\"No records found\")"
   ]
  },
  {
   "cell_type": "code",
   "execution_count": null,
   "metadata": {
    "scrolled": true
   },
   "outputs": [],
   "source": []
  },
  {
   "cell_type": "markdown",
   "metadata": {},
   "source": [
    "### Convert Raw Data to DataFrame\n",
    "* Export the city data into a .csv.\n",
    "* Display the DataFrame"
   ]
  },
  {
   "cell_type": "code",
   "execution_count": 5,
   "metadata": {},
   "outputs": [],
   "source": [
    "cityDF = pd.DataFrame(cityObjs)\n",
    "\n",
    "#cityDF\n",
    "cityDF.head()\n",
    "#cityDF.count()\n",
    "cityDF.to_csv(\"city_dataframe.csv\", encoding=\"utf-8\", index=False)\n",
    "#cityDFcsv = cityDF\n",
    "#cityDFcsv.to_csv(\"city_dataframe.csv\", encoding=\"utf-8\", index=False)"
   ]
  },
  {
   "cell_type": "code",
   "execution_count": null,
   "metadata": {},
   "outputs": [],
   "source": []
  },
  {
   "cell_type": "markdown",
   "metadata": {},
   "source": [
    "## Inspect the data and remove the cities where the humidity > 100%.\n",
    "----\n",
    "Skip this step if there are no cities that have humidity > 100%. "
   ]
  },
  {
   "cell_type": "code",
   "execution_count": 6,
   "metadata": {},
   "outputs": [
    {
     "data": {
      "text/html": [
       "<div>\n",
       "<style scoped>\n",
       "    .dataframe tbody tr th:only-of-type {\n",
       "        vertical-align: middle;\n",
       "    }\n",
       "\n",
       "    .dataframe tbody tr th {\n",
       "        vertical-align: top;\n",
       "    }\n",
       "\n",
       "    .dataframe thead th {\n",
       "        text-align: right;\n",
       "    }\n",
       "</style>\n",
       "<table border=\"1\" class=\"dataframe\">\n",
       "  <thead>\n",
       "    <tr style=\"text-align: right;\">\n",
       "      <th></th>\n",
       "      <th>Name</th>\n",
       "      <th>Latitude</th>\n",
       "      <th>Longitude</th>\n",
       "      <th>Maximum Temperature</th>\n",
       "      <th>Humidity</th>\n",
       "      <th>Cloudiness</th>\n",
       "      <th>Wind Speed</th>\n",
       "      <th>Date</th>\n",
       "    </tr>\n",
       "  </thead>\n",
       "  <tbody>\n",
       "    <tr>\n",
       "      <th>0</th>\n",
       "      <td>Zhigansk</td>\n",
       "      <td>66.7697</td>\n",
       "      <td>123.3711</td>\n",
       "      <td>290.60</td>\n",
       "      <td>73</td>\n",
       "      <td>5</td>\n",
       "      <td>0.89</td>\n",
       "      <td>1658946195</td>\n",
       "    </tr>\n",
       "    <tr>\n",
       "      <th>1</th>\n",
       "      <td>Bluff</td>\n",
       "      <td>-46.6000</td>\n",
       "      <td>168.3333</td>\n",
       "      <td>281.93</td>\n",
       "      <td>88</td>\n",
       "      <td>100</td>\n",
       "      <td>5.14</td>\n",
       "      <td>1658946196</td>\n",
       "    </tr>\n",
       "    <tr>\n",
       "      <th>2</th>\n",
       "      <td>São João da Barra</td>\n",
       "      <td>-21.6403</td>\n",
       "      <td>-41.0511</td>\n",
       "      <td>299.20</td>\n",
       "      <td>65</td>\n",
       "      <td>4</td>\n",
       "      <td>5.46</td>\n",
       "      <td>1658946059</td>\n",
       "    </tr>\n",
       "    <tr>\n",
       "      <th>3</th>\n",
       "      <td>Barrow</td>\n",
       "      <td>71.2906</td>\n",
       "      <td>-156.7887</td>\n",
       "      <td>274.00</td>\n",
       "      <td>97</td>\n",
       "      <td>100</td>\n",
       "      <td>6.03</td>\n",
       "      <td>1658945961</td>\n",
       "    </tr>\n",
       "    <tr>\n",
       "      <th>4</th>\n",
       "      <td>Rikitea</td>\n",
       "      <td>-23.1203</td>\n",
       "      <td>-134.9692</td>\n",
       "      <td>296.46</td>\n",
       "      <td>71</td>\n",
       "      <td>95</td>\n",
       "      <td>5.89</td>\n",
       "      <td>1658946076</td>\n",
       "    </tr>\n",
       "    <tr>\n",
       "      <th>...</th>\n",
       "      <td>...</td>\n",
       "      <td>...</td>\n",
       "      <td>...</td>\n",
       "      <td>...</td>\n",
       "      <td>...</td>\n",
       "      <td>...</td>\n",
       "      <td>...</td>\n",
       "      <td>...</td>\n",
       "    </tr>\n",
       "    <tr>\n",
       "      <th>572</th>\n",
       "      <td>Springbok</td>\n",
       "      <td>-29.6643</td>\n",
       "      <td>17.8865</td>\n",
       "      <td>283.95</td>\n",
       "      <td>42</td>\n",
       "      <td>0</td>\n",
       "      <td>1.46</td>\n",
       "      <td>1658946345</td>\n",
       "    </tr>\n",
       "    <tr>\n",
       "      <th>573</th>\n",
       "      <td>Araouane</td>\n",
       "      <td>18.9048</td>\n",
       "      <td>-3.5265</td>\n",
       "      <td>315.29</td>\n",
       "      <td>6</td>\n",
       "      <td>11</td>\n",
       "      <td>2.30</td>\n",
       "      <td>1658946345</td>\n",
       "    </tr>\n",
       "    <tr>\n",
       "      <th>574</th>\n",
       "      <td>Muriti</td>\n",
       "      <td>-1.9833</td>\n",
       "      <td>32.9167</td>\n",
       "      <td>296.44</td>\n",
       "      <td>62</td>\n",
       "      <td>88</td>\n",
       "      <td>3.07</td>\n",
       "      <td>1658946345</td>\n",
       "    </tr>\n",
       "    <tr>\n",
       "      <th>575</th>\n",
       "      <td>Sidi Ali</td>\n",
       "      <td>36.0998</td>\n",
       "      <td>0.4206</td>\n",
       "      <td>300.07</td>\n",
       "      <td>54</td>\n",
       "      <td>0</td>\n",
       "      <td>2.81</td>\n",
       "      <td>1658946346</td>\n",
       "    </tr>\n",
       "    <tr>\n",
       "      <th>576</th>\n",
       "      <td>Acri</td>\n",
       "      <td>39.4929</td>\n",
       "      <td>16.3838</td>\n",
       "      <td>301.84</td>\n",
       "      <td>35</td>\n",
       "      <td>0</td>\n",
       "      <td>1.54</td>\n",
       "      <td>1658946346</td>\n",
       "    </tr>\n",
       "  </tbody>\n",
       "</table>\n",
       "<p>577 rows × 8 columns</p>\n",
       "</div>"
      ],
      "text/plain": [
       "                  Name  Latitude  Longitude  Maximum Temperature  Humidity  \\\n",
       "0             Zhigansk   66.7697   123.3711               290.60        73   \n",
       "1                Bluff  -46.6000   168.3333               281.93        88   \n",
       "2    São João da Barra  -21.6403   -41.0511               299.20        65   \n",
       "3               Barrow   71.2906  -156.7887               274.00        97   \n",
       "4              Rikitea  -23.1203  -134.9692               296.46        71   \n",
       "..                 ...       ...        ...                  ...       ...   \n",
       "572          Springbok  -29.6643    17.8865               283.95        42   \n",
       "573           Araouane   18.9048    -3.5265               315.29         6   \n",
       "574             Muriti   -1.9833    32.9167               296.44        62   \n",
       "575           Sidi Ali   36.0998     0.4206               300.07        54   \n",
       "576               Acri   39.4929    16.3838               301.84        35   \n",
       "\n",
       "     Cloudiness  Wind Speed        Date  \n",
       "0             5        0.89  1658946195  \n",
       "1           100        5.14  1658946196  \n",
       "2             4        5.46  1658946059  \n",
       "3           100        6.03  1658945961  \n",
       "4            95        5.89  1658946076  \n",
       "..          ...         ...         ...  \n",
       "572           0        1.46  1658946345  \n",
       "573          11        2.30  1658946345  \n",
       "574          88        3.07  1658946345  \n",
       "575           0        2.81  1658946346  \n",
       "576           0        1.54  1658946346  \n",
       "\n",
       "[577 rows x 8 columns]"
      ]
     },
     "execution_count": 6,
     "metadata": {},
     "output_type": "execute_result"
    }
   ],
   "source": [
    "#loc?\n",
    "humidity99DF = cityDF.loc[cityDF['Humidity'] <= 100,:]\n",
    "humidity99DF\n",
    "#humidity99DF.count()"
   ]
  },
  {
   "cell_type": "code",
   "execution_count": 6,
   "metadata": {},
   "outputs": [
    {
     "data": {
      "text/plain": [
       "[]"
      ]
     },
     "execution_count": 6,
     "metadata": {},
     "output_type": "execute_result"
    }
   ],
   "source": [
    "#  Get the indices of cities that have humidity over 100%.\n",
    "cityDF.loc[cityDF['Humidity'] > 100,:].index.tolist()"
   ]
  },
  {
   "cell_type": "code",
   "execution_count": 7,
   "metadata": {},
   "outputs": [
    {
     "data": {
      "text/html": [
       "<div>\n",
       "<style scoped>\n",
       "    .dataframe tbody tr th:only-of-type {\n",
       "        vertical-align: middle;\n",
       "    }\n",
       "\n",
       "    .dataframe tbody tr th {\n",
       "        vertical-align: top;\n",
       "    }\n",
       "\n",
       "    .dataframe thead th {\n",
       "        text-align: right;\n",
       "    }\n",
       "</style>\n",
       "<table border=\"1\" class=\"dataframe\">\n",
       "  <thead>\n",
       "    <tr style=\"text-align: right;\">\n",
       "      <th></th>\n",
       "      <th>Name</th>\n",
       "      <th>Latitude</th>\n",
       "      <th>Longitude</th>\n",
       "      <th>Maximum Temperature</th>\n",
       "      <th>Humidity</th>\n",
       "      <th>Cloudiness</th>\n",
       "      <th>Wind Speed</th>\n",
       "      <th>Date</th>\n",
       "    </tr>\n",
       "  </thead>\n",
       "  <tbody>\n",
       "    <tr>\n",
       "      <th>0</th>\n",
       "      <td>Buala</td>\n",
       "      <td>-8.1450</td>\n",
       "      <td>159.5921</td>\n",
       "      <td>298.86</td>\n",
       "      <td>81</td>\n",
       "      <td>12</td>\n",
       "      <td>2.48</td>\n",
       "      <td>1658943677</td>\n",
       "    </tr>\n",
       "    <tr>\n",
       "      <th>1</th>\n",
       "      <td>Albany</td>\n",
       "      <td>42.6001</td>\n",
       "      <td>-73.9662</td>\n",
       "      <td>300.40</td>\n",
       "      <td>50</td>\n",
       "      <td>99</td>\n",
       "      <td>0.29</td>\n",
       "      <td>1658943479</td>\n",
       "    </tr>\n",
       "    <tr>\n",
       "      <th>2</th>\n",
       "      <td>Busselton</td>\n",
       "      <td>-33.6500</td>\n",
       "      <td>115.3333</td>\n",
       "      <td>284.75</td>\n",
       "      <td>75</td>\n",
       "      <td>85</td>\n",
       "      <td>3.81</td>\n",
       "      <td>1658943550</td>\n",
       "    </tr>\n",
       "    <tr>\n",
       "      <th>3</th>\n",
       "      <td>Yinchuan</td>\n",
       "      <td>38.4681</td>\n",
       "      <td>106.2731</td>\n",
       "      <td>297.78</td>\n",
       "      <td>34</td>\n",
       "      <td>1</td>\n",
       "      <td>4.46</td>\n",
       "      <td>1658943677</td>\n",
       "    </tr>\n",
       "    <tr>\n",
       "      <th>4</th>\n",
       "      <td>Hermanus</td>\n",
       "      <td>-34.4187</td>\n",
       "      <td>19.2345</td>\n",
       "      <td>285.82</td>\n",
       "      <td>76</td>\n",
       "      <td>0</td>\n",
       "      <td>5.57</td>\n",
       "      <td>1658943678</td>\n",
       "    </tr>\n",
       "  </tbody>\n",
       "</table>\n",
       "</div>"
      ],
      "text/plain": [
       "        Name  Latitude  Longitude  Maximum Temperature  Humidity  Cloudiness  \\\n",
       "0      Buala   -8.1450   159.5921               298.86        81          12   \n",
       "1     Albany   42.6001   -73.9662               300.40        50          99   \n",
       "2  Busselton  -33.6500   115.3333               284.75        75          85   \n",
       "3   Yinchuan   38.4681   106.2731               297.78        34           1   \n",
       "4   Hermanus  -34.4187    19.2345               285.82        76           0   \n",
       "\n",
       "   Wind Speed        Date  \n",
       "0        2.48  1658943677  \n",
       "1        0.29  1658943479  \n",
       "2        3.81  1658943550  \n",
       "3        4.46  1658943677  \n",
       "4        5.57  1658943678  "
      ]
     },
     "execution_count": 7,
     "metadata": {},
     "output_type": "execute_result"
    }
   ],
   "source": [
    "# Make a new DataFrame equal to the city data to drop all humidity outliers by index.\n",
    "# Passing \"inplace=False\" will make a copy of the city_data DataFrame, which we call \"clean_city_data\".\n",
    "cleanCityData = cityDF.loc[cityDF['Humidity'] <= 100,:]\n",
    "cleanCityData.head()"
   ]
  },
  {
   "cell_type": "code",
   "execution_count": 8,
   "metadata": {},
   "outputs": [],
   "source": [
    "lat = cleanCityData['Latitude']\n",
    "maxTemp = cleanCityData['Maximum Temperature']\n",
    "humid = cleanCityData['Humidity']\n",
    "clouds = cleanCityData['Cloudiness']\n",
    "windspd = cleanCityData['Wind Speed']"
   ]
  },
  {
   "cell_type": "markdown",
   "metadata": {},
   "source": [
    "## Plotting the Data\n",
    "* Use proper labeling of the plots using plot titles (including date of analysis) and axes labels.\n",
    "* Save the plotted figures as .pngs."
   ]
  },
  {
   "cell_type": "markdown",
   "metadata": {},
   "source": [
    "## Latitude vs. Temperature Plot"
   ]
  },
  {
   "cell_type": "code",
   "execution_count": 9,
   "metadata": {},
   "outputs": [
    {
     "data": {
      "image/png": "[encoded data removed]",
      "text/plain": [
       "<Figure size 432x288 with 1 Axes>"
      ]
     },
     "metadata": {
      "needs_background": "light"
     },
     "output_type": "display_data"
    }
   ],
   "source": [
    "plt.scatter(lat, maxTemp, c=\"red\")\n",
    "plt.title(f\"City Latitude vs. Max Temperature ({date})\")\n",
    "plt.xlabel(\"Latitude\")\n",
    "plt.ylabel(\"Max Temperature (deg. F)\")\n",
    "plt.grid()\n",
    "plt.show()"
   ]
  },
  {
   "cell_type": "code",
   "execution_count": 10,
   "metadata": {},
   "outputs": [
    {
     "name": "stdout",
     "output_type": "stream",
     "text": [
      "The above plot shows the latitude position of a city against the maximum temperature of that city in degrees Fahrenheit.\n"
     ]
    },
    {
     "data": {
      "text/plain": [
       "<Figure size 432x288 with 0 Axes>"
      ]
     },
     "metadata": {},
     "output_type": "display_data"
    }
   ],
   "source": [
    "plt.savefig(\"lat_vs_maxTemp.png\")\n",
    "print(\"The above plot shows the latitude position of a city against the maximum temperature of that city in degrees Fahrenheit.\")"
   ]
  },
  {
   "cell_type": "markdown",
   "metadata": {},
   "source": [
    "## Latitude vs. Humidity Plot"
   ]
  },
  {
   "cell_type": "code",
   "execution_count": 11,
   "metadata": {
    "scrolled": true
   },
   "outputs": [
    {
     "data": {
      "image/png": "[encoded data removed]",
      "text/plain": [
       "<Figure size 432x288 with 1 Axes>"
      ]
     },
     "metadata": {
      "needs_background": "light"
     },
     "output_type": "display_data"
    }
   ],
   "source": [
    "plt.scatter(lat, humid, c=\"blue\")\n",
    "plt.title(f\"City Latitude vs. Humidity ({date})\")\n",
    "plt.xlabel(\"Latitude\")\n",
    "plt.ylabel(\"Humidity (%)\")\n",
    "plt.grid()\n",
    "plt.show()"
   ]
  },
  {
   "cell_type": "code",
   "execution_count": 12,
   "metadata": {},
   "outputs": [
    {
     "name": "stdout",
     "output_type": "stream",
     "text": [
      "The above plot shows the latitude position of a city against the percentage humidity of that city.\n"
     ]
    },
    {
     "data": {
      "text/plain": [
       "<Figure size 432x288 with 0 Axes>"
      ]
     },
     "metadata": {},
     "output_type": "display_data"
    }
   ],
   "source": [
    "plt.savefig(\"lat_vs_humidity.png\")\n",
    "print(\"The above plot shows the latitude position of a city against the percentage humidity of that city.\")"
   ]
  },
  {
   "cell_type": "markdown",
   "metadata": {},
   "source": [
    "## Latitude vs. Cloudiness Plot"
   ]
  },
  {
   "cell_type": "code",
   "execution_count": 13,
   "metadata": {
    "scrolled": true
   },
   "outputs": [
    {
     "data": {
      "image/png": "[encoded data removed]",
      "text/plain": [
       "<Figure size 432x288 with 1 Axes>"
      ]
     },
     "metadata": {
      "needs_background": "light"
     },
     "output_type": "display_data"
    }
   ],
   "source": [
    "plt.scatter(lat, clouds, c=\"gray\")\n",
    "plt.title(f\"City Latitude vs. Cloudiness ({date})\")\n",
    "plt.xlabel(\"Latitude\")\n",
    "plt.ylabel(\"Cloudiness (%)\")\n",
    "plt.grid()\n",
    "plt.show()"
   ]
  },
  {
   "cell_type": "code",
   "execution_count": 14,
   "metadata": {},
   "outputs": [
    {
     "name": "stdout",
     "output_type": "stream",
     "text": [
      "The above plot shows the latitude position of a city against the percent cloudiness in that city.\n"
     ]
    },
    {
     "data": {
      "text/plain": [
       "<Figure size 432x288 with 0 Axes>"
      ]
     },
     "metadata": {},
     "output_type": "display_data"
    }
   ],
   "source": [
    "plt.savefig(\"lat_vs_cloudiness.png\")\n",
    "print(\"The above plot shows the latitude position of a city against the percent cloudiness in that city.\")"
   ]
  },
  {
   "cell_type": "markdown",
   "metadata": {},
   "source": [
    "## Latitude vs. Wind Speed Plot"
   ]
  },
  {
   "cell_type": "code",
   "execution_count": 15,
   "metadata": {
    "scrolled": true
   },
   "outputs": [
    {
     "data": {
      "image/png": "[encoded data removed]",
      "text/plain": [
       "<Figure size 432x288 with 1 Axes>"
      ]
     },
     "metadata": {
      "needs_background": "light"
     },
     "output_type": "display_data"
    }
   ],
   "source": [
    "plt.scatter(lat, windspd, c=\"green\")\n",
    "plt.title(f\"City Latitude vs. Wind Speed ({date})\")\n",
    "plt.xlabel(\"Latitude\")\n",
    "plt.ylabel(\"Wind Speed (mph)\")\n",
    "plt.grid()\n",
    "plt.show()"
   ]
  },
  {
   "cell_type": "code",
   "execution_count": 16,
   "metadata": {},
   "outputs": [
    {
     "name": "stdout",
     "output_type": "stream",
     "text": [
      "The above plot shows the latitude position of a city against the wind speed of that city in miles per hour.\n"
     ]
    },
    {
     "data": {
      "text/plain": [
       "<Figure size 432x288 with 0 Axes>"
      ]
     },
     "metadata": {},
     "output_type": "display_data"
    }
   ],
   "source": [
    "plt.savefig(\"lat_vs_windSpd.png\")\n",
    "print(\"The above plot shows the latitude position of a city against the wind speed of that city in miles per hour.\")"
   ]
  },
  {
   "cell_type": "markdown",
   "metadata": {},
   "source": [
    "## Linear Regression"
   ]
  },
  {
   "cell_type": "code",
   "execution_count": 17,
   "metadata": {},
   "outputs": [
    {
     "data": {
      "text/html": [
       "<div>\n",
       "<style scoped>\n",
       "    .dataframe tbody tr th:only-of-type {\n",
       "        vertical-align: middle;\n",
       "    }\n",
       "\n",
       "    .dataframe tbody tr th {\n",
       "        vertical-align: top;\n",
       "    }\n",
       "\n",
       "    .dataframe thead th {\n",
       "        text-align: right;\n",
       "    }\n",
       "</style>\n",
       "<table border=\"1\" class=\"dataframe\">\n",
       "  <thead>\n",
       "    <tr style=\"text-align: right;\">\n",
       "      <th></th>\n",
       "      <th>Name</th>\n",
       "      <th>Latitude</th>\n",
       "      <th>Longitude</th>\n",
       "      <th>Maximum Temperature</th>\n",
       "      <th>Humidity</th>\n",
       "      <th>Cloudiness</th>\n",
       "      <th>Wind Speed</th>\n",
       "      <th>Date</th>\n",
       "    </tr>\n",
       "  </thead>\n",
       "  <tbody>\n",
       "    <tr>\n",
       "      <th>1</th>\n",
       "      <td>Albany</td>\n",
       "      <td>42.6001</td>\n",
       "      <td>-73.9662</td>\n",
       "      <td>300.40</td>\n",
       "      <td>50</td>\n",
       "      <td>99</td>\n",
       "      <td>0.29</td>\n",
       "      <td>1658943479</td>\n",
       "    </tr>\n",
       "    <tr>\n",
       "      <th>3</th>\n",
       "      <td>Yinchuan</td>\n",
       "      <td>38.4681</td>\n",
       "      <td>106.2731</td>\n",
       "      <td>297.78</td>\n",
       "      <td>34</td>\n",
       "      <td>1</td>\n",
       "      <td>4.46</td>\n",
       "      <td>1658943677</td>\n",
       "    </tr>\n",
       "    <tr>\n",
       "      <th>9</th>\n",
       "      <td>Eureka</td>\n",
       "      <td>40.8021</td>\n",
       "      <td>-124.1637</td>\n",
       "      <td>292.15</td>\n",
       "      <td>82</td>\n",
       "      <td>60</td>\n",
       "      <td>1.79</td>\n",
       "      <td>1658943470</td>\n",
       "    </tr>\n",
       "    <tr>\n",
       "      <th>13</th>\n",
       "      <td>Ribeira Grande</td>\n",
       "      <td>38.5167</td>\n",
       "      <td>-28.7000</td>\n",
       "      <td>299.37</td>\n",
       "      <td>78</td>\n",
       "      <td>40</td>\n",
       "      <td>7.20</td>\n",
       "      <td>1658943681</td>\n",
       "    </tr>\n",
       "    <tr>\n",
       "      <th>16</th>\n",
       "      <td>Manaure</td>\n",
       "      <td>11.7751</td>\n",
       "      <td>-72.4445</td>\n",
       "      <td>305.24</td>\n",
       "      <td>51</td>\n",
       "      <td>60</td>\n",
       "      <td>7.36</td>\n",
       "      <td>1658943682</td>\n",
       "    </tr>\n",
       "  </tbody>\n",
       "</table>\n",
       "</div>"
      ],
      "text/plain": [
       "              Name  Latitude  Longitude  Maximum Temperature  Humidity  \\\n",
       "1           Albany   42.6001   -73.9662               300.40        50   \n",
       "3         Yinchuan   38.4681   106.2731               297.78        34   \n",
       "9           Eureka   40.8021  -124.1637               292.15        82   \n",
       "13  Ribeira Grande   38.5167   -28.7000               299.37        78   \n",
       "16         Manaure   11.7751   -72.4445               305.24        51   \n",
       "\n",
       "    Cloudiness  Wind Speed        Date  \n",
       "1           99        0.29  1658943479  \n",
       "3            1        4.46  1658943677  \n",
       "9           60        1.79  1658943470  \n",
       "13          40        7.20  1658943681  \n",
       "16          60        7.36  1658943682  "
      ]
     },
     "execution_count": 17,
     "metadata": {},
     "output_type": "execute_result"
    }
   ],
   "source": [
    "posCleanCityData = cleanCityData.loc[cleanCityData[\"Latitude\"]>=0,:]\n",
    "negCleanCityData = cleanCityData.loc[cleanCityData[\"Latitude\"]<=0,:]\n",
    "posCleanCityData.head()"
   ]
  },
  {
   "cell_type": "markdown",
   "metadata": {},
   "source": [
    "####  Northern Hemisphere - Max Temp vs. Latitude Linear Regression"
   ]
  },
  {
   "cell_type": "code",
   "execution_count": 18,
   "metadata": {
    "scrolled": true
   },
   "outputs": [
    {
     "name": "stdout",
     "output_type": "stream",
     "text": [
      "The r-squared is: 0.4898920723786767\n"
     ]
    },
    {
     "data": {
      "image/png": "[encoded data removed]",
      "text/plain": [
       "<Figure size 432x288 with 1 Axes>"
      ]
     },
     "metadata": {
      "needs_background": "light"
     },
     "output_type": "display_data"
    },
    {
     "name": "stdout",
     "output_type": "stream",
     "text": [
      "The plot regression describes the relationship between latitude and max temperature; there is a negative correlation because higher latitudes generally correlate to lower maximum temperatures.\n"
     ]
    },
    {
     "data": {
      "image/png": "[encoded data removed]",
      "text/plain": [
       "<Figure size 432x288 with 1 Axes>"
      ]
     },
     "metadata": {
      "needs_background": "light"
     },
     "output_type": "display_data"
    }
   ],
   "source": [
    "posLat = posCleanCityData[\"Latitude\"]\n",
    "maxTemp = posCleanCityData[\"Maximum Temperature\"]\n",
    "x_values = posLat\n",
    "y_values = maxTemp\n",
    "(slope, intercept, rvalue, pvalue, stderr) = linregress(x_values, y_values)\n",
    "regress_values = x_values * slope + intercept\n",
    "line_eq = \"y = \" + str(round(slope,2)) + \"x + \" + str(round(intercept,2))\n",
    "plt.scatter(x_values,y_values, c=\"orange\")\n",
    "plt.plot(x_values,regress_values,\"r-\")\n",
    "#plt.annotate(line_eq,(0,50),fontsize=15,color=\"red\")\n",
    "plt.xlabel('Latitude')\n",
    "plt.ylabel('Max Temperature (deg. F)')\n",
    "print(f\"The r-squared is: {rvalue**2}\")\n",
    "plt.show()\n",
    "plt.annotate(line_eq,(0,50),fontsize=15,color=\"red\")\n",
    "plt.savefig(\"poslat_vs_maxtemp.png\")\n",
    "print(\"The plot regression describes the relationship between latitude and max temperature; there is a negative correlation because higher latitudes generally correlate to lower maximum temperatures.\")"
   ]
  },
  {
   "cell_type": "markdown",
   "metadata": {},
   "source": [
    "####  Southern Hemisphere - Max Temp vs. Latitude Linear Regression"
   ]
  },
  {
   "cell_type": "code",
   "execution_count": 19,
   "metadata": {},
   "outputs": [
    {
     "name": "stdout",
     "output_type": "stream",
     "text": [
      "The r-squared is: 0.5086116746834246\n"
     ]
    },
    {
     "data": {
      "image/png": "[encoded data removed]",
      "text/plain": [
       "<Figure size 432x288 with 1 Axes>"
      ]
     },
     "metadata": {
      "needs_background": "light"
     },
     "output_type": "display_data"
    },
    {
     "name": "stdout",
     "output_type": "stream",
     "text": [
      "The plot regression describes the relationship between latitude and max temperature; there is a positive correlation because higher latitudes below zero generally correlate to higher maximum temperatures.\n"
     ]
    },
    {
     "data": {
      "image/png": "[encoded data removed]",
      "text/plain": [
       "<Figure size 432x288 with 1 Axes>"
      ]
     },
     "metadata": {
      "needs_background": "light"
     },
     "output_type": "display_data"
    }
   ],
   "source": [
    "negLat = negCleanCityData[\"Latitude\"]\n",
    "maxTemp = negCleanCityData[\"Maximum Temperature\"]\n",
    "x_values = negLat\n",
    "y_values = maxTemp\n",
    "(slope, intercept, rvalue, pvalue, stderr) = linregress(x_values, y_values)\n",
    "regress_values = x_values * slope + intercept\n",
    "line_eq = \"y = \" + str(round(slope,2)) + \"x + \" + str(round(intercept,2))\n",
    "plt.scatter(x_values,y_values, c=\"yellow\")\n",
    "plt.plot(x_values,regress_values,\"r-\")\n",
    "#plt.annotate(line_eq,(0,50),fontsize=15,color=\"red\")\n",
    "plt.xlabel('Latitude')\n",
    "plt.ylabel('Max Temperature (deg. F)')\n",
    "print(f\"The r-squared is: {rvalue**2}\")\n",
    "plt.show()\n",
    "plt.annotate(line_eq,(0,50),fontsize=15,color=\"red\")\n",
    "plt.savefig(\"neglat_vs_maxTemp.png\")\n",
    "print(\"The plot regression describes the relationship between latitude and max temperature; there is a positive correlation because higher latitudes below zero generally correlate to higher maximum temperatures.\")"
   ]
  },
  {
   "cell_type": "markdown",
   "metadata": {},
   "source": [
    "####  Northern Hemisphere - Humidity (%) vs. Latitude Linear Regression"
   ]
  },
  {
   "cell_type": "code",
   "execution_count": 20,
   "metadata": {},
   "outputs": [
    {
     "name": "stdout",
     "output_type": "stream",
     "text": [
      "The r-squared is: 0.011236953828075559\n"
     ]
    },
    {
     "data": {
      "image/png": "[encoded data removed]",
      "text/plain": [
       "<Figure size 432x288 with 1 Axes>"
      ]
     },
     "metadata": {
      "needs_background": "light"
     },
     "output_type": "display_data"
    },
    {
     "name": "stdout",
     "output_type": "stream",
     "text": [
      "The plot regression describes the relationship between latitude and humidity; there seems to be a slight negative relation for the two.\n"
     ]
    },
    {
     "data": {
      "image/png": "[encoded data removed]",
      "text/plain": [
       "<Figure size 432x288 with 1 Axes>"
      ]
     },
     "metadata": {
      "needs_background": "light"
     },
     "output_type": "display_data"
    }
   ],
   "source": [
    "posLat = posCleanCityData[\"Latitude\"]\n",
    "humidity = posCleanCityData[\"Humidity\"]\n",
    "x_values = posLat\n",
    "y_values = humidity\n",
    "(slope, intercept, rvalue, pvalue, stderr) = linregress(x_values, y_values)\n",
    "regress_values = x_values * slope + intercept\n",
    "line_eq = \"y = \" + str(round(slope,2)) + \"x + \" + str(round(intercept,2))\n",
    "plt.scatter(x_values,y_values, c=\"teal\")\n",
    "plt.plot(x_values,regress_values,\"r-\")\n",
    "#plt.annotate(line_eq,(0,50),fontsize=15,color=\"red\")\n",
    "plt.xlabel('Latitude')\n",
    "plt.ylabel('Humidity (%)')\n",
    "print(f\"The r-squared is: {rvalue**2}\")\n",
    "plt.show()\n",
    "plt.annotate(line_eq,(0,50),fontsize=15,color=\"red\")\n",
    "plt.savefig(\"poslat_vs_humidity.png\")\n",
    "print(\"The plot regression describes the relationship between latitude and humidity; there seems to be a slight negative relation for the two.\")"
   ]
  },
  {
   "cell_type": "markdown",
   "metadata": {},
   "source": [
    "####  Southern Hemisphere - Humidity (%) vs. Latitude Linear Regression"
   ]
  },
  {
   "cell_type": "code",
   "execution_count": 21,
   "metadata": {},
   "outputs": [
    {
     "name": "stdout",
     "output_type": "stream",
     "text": [
      "The r-squared is: 0.029748335340270663\n"
     ]
    },
    {
     "data": {
      "image/png": "[encoded data removed]",
      "text/plain": [
       "<Figure size 432x288 with 1 Axes>"
      ]
     },
     "metadata": {
      "needs_background": "light"
     },
     "output_type": "display_data"
    },
    {
     "name": "stdout",
     "output_type": "stream",
     "text": [
      "The plot regression describes the relationship between latitude and humidity; there seems to be a negative correlation between latitude below 0 and humidity, so higher latitude corresopnds to lower humidity.\n"
     ]
    },
    {
     "data": {
      "image/png": "[encoded data removed]",
      "text/plain": [
       "<Figure size 432x288 with 1 Axes>"
      ]
     },
     "metadata": {
      "needs_background": "light"
     },
     "output_type": "display_data"
    }
   ],
   "source": [
    "negLat = negCleanCityData[\"Latitude\"]\n",
    "humidity = negCleanCityData[\"Humidity\"]\n",
    "x_values = negLat\n",
    "y_values = humidity\n",
    "(slope, intercept, rvalue, pvalue, stderr) = linregress(x_values, y_values)\n",
    "regress_values = x_values * slope + intercept\n",
    "line_eq = \"y = \" + str(round(slope,2)) + \"x + \" + str(round(intercept,2))\n",
    "plt.scatter(x_values,y_values, c=\"blue\")\n",
    "plt.plot(x_values,regress_values,\"r-\")\n",
    "#plt.annotate(line_eq,(0,50),fontsize=15,color=\"red\")\n",
    "plt.xlabel('Latitude')\n",
    "plt.ylabel('Humidity (%)')\n",
    "print(f\"The r-squared is: {rvalue**2}\")\n",
    "plt.show()\n",
    "plt.annotate(line_eq,(0,50),fontsize=15,color=\"red\")\n",
    "plt.savefig(\"neglat_vs_Humidities y.png\")\n",
    "print(\"The plot regression describes the relationship between latitude and humidity; there seems to be a negative correlation between latitude below 0 and humidity, so higher latitude corresopnds to lower humidity.\")"
   ]
  },
  {
   "cell_type": "markdown",
   "metadata": {},
   "source": [
    "####  Northern Hemisphere - Cloudiness (%) vs. Latitude Linear Regression"
   ]
  },
  {
   "cell_type": "code",
   "execution_count": 22,
   "metadata": {},
   "outputs": [
    {
     "name": "stdout",
     "output_type": "stream",
     "text": [
      "The r-squared is: 0.0007069469931475453\n"
     ]
    },
    {
     "data": {
      "image/png": "[encoded data removed]",
      "text/plain": [
       "<Figure size 432x288 with 1 Axes>"
      ]
     },
     "metadata": {
      "needs_background": "light"
     },
     "output_type": "display_data"
    },
    {
     "name": "stdout",
     "output_type": "stream",
     "text": [
      "The plot regression describes the relationship between latitude and cloudiness; there appears to be a negative correlation due to the line of best fit, but there truly seems to be no correlation when looking at individual datapoints.\n"
     ]
    },
    {
     "data": {
      "image/png": "[encoded data removed]",
      "text/plain": [
       "<Figure size 432x288 with 1 Axes>"
      ]
     },
     "metadata": {
      "needs_background": "light"
     },
     "output_type": "display_data"
    }
   ],
   "source": [
    "posLat = posCleanCityData[\"Latitude\"]\n",
    "clouds = posCleanCityData[\"Cloudiness\"]\n",
    "x_values = posLat\n",
    "y_values = clouds\n",
    "(slope, intercept, rvalue, pvalue, stderr) = linregress(x_values, y_values)\n",
    "regress_values = x_values * slope + intercept\n",
    "line_eq = \"y = \" + str(round(slope,2)) + \"x + \" + str(round(intercept,2))\n",
    "plt.scatter(x_values,y_values, c=\"black\")\n",
    "plt.plot(x_values,regress_values,\"r-\")\n",
    "#plt.annotate(line_eq,(0,50),fontsize=15,color=\"red\")\n",
    "plt.xlabel('Latitude')\n",
    "plt.ylabel('Cloudiness (%)')\n",
    "print(f\"The r-squared is: {rvalue**2}\")\n",
    "plt.show()\n",
    "plt.annotate(line_eq,(0,50),fontsize=15,color=\"red\")\n",
    "plt.savefig(\"poslat_vs_cloud.png\")\n",
    "print(\"The plot regression describes the relationship between latitude and cloudiness; there appears to be a negative correlation due to the line of best fit, but there truly seems to be no correlation when looking at individual datapoints.\")"
   ]
  },
  {
   "cell_type": "markdown",
   "metadata": {},
   "source": [
    "####  Southern Hemisphere - Cloudiness (%) vs. Latitude Linear Regression"
   ]
  },
  {
   "cell_type": "code",
   "execution_count": 23,
   "metadata": {},
   "outputs": [
    {
     "name": "stdout",
     "output_type": "stream",
     "text": [
      "The r-squared is: 0.002984208576788919\n"
     ]
    },
    {
     "data": {
      "image/png": "[encoded data removed]",
      "text/plain": [
       "<Figure size 432x288 with 1 Axes>"
      ]
     },
     "metadata": {
      "needs_background": "light"
     },
     "output_type": "display_data"
    },
    {
     "name": "stdout",
     "output_type": "stream",
     "text": [
      "The plot regression describes the relationship between latitude and cloudiness; higher latitude below 0 (less negative) corresponds to more cloudiness.\n"
     ]
    },
    {
     "data": {
      "image/png": "[encoded data removed]",
      "text/plain": [
       "<Figure size 432x288 with 1 Axes>"
      ]
     },
     "metadata": {
      "needs_background": "light"
     },
     "output_type": "display_data"
    }
   ],
   "source": [
    "negLat = negCleanCityData[\"Latitude\"]\n",
    "clouds = negCleanCityData[\"Cloudiness\"]\n",
    "x_values = negLat\n",
    "y_values = clouds\n",
    "(slope, intercept, rvalue, pvalue, stderr) = linregress(x_values, y_values)\n",
    "regress_values = x_values * slope + intercept\n",
    "line_eq = \"y = \" + str(round(slope,2)) + \"x + \" + str(round(intercept,2))\n",
    "plt.scatter(x_values,y_values, c=\"purple\")\n",
    "plt.plot(x_values,regress_values,\"r-\")\n",
    "#plt.annotate(line_eq,(0,50),fontsize=15,color=\"red\")\n",
    "plt.xlabel('Latitude')\n",
    "plt.ylabel('Cloudiness (%)')\n",
    "print(f\"The r-squared is: {rvalue**2}\")\n",
    "plt.show()\n",
    "plt.annotate(line_eq,(0,50),fontsize=15,color=\"red\")\n",
    "plt.savefig(\"neglat_vs_cloud.png\")\n",
    "print(\"The plot regression describes the relationship between latitude and cloudiness; higher latitude below 0 (less negative) corresponds to more cloudiness.\")"
   ]
  },
  {
   "cell_type": "markdown",
   "metadata": {},
   "source": [
    "####  Northern Hemisphere - Wind Speed (mph) vs. Latitude Linear Regression"
   ]
  },
  {
   "cell_type": "code",
   "execution_count": 24,
   "metadata": {},
   "outputs": [
    {
     "name": "stdout",
     "output_type": "stream",
     "text": [
      "The r-squared is: 0.0002323866096446418\n"
     ]
    },
    {
     "data": {
      "image/png": "[encoded data removed]",
      "text/plain": [
       "<Figure size 432x288 with 1 Axes>"
      ]
     },
     "metadata": {
      "needs_background": "light"
     },
     "output_type": "display_data"
    },
    {
     "name": "stdout",
     "output_type": "stream",
     "text": [
      "The plot regression describes the relationship between latitude and wind; there appears to be a positive correlation between the two.\n"
     ]
    },
    {
     "data": {
      "image/png": "[encoded data removed]",
      "text/plain": [
       "<Figure size 432x288 with 1 Axes>"
      ]
     },
     "metadata": {
      "needs_background": "light"
     },
     "output_type": "display_data"
    }
   ],
   "source": [
    "posLat = posCleanCityData[\"Latitude\"]\n",
    "windspd = posCleanCityData[\"Wind Speed\"]\n",
    "x_values = posLat\n",
    "y_values = windspd\n",
    "(slope, intercept, rvalue, pvalue, stderr) = linregress(x_values, y_values)\n",
    "regress_values = x_values * slope + intercept\n",
    "line_eq = \"y = \" + str(round(slope,2)) + \"x + \" + str(round(intercept,2))\n",
    "plt.scatter(x_values,y_values, c=\"green\")\n",
    "plt.plot(x_values,regress_values,\"r-\")\n",
    "#plt.annotate(line_eq,(0,50),fontsize=15,color=\"red\")\n",
    "plt.xlabel('Latitude')\n",
    "plt.ylabel('Wind Speed')\n",
    "print(f\"The r-squared is: {rvalue**2}\")\n",
    "plt.show()\n",
    "plt.annotate(line_eq,(0,50),fontsize=15,color=\"red\")\n",
    "plt.savefig(\"poslat_vs_windspd.png\")\n",
    "print(\"The plot regression describes the relationship between latitude and wind; there appears to be a positive correlation between the two.\")"
   ]
  },
  {
   "cell_type": "markdown",
   "metadata": {},
   "source": [
    "####  Southern Hemisphere - Wind Speed (mph) vs. Latitude Linear Regression"
   ]
  },
  {
   "cell_type": "code",
   "execution_count": 25,
   "metadata": {
    "scrolled": true
   },
   "outputs": [
    {
     "name": "stdout",
     "output_type": "stream",
     "text": [
      "The r-squared is: 0.00034130741730663603\n"
     ]
    },
    {
     "data": {
      "image/png": "[encoded data removed]",
      "text/plain": [
       "<Figure size 432x288 with 1 Axes>"
      ]
     },
     "metadata": {
      "needs_background": "light"
     },
     "output_type": "display_data"
    },
    {
     "name": "stdout",
     "output_type": "stream",
     "text": [
      "The plot regression describes the relationship between latitude and wind speed; higher latitude below 0 (less negative) tends to have lower humidity.\n"
     ]
    },
    {
     "data": {
      "image/png": "[encoded data removed]",
      "text/plain": [
       "<Figure size 432x288 with 1 Axes>"
      ]
     },
     "metadata": {
      "needs_background": "light"
     },
     "output_type": "display_data"
    }
   ],
   "source": [
    "negLat = negCleanCityData[\"Latitude\"]\n",
    "windspd = negCleanCityData[\"Wind Speed\"]\n",
    "x_values = negLat\n",
    "y_values = windspd\n",
    "(slope, intercept, rvalue, pvalue, stderr) = linregress(x_values, y_values)\n",
    "regress_values = x_values * slope + intercept\n",
    "line_eq = \"y = \" + str(round(slope,2)) + \"x + \" + str(round(intercept,2))\n",
    "plt.scatter(x_values,y_values, c=\"pink\")\n",
    "plt.plot(x_values,regress_values,\"r-\")\n",
    "#plt.annotate(line_eq,(0,50),fontsize=15,color=\"red\")\n",
    "plt.xlabel('Latitude')\n",
    "plt.ylabel('Wind Speed (mph)')\n",
    "print(f\"The r-squared is: {rvalue**2}\")\n",
    "plt.show()\n",
    "plt.annotate(line_eq,(0,50),fontsize=15,color=\"red\")\n",
    "plt.savefig(\"neglat_vs_windspd.png\")\n",
    "print(\"The plot regression describes the relationship between latitude and wind speed; higher latitude below 0 (less negative) tends to have lower humidity.\")"
   ]
  },
  {
   "cell_type": "code",
   "execution_count": null,
   "metadata": {},
   "outputs": [],
   "source": []
  }
 ],
 "metadata": {
  "anaconda-cloud": {},
  "kernel_info": {
   "name": "python3"
  },
  "kernelspec": {
   "display_name": "Python 3 (ipykernel)",
   "language": "python",
   "name": "python3"
  },
  "language_info": {
   "codemirror_mode": {
    "name": "ipython",
    "version": 3
   },
   "file_extension": ".py",
   "mimetype": "text/x-python",
   "name": "python",
   "nbconvert_exporter": "python",
   "pygments_lexer": "ipython3",
   "version": "3.9.12"
  },
  "latex_envs": {
   "LaTeX_envs_menu_present": true,
   "autoclose": false,
   "autocomplete": true,
   "bibliofile": "biblio.bib",
   "cite_by": "apalike",
   "current_citInitial": 1,
   "eqLabelWithNumbers": true,
   "eqNumInitial": 1,
   "hotkeys": {
    "equation": "Ctrl-E",
    "itemize": "Ctrl-I"
   },
   "labels_anchors": false,
   "latex_user_defs": false,
   "report_style_numbering": false,
   "user_envs_cfg": false
  },
  "nteract": {
   "version": "0.12.3"
  }
 },
 "nbformat": 4,
 "nbformat_minor": 2
}
