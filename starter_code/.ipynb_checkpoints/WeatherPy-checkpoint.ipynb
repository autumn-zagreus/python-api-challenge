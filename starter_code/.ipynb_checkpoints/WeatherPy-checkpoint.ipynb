{
 "cells": [
  {
   "cell_type": "markdown",
   "metadata": {},
   "source": [
    "# WeatherPy\n",
    "----\n",
    "\n",
    "#### Note\n",
    "* Instructions have been included for each segment. You do not have to follow them exactly, but they are included to help you think through the steps."
   ]
  },
  {
   "cell_type": "code",
   "execution_count": 8,
   "metadata": {
    "scrolled": true
   },
   "outputs": [],
   "source": [
    "# Dependencies and Setup\n",
    "import matplotlib.pyplot as plt\n",
    "import pandas as pd\n",
    "import numpy as np\n",
    "import requests\n",
    "import time\n",
    "from scipy.stats import linregress\n",
    "from pprint import pprint\n",
    "\n",
    "# Import API key\n",
    "from api_keys import weather_api_key\n",
    "\n",
    "# Incorporated citipy to determine city based on latitude and longitude\n",
    "from citipy import citipy\n",
    "\n",
    "# Output File (CSV)\n",
    "output_data_file = \"output_data/cities.csv\"\n",
    "\n",
    "# Range of latitudes and longitudes\n",
    "lat_range = (-90, 90)\n",
    "lng_range = (-180, 180)"
   ]
  },
  {
   "cell_type": "markdown",
   "metadata": {},
   "source": [
    "## Generate Cities List"
   ]
  },
  {
   "cell_type": "code",
   "execution_count": 9,
   "metadata": {},
   "outputs": [
    {
     "data": {
      "text/plain": [
       "629"
      ]
     },
     "execution_count": 9,
     "metadata": {},
     "output_type": "execute_result"
    }
   ],
   "source": [
    "# List for holding lat_lngs and cities\n",
    "lat_lngs = []\n",
    "cities = []\n",
    "\n",
    "# Create a set of random lat and lng combinations\n",
    "lats = np.random.uniform(lat_range[0], lat_range[1], size=1500)\n",
    "lngs = np.random.uniform(lng_range[0], lng_range[1], size=1500)\n",
    "lat_lngs = zip(lats, lngs)\n",
    "\n",
    "# Identify nearest city for each lat, lng combination\n",
    "for lat_lng in lat_lngs:\n",
    "    city = citipy.nearest_city(lat_lng[0], lat_lng[1]).city_name\n",
    "    \n",
    "    # If the city is unique, then add it to a our cities list\n",
    "    if city not in cities:\n",
    "        cities.append(city)\n",
    "        \n",
    "# Print the city count to confirm sufficient count\n",
    "len(cities)"
   ]
  },
  {
   "cell_type": "markdown",
   "metadata": {},
   "source": [
    "### Perform API Calls\n",
    "* Perform a weather check on each city using a series of successive API calls.\n",
    "* Include a print log of each city as it'sbeing processed (with the city number and city name).\n"
   ]
  },
  {
   "cell_type": "code",
   "execution_count": 17,
   "metadata": {},
   "outputs": [
    {
     "name": "stdout",
     "output_type": "stream",
     "text": [
      "'Getting info for Cape Town'\n",
      "'Getting info for Pevek'\n",
      "'Getting info for Tuatapere'\n",
      "'Getting info for Chifeng'\n",
      "'Getting info for Srednekolymsk'\n",
      "'Getting info for Crestview'\n",
      "'Getting info for Southbridge'\n",
      "'Getting info for Port Alfred'\n",
      "'Getting info for Garissa'\n",
      "'Getting info for Klaksvík'\n",
      "'Getting info for Mar del Plata'\n",
      "'Getting info for Tasiilaq'\n",
      "'Getting info for Hailey'\n",
      "'Getting info for Geraldton'\n",
      "'Getting info for Antalaha'\n",
      "'No records found'\n",
      "'Getting info for Hithadhoo'\n",
      "'Getting info for Punta Arenas'\n",
      "'Getting info for Avarua'\n",
      "'Getting info for Carauari'\n",
      "'Getting info for Vestmannaeyjar'\n",
      "'Getting info for Rocha'\n",
      "'Getting info for Mataura'\n",
      "'Getting info for Hong Kong'\n",
      "'Getting info for Kanzakimachi-kanzaki'\n",
      "'Getting info for Verkhnyaya Inta'\n",
      "'Getting info for Santa Maria da Boa Vista'\n",
      "'Getting info for Manaus'\n",
      "'Getting info for Polignano a Mare'\n",
      "'Getting info for Naze'\n",
      "'Getting info for Kirakira'\n",
      "'Getting info for Bluff'\n",
      "'Getting info for Nikolskoye'\n",
      "'No records found'\n",
      "'Getting info for Vostok'\n",
      "'Getting info for Sept-Îles'\n",
      "'Getting info for Havelock'\n",
      "'Getting info for Ostrovnoy'\n",
      "'Getting info for Kisangani'\n",
      "'No records found'\n",
      "'Getting info for Chui'\n",
      "'No records found'\n",
      "'Getting info for Saint-Pierre'\n",
      "'Getting info for Kaitangata'\n",
      "'Getting info for Busselton'\n",
      "'Getting info for Alamosa'\n",
      "'Getting info for Puerto Ayora'\n",
      "'Getting info for Saryg-Sep'\n",
      "'Getting info for Padang'\n",
      "'Getting info for New Norfolk'\n",
      "'Getting info for Mayumba'\n",
      "'Getting info for Rikitea'\n",
      "'Getting info for Faanui'\n",
      "'Getting info for Albany'\n",
      "'Getting info for Saint Paul Harbor'\n",
      "'Getting info for Ponta do Sol'\n",
      "'Getting info for Peace River'\n",
      "'Getting info for Dabat'\n",
      "'Getting info for San Quintín'\n",
      "'Getting info for Upernavik'\n",
      "'Getting info for San Isidro'\n",
      "'Getting info for Lagan'\n",
      "'No records found'\n",
      "'Getting info for Ketchikan'\n",
      "'Getting info for Oodweyne'\n",
      "'Getting info for East London'\n",
      "'Getting info for Constitución'\n",
      "'Getting info for Emerald'\n",
      "'Getting info for Mayo'\n",
      "'Getting info for Katsuura'\n",
      "'Getting info for Mount Darwin'\n",
      "'Getting info for Saldanha'\n",
      "\"Getting info for Severo-Kuril'sk\"\n",
      "'Getting info for Chimbote'\n",
      "'Getting info for Jamestown'\n",
      "'Getting info for Khatanga'\n",
      "'Getting info for Hilo'\n",
      "'No records found'\n",
      "'No records found'\n",
      "'Getting info for Susanville'\n",
      "'Getting info for Norden'\n",
      "'Getting info for Thunder Bay'\n",
      "'Getting info for Saskylakh'\n",
      "'Getting info for Nueva Concepción'\n",
      "'Getting info for Kununurra'\n",
      "'Getting info for Nichinan'\n",
      "'No records found'\n",
      "'Getting info for Bharatpur'\n",
      "'No records found'\n",
      "'No records found'\n",
      "'Getting info for Bathsheba'\n",
      "'Getting info for Yellowknife'\n",
      "'Getting info for Suez'\n",
      "'Getting info for Nome'\n",
      "'Getting info for Torbay'\n",
      "'Getting info for Barrow'\n",
      "'Getting info for Gigmoto'\n",
      "'Getting info for Ushuaia'\n",
      "'No records found'\n",
      "'Getting info for Kenai'\n",
      "'Getting info for Codrington'\n",
      "'Getting info for Fort Nelson'\n",
      "'Getting info for Mulchén'\n",
      "'Getting info for Kavieng'\n",
      "'Getting info for Butaritari'\n",
      "'Getting info for Chokurdakh'\n",
      "'Getting info for Te Anau'\n",
      "'Getting info for Port Moresby'\n",
      "'Getting info for Esna'\n",
      "'Getting info for Fairbanks'\n",
      "'Getting info for Asău'\n",
      "'Getting info for Bambous Virieux'\n",
      "'Getting info for Dikson'\n",
      "'No records found'\n",
      "'Getting info for General Pico'\n",
      "'Getting info for Forestville'\n",
      "'Getting info for Hermanus'\n",
      "'Getting info for Taikang'\n",
      "'Getting info for Coyhaique'\n",
      "'Getting info for Nouakchott'\n",
      "'Getting info for Pisco'\n",
      "'Getting info for Anadyr'\n",
      "'Getting info for Aklavik'\n",
      "\"Getting info for Mosal'sk\"\n",
      "'Getting info for Norman Wells'\n",
      "'Getting info for Bethel'\n",
      "'Getting info for Dakar'\n",
      "'Getting info for Saint-Augustin'\n",
      "'Getting info for Port Elizabeth'\n",
      "'Getting info for Bredasdorp'\n",
      "'Getting info for Castro'\n",
      "'Getting info for Prince Rupert'\n",
      "'Getting info for Lakes Entrance'\n",
      "'Getting info for Teguise'\n",
      "'Getting info for Sambava'\n",
      "'Getting info for Cayenne'\n",
      "'Getting info for Atuona'\n",
      "'No records found'\n",
      "'Getting info for Tuktoyaktuk'\n",
      "'Getting info for Tiksi'\n",
      "'Getting info for Beringovskiy'\n",
      "'Getting info for Värnamo'\n",
      "'Getting info for Klyuchi'\n",
      "'No records found'\n",
      "'Getting info for Āsosa'\n",
      "'Getting info for Inverurie'\n",
      "'Getting info for Mahon'\n",
      "'Getting info for Sinnamary'\n",
      "'Getting info for Lorengau'\n",
      "'Getting info for Savinka'\n",
      "'Getting info for Biak'\n",
      "'Getting info for Xucheng'\n",
      "'Getting info for Lebu'\n",
      "'Getting info for Thompson'\n",
      "'Getting info for Abéché'\n",
      "'Getting info for San Cristobal'\n",
      "'Getting info for Nizhniy Chir'\n",
      "'Getting info for Lagoa'\n",
      "'Getting info for Bucerías'\n",
      "'Getting info for Ushtobe'\n",
      "'Getting info for Westport'\n",
      "'Getting info for Labuhan'\n",
      "'Getting info for Egvekinot'\n",
      "'Getting info for Dukat'\n",
      "'Getting info for Fomboni'\n",
      "'Getting info for Honningsvåg'\n",
      "'Getting info for Sarakhs'\n",
      "'Getting info for Eureka'\n",
      "'Getting info for Airai'\n",
      "'No records found'\n",
      "'Getting info for Qaanaaq'\n",
      "'Getting info for Hobart'\n",
      "'Getting info for Altamira'\n",
      "'Getting info for Cherskiy'\n",
      "'Getting info for Leshan'\n",
      "'Getting info for Inhambane'\n",
      "'Getting info for Nishihara'\n",
      "'Getting info for Laguna'\n",
      "'Getting info for Zhanjiang'\n",
      "'Getting info for Charyshskoye'\n",
      "'Getting info for Mahébourg'\n",
      "'Getting info for São Félix do Xingu'\n",
      "'Getting info for Diego de Almagro'\n",
      "'Getting info for Souillac'\n",
      "'Getting info for Vaini'\n",
      "'Getting info for Lompoc'\n",
      "'Getting info for Qaqortoq'\n",
      "'Getting info for Saint-Philippe'\n",
      "'Getting info for Koslan'\n",
      "'Getting info for Kapaa'\n",
      "'No records found'\n",
      "'Getting info for Dubinino'\n",
      "'Getting info for Olinda'\n",
      "'Getting info for Khandyga'\n",
      "'Getting info for Maamba'\n",
      "'Getting info for San Juan Bautista'\n",
      "'Getting info for Palestine'\n",
      "'Getting info for Wake Forest'\n",
      "'Getting info for Carnarvon'\n",
      "'Getting info for Port Hardy'\n",
      "'Getting info for Sisimiut'\n",
      "'Getting info for Santa Maria da Vitória'\n",
      "'Getting info for Cabo San Lucas'\n",
      "'Getting info for Deming'\n",
      "'Getting info for Semīrom'\n",
      "'Getting info for Xapuri'\n",
      "'Getting info for Zeya'\n",
      "'No records found'\n",
      "'No records found'\n",
      "'Getting info for Vila Velha'\n",
      "'Getting info for Dunedin'\n",
      "'Getting info for Vagay'\n",
      "'Getting info for Bengkulu'\n",
      "'Getting info for Okhotsk'\n",
      "'No records found'\n",
      "'No records found'\n",
      "'No records found'\n",
      "'Getting info for Nhulunbuy'\n",
      "'Getting info for Xunchang'\n",
      "'Getting info for Vitim'\n",
      "'Getting info for Yārāda'\n",
      "'Getting info for Esperance'\n",
      "'Getting info for Angoche'\n",
      "'Getting info for Provideniya'\n",
      "'Getting info for Umluj'\n",
      "'Getting info for Binabalian Ricor'\n",
      "'Getting info for Taltal'\n",
      "'Getting info for Maun'\n",
      "'Getting info for Shenjiamen'\n",
      "'Getting info for Saint George'\n",
      "'Getting info for Arrondissement de Soissons'\n",
      "'Getting info for Maceió'\n",
      "'Getting info for North Bend'\n",
      "'Getting info for Manaure'\n",
      "'Getting info for Ancud'\n",
      "'Getting info for Nœux-les-Mines'\n",
      "'Getting info for Moerai'\n",
      "'No records found'\n",
      "'Getting info for Fundão'\n",
      "'Getting info for Katastari'\n",
      "'Getting info for Ribeira Grande'\n",
      "'Getting info for Mossamedes'\n",
      "'Getting info for Monteagudo'\n",
      "'Getting info for Şabyā'\n",
      "'Getting info for Blackfoot'\n",
      "'Getting info for Deputatsky'\n",
      "'Getting info for Karratha'\n",
      "'Getting info for Nicolás Ruiz'\n",
      "'Getting info for Rock Springs'\n",
      "'Getting info for Basco'\n",
      "'No records found'\n",
      "'Getting info for Lodja'\n",
      "'No records found'\n",
      "'Getting info for Coquimbo'\n",
      "'Getting info for Lata'\n",
      "'Getting info for Along'\n",
      "'No records found'\n",
      "'Getting info for Samfya'\n",
      "'Getting info for Yanam'\n",
      "'Getting info for Hasaki'\n",
      "'Getting info for Teya'\n",
      "'Getting info for Naliya'\n",
      "\"Getting info for Dul'durga\"\n",
      "'Getting info for Guatire'\n",
      "'Getting info for Mineiros'\n",
      "'Getting info for College'\n",
      "'Getting info for Ürümqi'\n",
      "'No records found'\n",
      "'Getting info for Cidreira'\n",
      "'Getting info for Hambantota'\n",
      "'Getting info for Mbeya'\n",
      "'Getting info for Ambulu'\n",
      "'Getting info for Berlevåg'\n",
      "'Getting info for Ilo'\n",
      "'Getting info for Baykit'\n",
      "'Getting info for Kahului'\n",
      "'Getting info for Kholmy'\n",
      "'Getting info for Pleshanovo'\n",
      "'Getting info for Ossora'\n",
      "'No records found'\n",
      "'Getting info for Ajdabiya'\n",
      "'Getting info for Omsukchan'\n",
      "'Getting info for Novopokrovka'\n",
      "'Getting info for Great Yarmouth'\n",
      "'Getting info for Fairlie'\n",
      "'Getting info for Coahuayana Viejo'\n",
      "'Getting info for Evensk'\n",
      "'Getting info for Yar-Sale'\n",
      "\"Getting info for St. George's\"\n",
      "'Getting info for Sioux Lookout'\n",
      "'Getting info for Yerbogachën'\n",
      "'Getting info for Fuerte Olimpo'\n",
      "'Getting info for Fortuna'\n",
      "'Getting info for Kachīry'\n",
      "'Getting info for Margate'\n",
      "'Getting info for La Ferté-Bernard'\n"
     ]
    },
    {
     "name": "stdout",
     "output_type": "stream",
     "text": [
      "'Getting info for Rørvik'\n",
      "'Getting info for Kosamba'\n",
      "'Getting info for Hualmay'\n",
      "'Getting info for Muros'\n",
      "'Getting info for Nālūt'\n",
      "'Getting info for Seddon'\n",
      "'Getting info for Moranbah'\n",
      "'No records found'\n",
      "'Getting info for Praia da Vitória'\n",
      "'Getting info for Atasū'\n",
      "'Getting info for Wanaka'\n",
      "'Getting info for Kanhangad'\n",
      "'No records found'\n",
      "'No records found'\n",
      "'Getting info for Tahoua'\n",
      "'Getting info for Merke'\n",
      "'Getting info for Mahenge'\n",
      "'Getting info for Sechura'\n",
      "'Getting info for Amantea'\n",
      "'Getting info for Bandarbeyla'\n",
      "'Getting info for Port Augusta'\n",
      "'Getting info for Los Llanos de Aridane'\n",
      "'Getting info for Mandalgovi'\n",
      "'Getting info for Avera'\n",
      "'Getting info for Flums'\n",
      "'Getting info for Springdale'\n",
      "'Getting info for Rundu'\n",
      "'Getting info for Vizinga'\n",
      "'Getting info for Vardø'\n",
      "'Getting info for Clyde River'\n",
      "'No records found'\n",
      "\"Getting info for Verkhoshizhem'ye\"\n",
      "'Getting info for Panabá'\n",
      "'Getting info for Gautier'\n",
      "'No records found'\n",
      "'Getting info for Arrecife'\n",
      "'Getting info for Verāval'\n",
      "'No records found'\n",
      "'Getting info for Butembo'\n",
      "'Getting info for Le Port'\n",
      "'Getting info for Kavaratti'\n",
      "'Getting info for Luangwa'\n",
      "'Getting info for Iqaluit'\n",
      "'Getting info for Hohhot'\n",
      "'Getting info for Gari'\n",
      "'Getting info for Sitka'\n",
      "'Getting info for Pochtovoye'\n",
      "'Getting info for San Miguel de Cozumel'\n",
      "'Getting info for Kassala'\n",
      "'Getting info for Khani'\n",
      "'Getting info for Lafia'\n",
      "'Getting info for Jalu'\n",
      "'Getting info for Pangody'\n",
      "'Getting info for Lawrenceburg'\n",
      "'Getting info for Tilichiki'\n",
      "'Getting info for Tezu'\n",
      "'Getting info for São Filipe'\n",
      "'Getting info for Powell'\n",
      "'Getting info for Poum'\n",
      "'Getting info for Birjand'\n",
      "'Getting info for At-Bashi'\n",
      "'Getting info for Khulo'\n",
      "'Getting info for Dajal'\n",
      "'Getting info for Roald'\n",
      "'Getting info for Maridi'\n",
      "'Getting info for San Jose'\n",
      "'Getting info for Konstantinovka'\n",
      "'Getting info for Cap Malheureux'\n",
      "'Getting info for Chapais'\n",
      "'Getting info for Rybachiy'\n",
      "'Getting info for Touros'\n",
      "'Getting info for Belmonte'\n",
      "'Getting info for Noumea'\n",
      "'Getting info for Lavrentiya'\n",
      "'Getting info for Havre-St-Pierre'\n",
      "'Getting info for Riyadh'\n",
      "'Getting info for Olbia'\n",
      "'Getting info for Keuruu'\n",
      "'Getting info for Peniche'\n",
      "'Getting info for Tagusao'\n",
      "'Getting info for Raudeberg'\n",
      "'Getting info for Tsarychanka'\n",
      "\"Getting info for Krasnosel'kup\"\n",
      "'Getting info for Doka'\n",
      "'Getting info for Mehamn'\n",
      "'Getting info for Kampene'\n",
      "'Getting info for Leningradskiy'\n",
      "'Getting info for Beloha'\n",
      "'Getting info for Hirara'\n",
      "'Getting info for North Platte'\n",
      "'Getting info for Husavik'\n",
      "'Getting info for Kyshtovka'\n",
      "'Getting info for Ulaanbaatar'\n",
      "'Getting info for Tazmalt'\n",
      "'Getting info for Sørland'\n",
      "\"Getting info for Ust'-Koksa\"\n",
      "'Getting info for Nelson Bay'\n",
      "'Getting info for Aykhal'\n",
      "'Getting info for Birao'\n",
      "'Getting info for Setermoen'\n",
      "'Getting info for Lincoln'\n",
      "'Getting info for Oranjemund'\n",
      "'Getting info for San Patricio'\n",
      "'No records found'\n",
      "'No records found'\n",
      "'Getting info for Hobyo'\n",
      "'Getting info for Shakawe'\n",
      "'Getting info for Maniitsoq'\n",
      "'Getting info for Clonakilty'\n",
      "'Getting info for Midland'\n",
      "'Getting info for Jorhāt'\n",
      "'No records found'\n",
      "'Getting info for Vanimo'\n",
      "'Getting info for Covington'\n",
      "'Getting info for Kpandae'\n",
      "'Getting info for Antofagasta'\n",
      "'Getting info for Bariloche'\n",
      "'Getting info for Sumbe'\n",
      "'Getting info for Port Lincoln'\n",
      "'Getting info for Adrar'\n",
      "'Getting info for Chardara'\n",
      "'Getting info for Lensk'\n",
      "'Getting info for Talcahuano'\n",
      "'Getting info for George Town'\n",
      "'Getting info for Atar'\n",
      "'Getting info for Syracuse'\n",
      "'Getting info for Villa del Rosario'\n",
      "'Getting info for Binga'\n",
      "'Getting info for Eyl'\n",
      "'No records found'\n",
      "'Getting info for Oksovskiy'\n",
      "'Getting info for Nhamundá'\n",
      "'Getting info for Baharly'\n",
      "'Getting info for Bulolo'\n",
      "'Getting info for Soller'\n",
      "'Getting info for Westerland'\n",
      "'Getting info for Ntoum'\n",
      "'Getting info for Ayan'\n",
      "'Getting info for Mago'\n",
      "'No records found'\n",
      "'Getting info for Killybegs'\n",
      "'Getting info for Hemsedal'\n",
      "'No records found'\n",
      "'Getting info for Kosh-Agach'\n",
      "'Getting info for Dzaoudzi'\n",
      "'Getting info for Ligayan'\n",
      "'Getting info for Makkah al Mukarramah'\n",
      "'Getting info for Kiryat Gat'\n",
      "'Getting info for Chhatarpur'\n",
      "'Getting info for Zaysan'\n",
      "'Getting info for Comodoro Rivadavia'\n",
      "'Getting info for Staryy Nadym'\n",
      "'Getting info for Kupang'\n",
      "'Getting info for Dobryanka'\n",
      "'Getting info for Francisco Sá'\n",
      "'Getting info for Knysna'\n",
      "'Getting info for São Joaquim'\n",
      "'Getting info for Sur'\n",
      "'Getting info for Carballo'\n",
      "'Getting info for Karasjok'\n",
      "'Getting info for Houma'\n",
      "'Getting info for Wick'\n",
      "'Getting info for Chengde'\n",
      "'Getting info for San Ramon'\n",
      "'Getting info for Sola'\n",
      "'Getting info for Port Blair'\n",
      "'Getting info for Nouadhibou'\n",
      "'Getting info for Olavarría'\n",
      "'Getting info for Pechenga'\n",
      "'Getting info for Manavālakurichi'\n",
      "'Getting info for Antsohihy'\n",
      "'Getting info for Ust-Kuyga'\n",
      "'Getting info for Olafsvik'\n",
      "'Getting info for Ust-Nera'\n",
      "'Getting info for Bridlington'\n",
      "'Getting info for San Vicente'\n",
      "'Getting info for Suntar'\n",
      "'Getting info for Safi'\n",
      "'Getting info for Mogok'\n",
      "'Getting info for Russell'\n",
      "'Getting info for Grants Pass'\n",
      "'Getting info for Takoradze'\n",
      "'Getting info for Independence'\n",
      "'Getting info for Lékoni'\n",
      "'Getting info for Ibrā’'\n",
      "'Getting info for Harrismith'\n",
      "'Getting info for Tautira'\n",
      "'No records found'\n",
      "'Getting info for Mount Isa'\n",
      "'Getting info for Puerto Baquerizo Moreno'\n",
      "'Getting info for Niquelândia'\n",
      "'Getting info for Flinders'\n",
      "'Getting info for Nadym'\n",
      "'Getting info for Dicabisagan'\n",
      "'No records found'\n",
      "'Getting info for Wellsford'\n",
      "'No records found'\n",
      "'Getting info for Gizo Government Station'\n",
      "'Getting info for Grand Gaube'\n",
      "'Getting info for Najrān'\n",
      "'Getting info for Lamar'\n",
      "'Getting info for La Rioja'\n",
      "'Getting info for Henties Bay'\n",
      "'Getting info for Petropavlovsk-Kamchatskiy'\n",
      "'Getting info for Ewo'\n",
      "'Getting info for Arraial do Cabo'\n",
      "'Getting info for Kumul'\n",
      "'Getting info for Shingū'\n",
      "'Getting info for Zhigansk'\n",
      "'Getting info for Praia'\n",
      "'Getting info for Imbituba'\n",
      "'Getting info for Sabang'\n",
      "'Getting info for Camingawan'\n",
      "'Getting info for Boralday'\n",
      "'Getting info for Pombas'\n",
      "'Getting info for Stornoway'\n",
      "'Getting info for Balagunan'\n",
      "'Getting info for Diu'\n",
      "'Getting info for Two Rivers'\n",
      "'No records found'\n",
      "'Getting info for Shiyan'\n",
      "'Getting info for Isangel'\n",
      "'Getting info for Batagay'\n",
      "'Getting info for Érsekcsanád'\n",
      "\"Getting info for Vrangel'\"\n",
      "'Getting info for Stephenville'\n",
      "'Getting info for Caravelas'\n",
      "'Getting info for Hamilton'\n",
      "'No records found'\n",
      "'Getting info for Kargasok'\n",
      "'Getting info for Dongsheng'\n",
      "'Getting info for Sindor'\n",
      "'Getting info for Alice Springs'\n",
      "'Getting info for Rabo de Peixe'\n",
      "'Getting info for Tongchuanshi'\n",
      "'Getting info for Kerman'\n",
      "'Getting info for Sakakah'\n",
      "'Getting info for Terme'\n",
      "'No records found'\n",
      "'Getting info for Malacacheta'\n",
      "'Getting info for Las Vegas'\n",
      "'Getting info for São Gabriel da Cachoeira'\n",
      "'Getting info for Churapcha'\n",
      "'No records found'\n",
      "'Getting info for Waukesha'\n",
      "'Getting info for Volksrust'\n",
      "'Getting info for Bermeo'\n",
      "'Getting info for Marietta'\n",
      "'Getting info for Abalak'\n",
      "'Getting info for Lyubech'\n",
      "'Getting info for Launceston'\n",
      "'Getting info for Collierville'\n",
      "'Getting info for Rio Grande'\n",
      "'Getting info for Palmerston'\n",
      "'Getting info for Namatanai'\n",
      "'Getting info for Seydi'\n",
      "'Getting info for Athabasca'\n",
      "'Getting info for Vyazemskiy'\n",
      "'Getting info for Alofi'\n",
      "'Getting info for Mhlume'\n",
      "'Getting info for Taoudenni'\n",
      "'Getting info for Tabas'\n",
      "\"Getting info for Tegul'det\"\n",
      "'Getting info for Frontera'\n",
      "'Getting info for Inírida'\n",
      "'Getting info for Bloemfontein'\n",
      "'Getting info for São João da Barra'\n",
      "'Getting info for Flin Flon'\n",
      "'Getting info for Worland'\n",
      "'Getting info for Sibu'\n",
      "'Getting info for Viedma'\n",
      "'Getting info for Karakol'\n",
      "'Getting info for Waingapu'\n",
      "'Getting info for Half Moon Bay'\n",
      "'Getting info for Kizema'\n",
      "'Getting info for Roblin'\n",
      "'Getting info for Birobidzhan'\n",
      "'Getting info for Yulara'\n",
      "'Getting info for Matagami'\n",
      "'Getting info for Amga'\n",
      "'Getting info for Tutóia'\n",
      "'Getting info for Kralendijk'\n",
      "'Getting info for Reyes'\n",
      "'Getting info for Irbeyskoye'\n",
      "'Getting info for Gijang'\n",
      "'Getting info for Nurota'\n",
      "'Getting info for Strezhevoy'\n",
      "'No records found'\n",
      "'Getting info for Outjo'\n",
      "'Getting info for Lere'\n",
      "'Getting info for Heilbron'\n",
      "'No records found'\n",
      "'Getting info for Qurayyat'\n",
      "'Getting info for Gimli'\n",
      "'Getting info for Dubbo'\n",
      "'No records found'\n",
      "'Getting info for Barabai'\n"
     ]
    },
    {
     "name": "stdout",
     "output_type": "stream",
     "text": [
      "'Getting info for Izhma'\n",
      "'Getting info for Grindavik'\n",
      "'No records found'\n",
      "'Getting info for Kieta'\n",
      "'Getting info for Kasama'\n",
      "'Getting info for Maragogi'\n",
      "'Getting info for San Pedro de Macorís'\n",
      "'Getting info for Kutum'\n",
      "'Getting info for Ternovka'\n",
      "'No records found'\n",
      "'Getting info for Canlaon'\n",
      "'Getting info for Beidao'\n",
      "'Getting info for Tres Picos'\n",
      "'Getting info for Bayangol'\n",
      "'Getting info for Samarai'\n",
      "'Getting info for Dwārka'\n",
      "'Getting info for Gushikawa'\n",
      "'Getting info for Omboué'\n",
      "'Getting info for Pangkalanbuun'\n",
      "'Getting info for Necochea'\n",
      "'No records found'\n",
      "'Getting info for Arrondissement de Cholet'\n",
      "'Getting info for Narsaq'\n",
      "'Getting info for Honiara'\n",
      "'Getting info for Gemeente Wageningen'\n",
      "'Getting info for Altenburg'\n",
      "'Getting info for La Ronge'\n",
      "'Getting info for Whitehorse'\n",
      "'Getting info for Omurtag'\n",
      "'Getting info for Kipushi'\n",
      "'Getting info for Warrington'\n",
      "'Getting info for Langxiang'\n",
      "'Getting info for Nanortalik'\n",
      "'Getting info for Maków Mazowiecki'\n",
      "'Getting info for Cairns'\n",
      "'Getting info for Fitii'\n"
     ]
    }
   ],
   "source": [
    "url = \"http://api.openweathermap.org/data/2.5/weather?\"\n",
    "cityObjs = []\n",
    "\n",
    "for city in cities:\n",
    "    query_url = url + \"appid=\" + weather_api_key + \"&q=\" + city\n",
    "    #print(query_url)\n",
    "    weather_response = requests.get(query_url)\n",
    "    weather_json = weather_response.json()\n",
    "    try:\n",
    "        cityName = weather_json['name']\n",
    "        cityNum = cities.index(city)\n",
    "        # latitude\n",
    "        cityLat = weather_json['coord']['lat']\n",
    "        # longitude\n",
    "        cityLon = weather_json['coord']['lon']\n",
    "        # max temp\n",
    "        maxTemp = weather_json['main']['temp_max']\n",
    "        maxTemp = maxTemp * 1.8 - 459.67\n",
    "        # humidity\n",
    "        humidity = weather_json['main']['humidity']\n",
    "        # cloudiness\n",
    "        cloudiness = weather_json['clouds']['all']\n",
    "        # wind speed\n",
    "        speed = weather_json['wind']['speed']\n",
    "        # date\n",
    "        date = weather_json['dt']\n",
    "        cityObjs.append({\n",
    "            'Name' : cityName,\n",
    "            'Latitude' : cityLat,\n",
    "            'Longitude' : cityLon,\n",
    "            'Maximum Temperature' : maxTemp,\n",
    "            'Humidity' : humidity,\n",
    "            'Cloudiness' : cloudiness,\n",
    "            'Wind Speed' : speed,\n",
    "            'Date' : date\n",
    "        })\n",
    "        pprint(f\"Getting info for {cityName}\")\n",
    "    except KeyError:\n",
    "        pprint(\"No records found\")"
   ]
  },
  {
   "cell_type": "markdown",
   "metadata": {},
   "source": [
    "### Convert Raw Data to DataFrame\n",
    "* Export the city data into a .csv.\n",
    "* Display the DataFrame"
   ]
  },
  {
   "cell_type": "code",
   "execution_count": 20,
   "metadata": {},
   "outputs": [],
   "source": [
    "cityDF = pd.DataFrame(cityObjs)\n",
    "\n",
    "#cityDF\n",
    "cityDF #.head()\n",
    "#cityDF.count()\n",
    "cityDF.to_csv(\"../output_data/city_dataframe.csv\", encoding=\"utf-8\", index=False)\n",
    "#cityDFcsv = cityDF\n",
    "#cityDFcsv.to_csv(\"city_dataframe.csv\", encoding=\"utf-8\", index=False)"
   ]
  },
  {
   "cell_type": "code",
   "execution_count": 21,
   "metadata": {},
   "outputs": [
    {
     "data": {
      "text/html": [
       "<div>\n",
       "<style scoped>\n",
       "    .dataframe tbody tr th:only-of-type {\n",
       "        vertical-align: middle;\n",
       "    }\n",
       "\n",
       "    .dataframe tbody tr th {\n",
       "        vertical-align: top;\n",
       "    }\n",
       "\n",
       "    .dataframe thead th {\n",
       "        text-align: right;\n",
       "    }\n",
       "</style>\n",
       "<table border=\"1\" class=\"dataframe\">\n",
       "  <thead>\n",
       "    <tr style=\"text-align: right;\">\n",
       "      <th></th>\n",
       "      <th>Latitude</th>\n",
       "      <th>Longitude</th>\n",
       "      <th>Maximum Temperature</th>\n",
       "      <th>Humidity</th>\n",
       "      <th>Cloudiness</th>\n",
       "      <th>Wind Speed</th>\n",
       "      <th>Date</th>\n",
       "    </tr>\n",
       "  </thead>\n",
       "  <tbody>\n",
       "    <tr>\n",
       "      <th>count</th>\n",
       "      <td>577.000000</td>\n",
       "      <td>577.000000</td>\n",
       "      <td>577.000000</td>\n",
       "      <td>577.000000</td>\n",
       "      <td>577.000000</td>\n",
       "      <td>577.000000</td>\n",
       "      <td>5.770000e+02</td>\n",
       "    </tr>\n",
       "    <tr>\n",
       "      <th>mean</th>\n",
       "      <td>21.606112</td>\n",
       "      <td>18.819812</td>\n",
       "      <td>69.998437</td>\n",
       "      <td>69.705373</td>\n",
       "      <td>55.601386</td>\n",
       "      <td>3.504367</td>\n",
       "      <td>1.658948e+09</td>\n",
       "    </tr>\n",
       "    <tr>\n",
       "      <th>std</th>\n",
       "      <td>33.753108</td>\n",
       "      <td>89.719171</td>\n",
       "      <td>14.501239</td>\n",
       "      <td>21.315663</td>\n",
       "      <td>40.156558</td>\n",
       "      <td>2.419237</td>\n",
       "      <td>2.741044e+02</td>\n",
       "    </tr>\n",
       "    <tr>\n",
       "      <th>min</th>\n",
       "      <td>-54.800000</td>\n",
       "      <td>-179.166700</td>\n",
       "      <td>29.750000</td>\n",
       "      <td>1.000000</td>\n",
       "      <td>0.000000</td>\n",
       "      <td>0.000000</td>\n",
       "      <td>1.658947e+09</td>\n",
       "    </tr>\n",
       "    <tr>\n",
       "      <th>25%</th>\n",
       "      <td>-9.085300</td>\n",
       "      <td>-60.025000</td>\n",
       "      <td>59.324000</td>\n",
       "      <td>59.000000</td>\n",
       "      <td>13.000000</td>\n",
       "      <td>1.760000</td>\n",
       "      <td>1.658948e+09</td>\n",
       "    </tr>\n",
       "    <tr>\n",
       "      <th>50%</th>\n",
       "      <td>29.557700</td>\n",
       "      <td>26.214000</td>\n",
       "      <td>71.456000</td>\n",
       "      <td>75.000000</td>\n",
       "      <td>67.000000</td>\n",
       "      <td>2.950000</td>\n",
       "      <td>1.658948e+09</td>\n",
       "    </tr>\n",
       "    <tr>\n",
       "      <th>75%</th>\n",
       "      <td>50.480100</td>\n",
       "      <td>94.766700</td>\n",
       "      <td>80.528000</td>\n",
       "      <td>86.000000</td>\n",
       "      <td>100.000000</td>\n",
       "      <td>4.670000</td>\n",
       "      <td>1.658948e+09</td>\n",
       "    </tr>\n",
       "    <tr>\n",
       "      <th>max</th>\n",
       "      <td>77.484000</td>\n",
       "      <td>179.316700</td>\n",
       "      <td>108.356000</td>\n",
       "      <td>100.000000</td>\n",
       "      <td>100.000000</td>\n",
       "      <td>13.890000</td>\n",
       "      <td>1.658948e+09</td>\n",
       "    </tr>\n",
       "  </tbody>\n",
       "</table>\n",
       "</div>"
      ],
      "text/plain": [
       "         Latitude   Longitude  Maximum Temperature    Humidity  Cloudiness  \\\n",
       "count  577.000000  577.000000           577.000000  577.000000  577.000000   \n",
       "mean    21.606112   18.819812            69.998437   69.705373   55.601386   \n",
       "std     33.753108   89.719171            14.501239   21.315663   40.156558   \n",
       "min    -54.800000 -179.166700            29.750000    1.000000    0.000000   \n",
       "25%     -9.085300  -60.025000            59.324000   59.000000   13.000000   \n",
       "50%     29.557700   26.214000            71.456000   75.000000   67.000000   \n",
       "75%     50.480100   94.766700            80.528000   86.000000  100.000000   \n",
       "max     77.484000  179.316700           108.356000  100.000000  100.000000   \n",
       "\n",
       "       Wind Speed          Date  \n",
       "count  577.000000  5.770000e+02  \n",
       "mean     3.504367  1.658948e+09  \n",
       "std      2.419237  2.741044e+02  \n",
       "min      0.000000  1.658947e+09  \n",
       "25%      1.760000  1.658948e+09  \n",
       "50%      2.950000  1.658948e+09  \n",
       "75%      4.670000  1.658948e+09  \n",
       "max     13.890000  1.658948e+09  "
      ]
     },
     "execution_count": 21,
     "metadata": {},
     "output_type": "execute_result"
    }
   ],
   "source": [
    "cityDF.describe()"
   ]
  },
  {
   "cell_type": "markdown",
   "metadata": {},
   "source": [
    "## Inspect the data and remove the cities where the humidity > 100%.\n",
    "----\n",
    "Skip this step if there are no cities that have humidity > 100%. "
   ]
  },
  {
   "cell_type": "code",
   "execution_count": 22,
   "metadata": {},
   "outputs": [
    {
     "data": {
      "text/html": [
       "<div>\n",
       "<style scoped>\n",
       "    .dataframe tbody tr th:only-of-type {\n",
       "        vertical-align: middle;\n",
       "    }\n",
       "\n",
       "    .dataframe tbody tr th {\n",
       "        vertical-align: top;\n",
       "    }\n",
       "\n",
       "    .dataframe thead th {\n",
       "        text-align: right;\n",
       "    }\n",
       "</style>\n",
       "<table border=\"1\" class=\"dataframe\">\n",
       "  <thead>\n",
       "    <tr style=\"text-align: right;\">\n",
       "      <th></th>\n",
       "      <th>Name</th>\n",
       "      <th>Latitude</th>\n",
       "      <th>Longitude</th>\n",
       "      <th>Maximum Temperature</th>\n",
       "      <th>Humidity</th>\n",
       "      <th>Cloudiness</th>\n",
       "      <th>Wind Speed</th>\n",
       "      <th>Date</th>\n",
       "    </tr>\n",
       "  </thead>\n",
       "  <tbody>\n",
       "    <tr>\n",
       "      <th>0</th>\n",
       "      <td>Cape Town</td>\n",
       "      <td>-33.9258</td>\n",
       "      <td>18.4232</td>\n",
       "      <td>59.918</td>\n",
       "      <td>72</td>\n",
       "      <td>0</td>\n",
       "      <td>5.14</td>\n",
       "      <td>1658948018</td>\n",
       "    </tr>\n",
       "    <tr>\n",
       "      <th>1</th>\n",
       "      <td>Pevek</td>\n",
       "      <td>69.7008</td>\n",
       "      <td>170.3133</td>\n",
       "      <td>34.466</td>\n",
       "      <td>91</td>\n",
       "      <td>100</td>\n",
       "      <td>1.82</td>\n",
       "      <td>1658948305</td>\n",
       "    </tr>\n",
       "    <tr>\n",
       "      <th>2</th>\n",
       "      <td>Tuatapere</td>\n",
       "      <td>-46.1333</td>\n",
       "      <td>167.6833</td>\n",
       "      <td>43.934</td>\n",
       "      <td>95</td>\n",
       "      <td>100</td>\n",
       "      <td>0.73</td>\n",
       "      <td>1658948305</td>\n",
       "    </tr>\n",
       "    <tr>\n",
       "      <th>3</th>\n",
       "      <td>Chifeng</td>\n",
       "      <td>42.2683</td>\n",
       "      <td>118.9636</td>\n",
       "      <td>67.874</td>\n",
       "      <td>85</td>\n",
       "      <td>100</td>\n",
       "      <td>0.66</td>\n",
       "      <td>1658948306</td>\n",
       "    </tr>\n",
       "    <tr>\n",
       "      <th>4</th>\n",
       "      <td>Srednekolymsk</td>\n",
       "      <td>67.4500</td>\n",
       "      <td>153.6833</td>\n",
       "      <td>40.730</td>\n",
       "      <td>73</td>\n",
       "      <td>83</td>\n",
       "      <td>3.85</td>\n",
       "      <td>1658948306</td>\n",
       "    </tr>\n",
       "    <tr>\n",
       "      <th>...</th>\n",
       "      <td>...</td>\n",
       "      <td>...</td>\n",
       "      <td>...</td>\n",
       "      <td>...</td>\n",
       "      <td>...</td>\n",
       "      <td>...</td>\n",
       "      <td>...</td>\n",
       "      <td>...</td>\n",
       "    </tr>\n",
       "    <tr>\n",
       "      <th>572</th>\n",
       "      <td>Langxiang</td>\n",
       "      <td>46.9500</td>\n",
       "      <td>128.8833</td>\n",
       "      <td>66.524</td>\n",
       "      <td>94</td>\n",
       "      <td>33</td>\n",
       "      <td>0.66</td>\n",
       "      <td>1658948448</td>\n",
       "    </tr>\n",
       "    <tr>\n",
       "      <th>573</th>\n",
       "      <td>Nanortalik</td>\n",
       "      <td>60.1432</td>\n",
       "      <td>-45.2371</td>\n",
       "      <td>44.312</td>\n",
       "      <td>83</td>\n",
       "      <td>76</td>\n",
       "      <td>1.83</td>\n",
       "      <td>1658948448</td>\n",
       "    </tr>\n",
       "    <tr>\n",
       "      <th>574</th>\n",
       "      <td>Maków Mazowiecki</td>\n",
       "      <td>52.8649</td>\n",
       "      <td>21.1005</td>\n",
       "      <td>65.894</td>\n",
       "      <td>50</td>\n",
       "      <td>10</td>\n",
       "      <td>2.91</td>\n",
       "      <td>1658948376</td>\n",
       "    </tr>\n",
       "    <tr>\n",
       "      <th>575</th>\n",
       "      <td>Cairns</td>\n",
       "      <td>-16.9167</td>\n",
       "      <td>145.7667</td>\n",
       "      <td>67.946</td>\n",
       "      <td>83</td>\n",
       "      <td>40</td>\n",
       "      <td>4.63</td>\n",
       "      <td>1658948448</td>\n",
       "    </tr>\n",
       "    <tr>\n",
       "      <th>576</th>\n",
       "      <td>Fitii</td>\n",
       "      <td>-16.7333</td>\n",
       "      <td>-151.0333</td>\n",
       "      <td>78.854</td>\n",
       "      <td>72</td>\n",
       "      <td>28</td>\n",
       "      <td>10.60</td>\n",
       "      <td>1658948449</td>\n",
       "    </tr>\n",
       "  </tbody>\n",
       "</table>\n",
       "<p>577 rows × 8 columns</p>\n",
       "</div>"
      ],
      "text/plain": [
       "                 Name  Latitude  Longitude  Maximum Temperature  Humidity  \\\n",
       "0           Cape Town  -33.9258    18.4232               59.918        72   \n",
       "1               Pevek   69.7008   170.3133               34.466        91   \n",
       "2           Tuatapere  -46.1333   167.6833               43.934        95   \n",
       "3             Chifeng   42.2683   118.9636               67.874        85   \n",
       "4       Srednekolymsk   67.4500   153.6833               40.730        73   \n",
       "..                ...       ...        ...                  ...       ...   \n",
       "572         Langxiang   46.9500   128.8833               66.524        94   \n",
       "573        Nanortalik   60.1432   -45.2371               44.312        83   \n",
       "574  Maków Mazowiecki   52.8649    21.1005               65.894        50   \n",
       "575            Cairns  -16.9167   145.7667               67.946        83   \n",
       "576             Fitii  -16.7333  -151.0333               78.854        72   \n",
       "\n",
       "     Cloudiness  Wind Speed        Date  \n",
       "0             0        5.14  1658948018  \n",
       "1           100        1.82  1658948305  \n",
       "2           100        0.73  1658948305  \n",
       "3           100        0.66  1658948306  \n",
       "4            83        3.85  1658948306  \n",
       "..          ...         ...         ...  \n",
       "572          33        0.66  1658948448  \n",
       "573          76        1.83  1658948448  \n",
       "574          10        2.91  1658948376  \n",
       "575          40        4.63  1658948448  \n",
       "576          28       10.60  1658948449  \n",
       "\n",
       "[577 rows x 8 columns]"
      ]
     },
     "execution_count": 22,
     "metadata": {},
     "output_type": "execute_result"
    }
   ],
   "source": [
    "#loc?\n",
    "humidity99DF = cityDF.loc[cityDF['Humidity'] <= 100,:]\n",
    "humidity99DF\n",
    "#humidity99DF.count()"
   ]
  },
  {
   "cell_type": "code",
   "execution_count": 23,
   "metadata": {},
   "outputs": [
    {
     "data": {
      "text/plain": [
       "[]"
      ]
     },
     "execution_count": 23,
     "metadata": {},
     "output_type": "execute_result"
    }
   ],
   "source": [
    "#  Get the indices of cities that have humidity over 100%.\n",
    "cityDF.loc[cityDF['Humidity'] > 100,:].index.tolist()"
   ]
  },
  {
   "cell_type": "code",
   "execution_count": 24,
   "metadata": {},
   "outputs": [
    {
     "data": {
      "text/html": [
       "<div>\n",
       "<style scoped>\n",
       "    .dataframe tbody tr th:only-of-type {\n",
       "        vertical-align: middle;\n",
       "    }\n",
       "\n",
       "    .dataframe tbody tr th {\n",
       "        vertical-align: top;\n",
       "    }\n",
       "\n",
       "    .dataframe thead th {\n",
       "        text-align: right;\n",
       "    }\n",
       "</style>\n",
       "<table border=\"1\" class=\"dataframe\">\n",
       "  <thead>\n",
       "    <tr style=\"text-align: right;\">\n",
       "      <th></th>\n",
       "      <th>Name</th>\n",
       "      <th>Latitude</th>\n",
       "      <th>Longitude</th>\n",
       "      <th>Maximum Temperature</th>\n",
       "      <th>Humidity</th>\n",
       "      <th>Cloudiness</th>\n",
       "      <th>Wind Speed</th>\n",
       "      <th>Date</th>\n",
       "    </tr>\n",
       "  </thead>\n",
       "  <tbody>\n",
       "    <tr>\n",
       "      <th>0</th>\n",
       "      <td>Cape Town</td>\n",
       "      <td>-33.9258</td>\n",
       "      <td>18.4232</td>\n",
       "      <td>59.918</td>\n",
       "      <td>72</td>\n",
       "      <td>0</td>\n",
       "      <td>5.14</td>\n",
       "      <td>1658948018</td>\n",
       "    </tr>\n",
       "    <tr>\n",
       "      <th>1</th>\n",
       "      <td>Pevek</td>\n",
       "      <td>69.7008</td>\n",
       "      <td>170.3133</td>\n",
       "      <td>34.466</td>\n",
       "      <td>91</td>\n",
       "      <td>100</td>\n",
       "      <td>1.82</td>\n",
       "      <td>1658948305</td>\n",
       "    </tr>\n",
       "    <tr>\n",
       "      <th>2</th>\n",
       "      <td>Tuatapere</td>\n",
       "      <td>-46.1333</td>\n",
       "      <td>167.6833</td>\n",
       "      <td>43.934</td>\n",
       "      <td>95</td>\n",
       "      <td>100</td>\n",
       "      <td>0.73</td>\n",
       "      <td>1658948305</td>\n",
       "    </tr>\n",
       "    <tr>\n",
       "      <th>3</th>\n",
       "      <td>Chifeng</td>\n",
       "      <td>42.2683</td>\n",
       "      <td>118.9636</td>\n",
       "      <td>67.874</td>\n",
       "      <td>85</td>\n",
       "      <td>100</td>\n",
       "      <td>0.66</td>\n",
       "      <td>1658948306</td>\n",
       "    </tr>\n",
       "    <tr>\n",
       "      <th>4</th>\n",
       "      <td>Srednekolymsk</td>\n",
       "      <td>67.4500</td>\n",
       "      <td>153.6833</td>\n",
       "      <td>40.730</td>\n",
       "      <td>73</td>\n",
       "      <td>83</td>\n",
       "      <td>3.85</td>\n",
       "      <td>1658948306</td>\n",
       "    </tr>\n",
       "  </tbody>\n",
       "</table>\n",
       "</div>"
      ],
      "text/plain": [
       "            Name  Latitude  Longitude  Maximum Temperature  Humidity  \\\n",
       "0      Cape Town  -33.9258    18.4232               59.918        72   \n",
       "1          Pevek   69.7008   170.3133               34.466        91   \n",
       "2      Tuatapere  -46.1333   167.6833               43.934        95   \n",
       "3        Chifeng   42.2683   118.9636               67.874        85   \n",
       "4  Srednekolymsk   67.4500   153.6833               40.730        73   \n",
       "\n",
       "   Cloudiness  Wind Speed        Date  \n",
       "0           0        5.14  1658948018  \n",
       "1         100        1.82  1658948305  \n",
       "2         100        0.73  1658948305  \n",
       "3         100        0.66  1658948306  \n",
       "4          83        3.85  1658948306  "
      ]
     },
     "execution_count": 24,
     "metadata": {},
     "output_type": "execute_result"
    }
   ],
   "source": [
    "# Make a new DataFrame equal to the city data to drop all humidity outliers by index.\n",
    "# Passing \"inplace=False\" will make a copy of the city_data DataFrame, which we call \"clean_city_data\".\n",
    "cleanCityData = cityDF.loc[cityDF['Humidity'] <= 100,:]\n",
    "cleanCityData.head()"
   ]
  },
  {
   "cell_type": "code",
   "execution_count": 25,
   "metadata": {},
   "outputs": [],
   "source": [
    "lat = cleanCityData['Latitude']\n",
    "maxTemp = cleanCityData['Maximum Temperature']\n",
    "humid = cleanCityData['Humidity']\n",
    "clouds = cleanCityData['Cloudiness']\n",
    "windspd = cleanCityData['Wind Speed']"
   ]
  },
  {
   "cell_type": "markdown",
   "metadata": {},
   "source": [
    "## Plotting the Data\n",
    "* Use proper labeling of the plots using plot titles (including date of analysis) and axes labels.\n",
    "* Save the plotted figures as .pngs."
   ]
  },
  {
   "cell_type": "markdown",
   "metadata": {},
   "source": [
    "## Latitude vs. Temperature Plot"
   ]
  },
  {
   "cell_type": "code",
   "execution_count": 9,
   "metadata": {},
   "outputs": [
    {
     "data": {
      "image/png": "[encoded data removed]",
      "text/plain": [
       "<Figure size 432x288 with 1 Axes>"
      ]
     },
     "metadata": {
      "needs_background": "light"
     },
     "output_type": "display_data"
    }
   ],
   "source": [
    "plt.scatter(lat, maxTemp, c=\"red\")\n",
    "plt.title(f\"City Latitude vs. Max Temperature ({date})\")\n",
    "plt.xlabel(\"Latitude\")\n",
    "plt.ylabel(\"Max Temperature (deg. F)\")\n",
    "plt.grid()\n",
    "plt.show()"
   ]
  },
  {
   "cell_type": "code",
   "execution_count": 26,
   "metadata": {},
   "outputs": [
    {
     "name": "stdout",
     "output_type": "stream",
     "text": [
      "The above plot shows the latitude position of a city against the maximum temperature of that city in degrees Fahrenheit.\n"
     ]
    },
    {
     "data": {
      "text/plain": [
       "<Figure size 432x288 with 0 Axes>"
      ]
     },
     "metadata": {},
     "output_type": "display_data"
    }
   ],
   "source": [
    "plt.savefig(\"../Images/lat_vs_maxTemp.png\")\n",
    "print(\"The above plot shows the latitude position of a city against the maximum temperature of that city in degrees Fahrenheit.\")"
   ]
  },
  {
   "cell_type": "markdown",
   "metadata": {},
   "source": [
    "## Latitude vs. Humidity Plot"
   ]
  },
  {
   "cell_type": "code",
   "execution_count": 27,
   "metadata": {
    "scrolled": true
   },
   "outputs": [
    {
     "data": {
      "image/png": "[encoded data removed]",
      "text/plain": [
       "<Figure size 432x288 with 1 Axes>"
      ]
     },
     "metadata": {
      "needs_background": "light"
     },
     "output_type": "display_data"
    }
   ],
   "source": [
    "plt.scatter(lat, humid, c=\"blue\")\n",
    "plt.title(f\"City Latitude vs. Humidity ({date})\")\n",
    "plt.xlabel(\"Latitude\")\n",
    "plt.ylabel(\"Humidity (%)\")\n",
    "plt.grid()\n",
    "plt.show()"
   ]
  },
  {
   "cell_type": "code",
   "execution_count": 28,
   "metadata": {},
   "outputs": [
    {
     "name": "stdout",
     "output_type": "stream",
     "text": [
      "The above plot shows the latitude position of a city against the percentage humidity of that city.\n"
     ]
    },
    {
     "data": {
      "text/plain": [
       "<Figure size 432x288 with 0 Axes>"
      ]
     },
     "metadata": {},
     "output_type": "display_data"
    }
   ],
   "source": [
    "plt.savefig(\"../Images/lat_vs_humidity.png\")\n",
    "print(\"The above plot shows the latitude position of a city against the percentage humidity of that city.\")"
   ]
  },
  {
   "cell_type": "markdown",
   "metadata": {},
   "source": [
    "## Latitude vs. Cloudiness Plot"
   ]
  },
  {
   "cell_type": "code",
   "execution_count": 29,
   "metadata": {
    "scrolled": true
   },
   "outputs": [
    {
     "data": {
      "image/png": "[encoded data removed]",
      "text/plain": [
       "<Figure size 432x288 with 1 Axes>"
      ]
     },
     "metadata": {
      "needs_background": "light"
     },
     "output_type": "display_data"
    }
   ],
   "source": [
    "plt.scatter(lat, clouds, c=\"gray\")\n",
    "plt.title(f\"City Latitude vs. Cloudiness ({date})\")\n",
    "plt.xlabel(\"Latitude\")\n",
    "plt.ylabel(\"Cloudiness (%)\")\n",
    "plt.grid()\n",
    "plt.show()"
   ]
  },
  {
   "cell_type": "code",
   "execution_count": 30,
   "metadata": {},
   "outputs": [
    {
     "name": "stdout",
     "output_type": "stream",
     "text": [
      "The above plot shows the latitude position of a city against the percent cloudiness in that city.\n"
     ]
    },
    {
     "data": {
      "text/plain": [
       "<Figure size 432x288 with 0 Axes>"
      ]
     },
     "metadata": {},
     "output_type": "display_data"
    }
   ],
   "source": [
    "plt.savefig(\"../Images/lat_vs_cloudiness.png\")\n",
    "print(\"The above plot shows the latitude position of a city against the percent cloudiness in that city.\")"
   ]
  },
  {
   "cell_type": "markdown",
   "metadata": {},
   "source": [
    "## Latitude vs. Wind Speed Plot"
   ]
  },
  {
   "cell_type": "code",
   "execution_count": 31,
   "metadata": {
    "scrolled": true
   },
   "outputs": [
    {
     "data": {
      "image/png": "[encoded data removed]",
      "text/plain": [
       "<Figure size 432x288 with 1 Axes>"
      ]
     },
     "metadata": {
      "needs_background": "light"
     },
     "output_type": "display_data"
    }
   ],
   "source": [
    "plt.scatter(lat, windspd, c=\"green\")\n",
    "plt.title(f\"City Latitude vs. Wind Speed ({date})\")\n",
    "plt.xlabel(\"Latitude\")\n",
    "plt.ylabel(\"Wind Speed (mph)\")\n",
    "plt.grid()\n",
    "plt.show()"
   ]
  },
  {
   "cell_type": "code",
   "execution_count": 32,
   "metadata": {},
   "outputs": [
    {
     "name": "stdout",
     "output_type": "stream",
     "text": [
      "The above plot shows the latitude position of a city against the wind speed of that city in miles per hour.\n"
     ]
    },
    {
     "data": {
      "text/plain": [
       "<Figure size 432x288 with 0 Axes>"
      ]
     },
     "metadata": {},
     "output_type": "display_data"
    }
   ],
   "source": [
    "plt.savefig(\"../Images/lat_vs_windSpd.png\")\n",
    "print(\"The above plot shows the latitude position of a city against the wind speed of that city in miles per hour.\")"
   ]
  },
  {
   "cell_type": "markdown",
   "metadata": {},
   "source": [
    "## Linear Regression"
   ]
  },
  {
   "cell_type": "code",
   "execution_count": 33,
   "metadata": {},
   "outputs": [
    {
     "data": {
      "text/html": [
       "<div>\n",
       "<style scoped>\n",
       "    .dataframe tbody tr th:only-of-type {\n",
       "        vertical-align: middle;\n",
       "    }\n",
       "\n",
       "    .dataframe tbody tr th {\n",
       "        vertical-align: top;\n",
       "    }\n",
       "\n",
       "    .dataframe thead th {\n",
       "        text-align: right;\n",
       "    }\n",
       "</style>\n",
       "<table border=\"1\" class=\"dataframe\">\n",
       "  <thead>\n",
       "    <tr style=\"text-align: right;\">\n",
       "      <th></th>\n",
       "      <th>Name</th>\n",
       "      <th>Latitude</th>\n",
       "      <th>Longitude</th>\n",
       "      <th>Maximum Temperature</th>\n",
       "      <th>Humidity</th>\n",
       "      <th>Cloudiness</th>\n",
       "      <th>Wind Speed</th>\n",
       "      <th>Date</th>\n",
       "    </tr>\n",
       "  </thead>\n",
       "  <tbody>\n",
       "    <tr>\n",
       "      <th>1</th>\n",
       "      <td>Pevek</td>\n",
       "      <td>69.7008</td>\n",
       "      <td>170.3133</td>\n",
       "      <td>34.466</td>\n",
       "      <td>91</td>\n",
       "      <td>100</td>\n",
       "      <td>1.82</td>\n",
       "      <td>1658948305</td>\n",
       "    </tr>\n",
       "    <tr>\n",
       "      <th>3</th>\n",
       "      <td>Chifeng</td>\n",
       "      <td>42.2683</td>\n",
       "      <td>118.9636</td>\n",
       "      <td>67.874</td>\n",
       "      <td>85</td>\n",
       "      <td>100</td>\n",
       "      <td>0.66</td>\n",
       "      <td>1658948306</td>\n",
       "    </tr>\n",
       "    <tr>\n",
       "      <th>4</th>\n",
       "      <td>Srednekolymsk</td>\n",
       "      <td>67.4500</td>\n",
       "      <td>153.6833</td>\n",
       "      <td>40.730</td>\n",
       "      <td>73</td>\n",
       "      <td>83</td>\n",
       "      <td>3.85</td>\n",
       "      <td>1658948306</td>\n",
       "    </tr>\n",
       "    <tr>\n",
       "      <th>5</th>\n",
       "      <td>Crestview</td>\n",
       "      <td>30.7621</td>\n",
       "      <td>-86.5705</td>\n",
       "      <td>93.344</td>\n",
       "      <td>59</td>\n",
       "      <td>81</td>\n",
       "      <td>1.79</td>\n",
       "      <td>1658948306</td>\n",
       "    </tr>\n",
       "    <tr>\n",
       "      <th>6</th>\n",
       "      <td>Southbridge</td>\n",
       "      <td>42.0751</td>\n",
       "      <td>-72.0334</td>\n",
       "      <td>85.946</td>\n",
       "      <td>51</td>\n",
       "      <td>100</td>\n",
       "      <td>1.79</td>\n",
       "      <td>1658948307</td>\n",
       "    </tr>\n",
       "  </tbody>\n",
       "</table>\n",
       "</div>"
      ],
      "text/plain": [
       "            Name  Latitude  Longitude  Maximum Temperature  Humidity  \\\n",
       "1          Pevek   69.7008   170.3133               34.466        91   \n",
       "3        Chifeng   42.2683   118.9636               67.874        85   \n",
       "4  Srednekolymsk   67.4500   153.6833               40.730        73   \n",
       "5      Crestview   30.7621   -86.5705               93.344        59   \n",
       "6    Southbridge   42.0751   -72.0334               85.946        51   \n",
       "\n",
       "   Cloudiness  Wind Speed        Date  \n",
       "1         100        1.82  1658948305  \n",
       "3         100        0.66  1658948306  \n",
       "4          83        3.85  1658948306  \n",
       "5          81        1.79  1658948306  \n",
       "6         100        1.79  1658948307  "
      ]
     },
     "execution_count": 33,
     "metadata": {},
     "output_type": "execute_result"
    }
   ],
   "source": [
    "posCleanCityData = cleanCityData.loc[cleanCityData[\"Latitude\"]>=0,:]\n",
    "negCleanCityData = cleanCityData.loc[cleanCityData[\"Latitude\"]<=0,:]\n",
    "posCleanCityData.head()"
   ]
  },
  {
   "cell_type": "markdown",
   "metadata": {},
   "source": [
    "####  Northern Hemisphere - Max Temp vs. Latitude Linear Regression"
   ]
  },
  {
   "cell_type": "code",
   "execution_count": 35,
   "metadata": {
    "scrolled": true
   },
   "outputs": [
    {
     "name": "stdout",
     "output_type": "stream",
     "text": [
      "The r-squared is: 0.46529383669924124\n"
     ]
    },
    {
     "data": {
      "image/png": "[encoded data removed]",
      "text/plain": [
       "<Figure size 432x288 with 1 Axes>"
      ]
     },
     "metadata": {
      "needs_background": "light"
     },
     "output_type": "display_data"
    },
    {
     "name": "stdout",
     "output_type": "stream",
     "text": [
      "The plot regression describes the relationship between latitude and max temperature; there is a negative correlation because higher latitudes generally correlate to lower maximum temperatures.\n"
     ]
    },
    {
     "data": {
      "image/png": "[encoded data removed]",
      "text/plain": [
       "<Figure size 432x288 with 1 Axes>"
      ]
     },
     "metadata": {
      "needs_background": "light"
     },
     "output_type": "display_data"
    }
   ],
   "source": [
    "posLat = posCleanCityData[\"Latitude\"]\n",
    "maxTemp = posCleanCityData[\"Maximum Temperature\"]\n",
    "x_values = posLat\n",
    "y_values = maxTemp\n",
    "(slope, intercept, rvalue, pvalue, stderr) = linregress(x_values, y_values)\n",
    "regress_values = x_values * slope + intercept\n",
    "line_eq = \"y = \" + str(round(slope,2)) + \"x + \" + str(round(intercept,2))\n",
    "plt.scatter(x_values,y_values, c=\"orange\")\n",
    "plt.plot(x_values,regress_values,\"r-\")\n",
    "#plt.annotate(line_eq,(0,50),fontsize=15,color=\"red\")\n",
    "plt.xlabel('Latitude')\n",
    "plt.ylabel('Max Temperature (deg. F)')\n",
    "print(f\"The r-squared is: {rvalue**2}\")\n",
    "plt.show()\n",
    "plt.annotate(line_eq,(0,50),fontsize=15,color=\"red\")\n",
    "plt.savefig(\"../Images/poslat_vs_maxtemp.png\")\n",
    "print(\"The plot regression describes the relationship between latitude and max temperature; there is a negative correlation because higher latitudes generally correlate to lower maximum temperatures.\")"
   ]
  },
  {
   "cell_type": "markdown",
   "metadata": {},
   "source": [
    "####  Southern Hemisphere - Max Temp vs. Latitude Linear Regression"
   ]
  },
  {
   "cell_type": "code",
   "execution_count": 36,
   "metadata": {},
   "outputs": [
    {
     "name": "stdout",
     "output_type": "stream",
     "text": [
      "The r-squared is: 0.5653231238264844\n"
     ]
    },
    {
     "data": {
      "image/png": "[encoded data removed]",
      "text/plain": [
       "<Figure size 432x288 with 1 Axes>"
      ]
     },
     "metadata": {
      "needs_background": "light"
     },
     "output_type": "display_data"
    },
    {
     "name": "stdout",
     "output_type": "stream",
     "text": [
      "The plot regression describes the relationship between latitude and max temperature; there is a positive correlation because higher latitudes below zero generally correlate to higher maximum temperatures.\n"
     ]
    },
    {
     "data": {
      "image/png": "[encoded data removed]",
      "text/plain": [
       "<Figure size 432x288 with 1 Axes>"
      ]
     },
     "metadata": {
      "needs_background": "light"
     },
     "output_type": "display_data"
    }
   ],
   "source": [
    "negLat = negCleanCityData[\"Latitude\"]\n",
    "maxTemp = negCleanCityData[\"Maximum Temperature\"]\n",
    "x_values = negLat\n",
    "y_values = maxTemp\n",
    "(slope, intercept, rvalue, pvalue, stderr) = linregress(x_values, y_values)\n",
    "regress_values = x_values * slope + intercept\n",
    "line_eq = \"y = \" + str(round(slope,2)) + \"x + \" + str(round(intercept,2))\n",
    "plt.scatter(x_values,y_values, c=\"yellow\")\n",
    "plt.plot(x_values,regress_values,\"r-\")\n",
    "#plt.annotate(line_eq,(0,50),fontsize=15,color=\"red\")\n",
    "plt.xlabel('Latitude')\n",
    "plt.ylabel('Max Temperature (deg. F)')\n",
    "print(f\"The r-squared is: {rvalue**2}\")\n",
    "plt.show()\n",
    "plt.annotate(line_eq,(0,50),fontsize=15,color=\"red\")\n",
    "plt.savefig(\"../Images/neglat_vs_maxTemp.png\")\n",
    "print(\"The plot regression describes the relationship between latitude and max temperature; there is a positive correlation because higher latitudes below zero generally correlate to higher maximum temperatures.\")"
   ]
  },
  {
   "cell_type": "markdown",
   "metadata": {},
   "source": [
    "####  Northern Hemisphere - Humidity (%) vs. Latitude Linear Regression"
   ]
  },
  {
   "cell_type": "code",
   "execution_count": 46,
   "metadata": {},
   "outputs": [
    {
     "name": "stdout",
     "output_type": "stream",
     "text": [
      "The r-squared is: 0.005478973277945599\n"
     ]
    },
    {
     "data": {
      "image/png": "[encoded data removed]",
      "text/plain": [
       "<Figure size 432x288 with 1 Axes>"
      ]
     },
     "metadata": {
      "needs_background": "light"
     },
     "output_type": "display_data"
    },
    {
     "name": "stdout",
     "output_type": "stream",
     "text": [
      "The plot regression describes the relationship between latitude and humidity; there seems to be a slight positive relation for the two.\n"
     ]
    },
    {
     "data": {
      "image/png": "[encoded data removed]",
      "text/plain": [
       "<Figure size 432x288 with 1 Axes>"
      ]
     },
     "metadata": {
      "needs_background": "light"
     },
     "output_type": "display_data"
    }
   ],
   "source": [
    "posLat = posCleanCityData[\"Latitude\"]\n",
    "humidity = posCleanCityData[\"Humidity\"]\n",
    "x_values = posLat\n",
    "y_values = humidity\n",
    "(slope, intercept, rvalue, pvalue, stderr) = linregress(x_values, y_values)\n",
    "regress_values = x_values * slope + intercept\n",
    "line_eq = \"y = \" + str(round(slope,2)) + \"x + \" + str(round(intercept,2))\n",
    "plt.scatter(x_values,y_values, c=\"teal\")\n",
    "plt.plot(x_values,regress_values,\"r-\")\n",
    "#plt.annotate(line_eq,(0,50),fontsize=15,color=\"red\")\n",
    "plt.xlabel('Latitude')\n",
    "plt.ylabel('Humidity (%)')\n",
    "print(f\"The r-squared is: {rvalue**2}\")\n",
    "plt.show()\n",
    "plt.annotate(line_eq,(0,50),fontsize=15,color=\"red\")\n",
    "plt.savefig(\"../Images/poslat_vs_humidity.png\")\n",
    "print(\"The plot regression describes the relationship between latitude and humidity; there seems to be a slight positive relation for the two.\")"
   ]
  },
  {
   "cell_type": "markdown",
   "metadata": {},
   "source": [
    "####  Southern Hemisphere - Humidity (%) vs. Latitude Linear Regression"
   ]
  },
  {
   "cell_type": "code",
   "execution_count": 38,
   "metadata": {},
   "outputs": [
    {
     "name": "stdout",
     "output_type": "stream",
     "text": [
      "The r-squared is: 0.02671509934361093\n"
     ]
    },
    {
     "data": {
      "image/png": "[encoded data removed]",
      "text/plain": [
       "<Figure size 432x288 with 1 Axes>"
      ]
     },
     "metadata": {
      "needs_background": "light"
     },
     "output_type": "display_data"
    },
    {
     "name": "stdout",
     "output_type": "stream",
     "text": [
      "The plot regression describes the relationship between latitude and humidity; there seems to be a negative correlation between latitude below 0 and humidity, so higher latitude corresopnds to lower humidity.\n"
     ]
    },
    {
     "data": {
      "image/png": "[encoded data removed]",
      "text/plain": [
       "<Figure size 432x288 with 1 Axes>"
      ]
     },
     "metadata": {
      "needs_background": "light"
     },
     "output_type": "display_data"
    }
   ],
   "source": [
    "negLat = negCleanCityData[\"Latitude\"]\n",
    "humidity = negCleanCityData[\"Humidity\"]\n",
    "x_values = negLat\n",
    "y_values = humidity\n",
    "(slope, intercept, rvalue, pvalue, stderr) = linregress(x_values, y_values)\n",
    "regress_values = x_values * slope + intercept\n",
    "line_eq = \"y = \" + str(round(slope,2)) + \"x + \" + str(round(intercept,2))\n",
    "plt.scatter(x_values,y_values, c=\"blue\")\n",
    "plt.plot(x_values,regress_values,\"r-\")\n",
    "#plt.annotate(line_eq,(0,50),fontsize=15,color=\"red\")\n",
    "plt.xlabel('Latitude')\n",
    "plt.ylabel('Humidity (%)')\n",
    "print(f\"The r-squared is: {rvalue**2}\")\n",
    "plt.show()\n",
    "plt.annotate(line_eq,(0,50),fontsize=15,color=\"red\")\n",
    "plt.savefig(\"../Images/neglat_vs_Humidities y.png\")\n",
    "print(\"The plot regression describes the relationship between latitude and humidity; there seems to be a negative correlation between latitude below 0 and humidity, so higher latitude corresopnds to lower humidity.\")"
   ]
  },
  {
   "cell_type": "markdown",
   "metadata": {},
   "source": [
    "####  Northern Hemisphere - Cloudiness (%) vs. Latitude Linear Regression"
   ]
  },
  {
   "cell_type": "code",
   "execution_count": 40,
   "metadata": {},
   "outputs": [
    {
     "name": "stdout",
     "output_type": "stream",
     "text": [
      "The r-squared is: 0.00010411806382297881\n"
     ]
    },
    {
     "data": {
      "image/png": "[encoded data removed]",
      "text/plain": [
       "<Figure size 432x288 with 1 Axes>"
      ]
     },
     "metadata": {
      "needs_background": "light"
     },
     "output_type": "display_data"
    },
    {
     "name": "stdout",
     "output_type": "stream",
     "text": [
      "The plot regression describes the relationship between latitude and cloudiness; there appears to be a positive correlation due to the line of best fit, but there truly seems to be no correlation when looking at individual datapoints.\n"
     ]
    },
    {
     "data": {
      "image/png": "[encoded data removed]",
      "text/plain": [
       "<Figure size 432x288 with 1 Axes>"
      ]
     },
     "metadata": {
      "needs_background": "light"
     },
     "output_type": "display_data"
    }
   ],
   "source": [
    "posLat = posCleanCityData[\"Latitude\"]\n",
    "clouds = posCleanCityData[\"Cloudiness\"]\n",
    "x_values = posLat\n",
    "y_values = clouds\n",
    "(slope, intercept, rvalue, pvalue, stderr) = linregress(x_values, y_values)\n",
    "regress_values = x_values * slope + intercept\n",
    "line_eq = \"y = \" + str(round(slope,2)) + \"x + \" + str(round(intercept,2))\n",
    "plt.scatter(x_values,y_values, c=\"black\")\n",
    "plt.plot(x_values,regress_values,\"r-\")\n",
    "#plt.annotate(line_eq,(0,50),fontsize=15,color=\"red\")\n",
    "plt.xlabel('Latitude')\n",
    "plt.ylabel('Cloudiness (%)')\n",
    "print(f\"The r-squared is: {rvalue**2}\")\n",
    "plt.show()\n",
    "plt.annotate(line_eq,(0,50),fontsize=15,color=\"red\")\n",
    "plt.savefig(\"../Images/poslat_vs_cloud.png\")\n",
    "print(\"The plot regression describes the relationship between latitude and cloudiness; there appears to be a positive correlation due to the line of best fit, but there truly seems to be no correlation when looking at individual datapoints.\")"
   ]
  },
  {
   "cell_type": "markdown",
   "metadata": {},
   "source": [
    "####  Southern Hemisphere - Cloudiness (%) vs. Latitude Linear Regression"
   ]
  },
  {
   "cell_type": "code",
   "execution_count": 42,
   "metadata": {},
   "outputs": [
    {
     "name": "stdout",
     "output_type": "stream",
     "text": [
      "The r-squared is: 0.003012251988988949\n"
     ]
    },
    {
     "data": {
      "image/png": "[encoded data removed]",
      "text/plain": [
       "<Figure size 432x288 with 1 Axes>"
      ]
     },
     "metadata": {
      "needs_background": "light"
     },
     "output_type": "display_data"
    },
    {
     "name": "stdout",
     "output_type": "stream",
     "text": [
      "The plot regression describes the relationship between latitude and cloudiness; higher latitude below 0 (less negative) corresponds to less cloudiness.\n"
     ]
    },
    {
     "data": {
      "image/png": "[encoded data removed]",
      "text/plain": [
       "<Figure size 432x288 with 1 Axes>"
      ]
     },
     "metadata": {
      "needs_background": "light"
     },
     "output_type": "display_data"
    }
   ],
   "source": [
    "negLat = negCleanCityData[\"Latitude\"]\n",
    "clouds = negCleanCityData[\"Cloudiness\"]\n",
    "x_values = negLat\n",
    "y_values = clouds\n",
    "(slope, intercept, rvalue, pvalue, stderr) = linregress(x_values, y_values)\n",
    "regress_values = x_values * slope + intercept\n",
    "line_eq = \"y = \" + str(round(slope,2)) + \"x + \" + str(round(intercept,2))\n",
    "plt.scatter(x_values,y_values, c=\"purple\")\n",
    "plt.plot(x_values,regress_values,\"r-\")\n",
    "#plt.annotate(line_eq,(0,50),fontsize=15,color=\"red\")\n",
    "plt.xlabel('Latitude')\n",
    "plt.ylabel('Cloudiness (%)')\n",
    "print(f\"The r-squared is: {rvalue**2}\")\n",
    "plt.show()\n",
    "plt.annotate(line_eq,(0,50),fontsize=15,color=\"red\")\n",
    "plt.savefig(\"../Images/neglat_vs_cloud.png\")\n",
    "print(\"The plot regression describes the relationship between latitude and cloudiness; higher latitude below 0 (less negative) corresponds to less cloudiness.\")"
   ]
  },
  {
   "cell_type": "markdown",
   "metadata": {},
   "source": [
    "####  Northern Hemisphere - Wind Speed (mph) vs. Latitude Linear Regression"
   ]
  },
  {
   "cell_type": "code",
   "execution_count": 44,
   "metadata": {},
   "outputs": [
    {
     "name": "stdout",
     "output_type": "stream",
     "text": [
      "The r-squared is: 0.009826556178474355\n"
     ]
    },
    {
     "data": {
      "image/png": "[encoded data removed]",
      "text/plain": [
       "<Figure size 432x288 with 1 Axes>"
      ]
     },
     "metadata": {
      "needs_background": "light"
     },
     "output_type": "display_data"
    },
    {
     "name": "stdout",
     "output_type": "stream",
     "text": [
      "The plot regression describes the relationship between latitude and wind; there appears to be a negative correlation between the two.\n"
     ]
    },
    {
     "data": {
      "image/png": "[encoded data removed]",
      "text/plain": [
       "<Figure size 432x288 with 1 Axes>"
      ]
     },
     "metadata": {
      "needs_background": "light"
     },
     "output_type": "display_data"
    }
   ],
   "source": [
    "posLat = posCleanCityData[\"Latitude\"]\n",
    "windspd = posCleanCityData[\"Wind Speed\"]\n",
    "x_values = posLat\n",
    "y_values = windspd\n",
    "(slope, intercept, rvalue, pvalue, stderr) = linregress(x_values, y_values)\n",
    "regress_values = x_values * slope + intercept\n",
    "line_eq = \"y = \" + str(round(slope,2)) + \"x + \" + str(round(intercept,2))\n",
    "plt.scatter(x_values,y_values, c=\"green\")\n",
    "plt.plot(x_values,regress_values,\"r-\")\n",
    "#plt.annotate(line_eq,(0,50),fontsize=15,color=\"red\")\n",
    "plt.xlabel('Latitude')\n",
    "plt.ylabel('Wind Speed')\n",
    "print(f\"The r-squared is: {rvalue**2}\")\n",
    "plt.show()\n",
    "plt.annotate(line_eq,(0,50),fontsize=15,color=\"red\")\n",
    "plt.savefig(\"../Images/poslat_vs_windspd.png\")\n",
    "print(\"The plot regression describes the relationship between latitude and wind; there appears to be a negative correlation between the two.\")"
   ]
  },
  {
   "cell_type": "markdown",
   "metadata": {},
   "source": [
    "####  Southern Hemisphere - Wind Speed (mph) vs. Latitude Linear Regression"
   ]
  },
  {
   "cell_type": "code",
   "execution_count": 45,
   "metadata": {
    "scrolled": true
   },
   "outputs": [
    {
     "name": "stdout",
     "output_type": "stream",
     "text": [
      "The r-squared is: 0.001804273367512878\n"
     ]
    },
    {
     "data": {
      "image/png": "[encoded data removed]",
      "text/plain": [
       "<Figure size 432x288 with 1 Axes>"
      ]
     },
     "metadata": {
      "needs_background": "light"
     },
     "output_type": "display_data"
    },
    {
     "name": "stdout",
     "output_type": "stream",
     "text": [
      "The plot regression describes the relationship between latitude and wind speed; higher latitude below 0 (less negative) tends to have lower humidity.\n"
     ]
    },
    {
     "data": {
      "image/png": "[encoded data removed]",
      "text/plain": [
       "<Figure size 432x288 with 1 Axes>"
      ]
     },
     "metadata": {
      "needs_background": "light"
     },
     "output_type": "display_data"
    }
   ],
   "source": [
    "negLat = negCleanCityData[\"Latitude\"]\n",
    "windspd = negCleanCityData[\"Wind Speed\"]\n",
    "x_values = negLat\n",
    "y_values = windspd\n",
    "(slope, intercept, rvalue, pvalue, stderr) = linregress(x_values, y_values)\n",
    "regress_values = x_values * slope + intercept\n",
    "line_eq = \"y = \" + str(round(slope,2)) + \"x + \" + str(round(intercept,2))\n",
    "plt.scatter(x_values,y_values, c=\"pink\")\n",
    "plt.plot(x_values,regress_values,\"r-\")\n",
    "#plt.annotate(line_eq,(0,50),fontsize=15,color=\"red\")\n",
    "plt.xlabel('Latitude')\n",
    "plt.ylabel('Wind Speed (mph)')\n",
    "print(f\"The r-squared is: {rvalue**2}\")\n",
    "plt.show()\n",
    "plt.annotate(line_eq,(0,50),fontsize=15,color=\"red\")\n",
    "plt.savefig(\"../Images/neglat_vs_windspd.png\")\n",
    "print(\"The plot regression describes the relationship between latitude and wind speed; higher latitude below 0 (less negative) tends to have lower humidity.\")"
   ]
  },
  {
   "cell_type": "code",
   "execution_count": null,
   "metadata": {},
   "outputs": [],
   "source": []
  }
 ],
 "metadata": {
  "anaconda-cloud": {},
  "kernel_info": {
   "name": "python3"
  },
  "kernelspec": {
   "display_name": "Python 3 (ipykernel)",
   "language": "python",
   "name": "python3"
  },
  "language_info": {
   "codemirror_mode": {
    "name": "ipython",
    "version": 3
   },
   "file_extension": ".py",
   "mimetype": "text/x-python",
   "name": "python",
   "nbconvert_exporter": "python",
   "pygments_lexer": "ipython3",
   "version": "3.9.12"
  },
  "latex_envs": {
   "LaTeX_envs_menu_present": true,
   "autoclose": false,
   "autocomplete": true,
   "bibliofile": "biblio.bib",
   "cite_by": "apalike",
   "current_citInitial": 1,
   "eqLabelWithNumbers": true,
   "eqNumInitial": 1,
   "hotkeys": {
    "equation": "Ctrl-E",
    "itemize": "Ctrl-I"
   },
   "labels_anchors": false,
   "latex_user_defs": false,
   "report_style_numbering": false,
   "user_envs_cfg": false
  },
  "nteract": {
   "version": "0.12.3"
  }
 },
 "nbformat": 4,
 "nbformat_minor": 2
}
