{
 "cells": [
  {
   "cell_type": "markdown",
   "metadata": {},
   "source": [
    "# WeatherPy\n",
    "----\n",
    "\n",
    "#### Note\n",
    "* Instructions have been included for each segment. You do not have to follow them exactly, but they are included to help you think through the steps."
   ]
  },
  {
   "cell_type": "code",
   "execution_count": 2,
   "metadata": {
    "scrolled": true
   },
   "outputs": [],
   "source": [
    "# Dependencies and Setup\n",
    "import matplotlib.pyplot as plt\n",
    "import pandas as pd\n",
    "import numpy as np\n",
    "import requests\n",
    "import time\n",
    "from scipy.stats import linregress\n",
    "from pprint import pprint\n",
    "\n",
    "# Import API key\n",
    "from api_keys import weather_api_key\n",
    "\n",
    "# Incorporated citipy to determine city based on latitude and longitude\n",
    "from citipy import citipy\n",
    "\n",
    "# Output File (CSV)\n",
    "output_data_file = \"output_data/cities.csv\"\n",
    "\n",
    "# Range of latitudes and longitudes\n",
    "lat_range = (-90, 90)\n",
    "lng_range = (-180, 180)"
   ]
  },
  {
   "cell_type": "markdown",
   "metadata": {},
   "source": [
    "## Generate Cities List"
   ]
  },
  {
   "cell_type": "code",
   "execution_count": 3,
   "metadata": {},
   "outputs": [
    {
     "data": {
      "text/plain": [
       "619"
      ]
     },
     "execution_count": 3,
     "metadata": {},
     "output_type": "execute_result"
    }
   ],
   "source": [
    "# List for holding lat_lngs and cities\n",
    "lat_lngs = []\n",
    "cities = []\n",
    "\n",
    "# Create a set of random lat and lng combinations\n",
    "lats = np.random.uniform(lat_range[0], lat_range[1], size=1500)\n",
    "lngs = np.random.uniform(lng_range[0], lng_range[1], size=1500)\n",
    "lat_lngs = zip(lats, lngs)\n",
    "\n",
    "# Identify nearest city for each lat, lng combination\n",
    "for lat_lng in lat_lngs:\n",
    "    city = citipy.nearest_city(lat_lng[0], lat_lng[1]).city_name\n",
    "    \n",
    "    # If the city is unique, then add it to a our cities list\n",
    "    if city not in cities:\n",
    "        cities.append(city)\n",
    "        \n",
    "# Print the city count to confirm sufficient count\n",
    "len(cities)"
   ]
  },
  {
   "cell_type": "markdown",
   "metadata": {},
   "source": [
    "### Perform API Calls\n",
    "* Perform a weather check on each city using a series of successive API calls.\n",
    "* Include a print log of each city as it'sbeing processed (with the city number and city name).\n"
   ]
  },
  {
   "cell_type": "code",
   "execution_count": 6,
   "metadata": {},
   "outputs": [
    {
     "name": "stdout",
     "output_type": "stream",
     "text": [
      "'Getting info for Rikitea'\n",
      "'No records found'\n",
      "'Getting info for Kaitangata'\n",
      "'Getting info for Bredasdorp'\n",
      "'Getting info for Laas'\n",
      "'Getting info for Price'\n",
      "'Getting info for Tiksi'\n",
      "'Getting info for Paita'\n",
      "'No records found'\n",
      "'Getting info for Souillac'\n",
      "'Getting info for Vaini'\n",
      "'Getting info for Asău'\n",
      "'Getting info for Tasiilaq'\n",
      "'Getting info for Vila Velha'\n",
      "'Getting info for Teguise'\n",
      "'Getting info for Qaanaaq'\n",
      "'Getting info for Esim'\n",
      "'Getting info for Sampit'\n",
      "'Getting info for Carnarvon'\n",
      "'Getting info for Skibbereen'\n",
      "'Getting info for Estelle'\n",
      "'Getting info for Mataura'\n",
      "'Getting info for Mar del Plata'\n",
      "'Getting info for Baculin'\n",
      "'Getting info for Sovetskoye'\n",
      "\"Getting info for Yuzhnoural'sk\"\n",
      "'Getting info for Vila Franca do Campo'\n",
      "'No records found'\n",
      "'Getting info for Bethel'\n",
      "'Getting info for Rusape'\n",
      "'Getting info for Upernavik'\n",
      "'Getting info for Cape Town'\n",
      "'Getting info for Punta Arenas'\n",
      "'Getting info for Mount Gambier'\n",
      "'Getting info for Butaritari'\n",
      "'Getting info for Mahébourg'\n",
      "'Getting info for Albany'\n",
      "'Getting info for Muisne'\n",
      "\"Getting info for Severo-Kuril'sk\"\n",
      "'Getting info for Codrington'\n",
      "'Getting info for Pisco'\n",
      "'Getting info for Moranbah'\n",
      "'Getting info for Teahupoo'\n",
      "'No records found'\n",
      "'Getting info for Vardø'\n",
      "'Getting info for Hermanus'\n",
      "'Getting info for Castro'\n",
      "'Getting info for Ponta do Sol'\n",
      "'Getting info for Tuktoyaktuk'\n",
      "'Getting info for Cayenne'\n",
      "'Getting info for Ambilobe'\n",
      "'Getting info for Alyangula'\n",
      "'Getting info for Chumikan'\n",
      "'Getting info for Hilo'\n",
      "'Getting info for Jalingo'\n",
      "'Getting info for Moroni'\n",
      "'Getting info for Lingao'\n",
      "'Getting info for Kandrian'\n",
      "'Getting info for Port Alfred'\n",
      "'Getting info for Khasan'\n",
      "'Getting info for Puerto Ayora'\n",
      "'Getting info for Saint Paul Harbor'\n",
      "'Getting info for Saint George'\n",
      "'Getting info for Vao'\n",
      "'Getting info for Thunder Bay'\n",
      "'Getting info for Bilma'\n",
      "'Getting info for Ostrovnoy'\n",
      "'Getting info for Ushuaia'\n",
      "'Getting info for Airai'\n",
      "'Getting info for Yeniseysk'\n",
      "'Getting info for Salalah'\n",
      "'Getting info for Yellowknife'\n",
      "'Getting info for Hamilton'\n",
      "'Getting info for Ambérieu-en-Bugey'\n",
      "'Getting info for Zhigansk'\n",
      "'Getting info for São Filipe'\n",
      "'Getting info for Nikolskoye'\n",
      "'Getting info for Haimen'\n",
      "'Getting info for Narsaq'\n",
      "'Getting info for Inírida'\n",
      "'Getting info for Bluff'\n",
      "'Getting info for Beringovskiy'\n",
      "'Getting info for Kapaa'\n",
      "'Getting info for Madhupur'\n",
      "'Getting info for Finote Selam'\n",
      "'Getting info for Husavik'\n",
      "'Getting info for Acajutla'\n",
      "'No records found'\n",
      "'Getting info for Busselton'\n",
      "'Getting info for Gushikawa'\n",
      "'Getting info for Velyka Lepetykha'\n",
      "'No records found'\n",
      "'Getting info for Grand Gaube'\n",
      "'Getting info for Ketchikan'\n",
      "\"Getting info for Krasnosel'kup\"\n",
      "'Getting info for Sulangan'\n",
      "'Getting info for Linhares'\n",
      "'Getting info for Saint-Philippe'\n",
      "'Getting info for Spornoye'\n",
      "'Getting info for Shar'\n",
      "'Getting info for Port Macquarie'\n",
      "'Getting info for Lerwick'\n",
      "'Getting info for Alofi'\n",
      "'Getting info for La Rioja'\n",
      "'Getting info for Arlington'\n",
      "'Getting info for Angoram'\n",
      "'No records found'\n",
      "'Getting info for Hong Kong'\n",
      "'Getting info for Pombas'\n",
      "'Getting info for Iberia'\n",
      "'Getting info for Znamenskoye'\n",
      "'Getting info for Yangi Marg`ilon'\n",
      "'Getting info for La Ronge'\n",
      "'Getting info for Madisonville'\n",
      "'Getting info for Rome'\n",
      "'Getting info for Portland'\n",
      "'Getting info for Yerbogachën'\n",
      "'Getting info for Adrar'\n",
      "'No records found'\n",
      "'Getting info for Ise'\n",
      "'Getting info for San Quintín'\n",
      "'Getting info for Rawson'\n",
      "'Getting info for Huarmey'\n",
      "'Getting info for Dikson'\n",
      "'Getting info for Tiznit Province'\n",
      "'Getting info for Alugan'\n",
      "'Getting info for Shihezi'\n",
      "'Getting info for Vestmannaeyjar'\n",
      "'Getting info for Rapid Valley'\n",
      "'Getting info for Norman Wells'\n",
      "'Getting info for Bandarbeyla'\n",
      "'Getting info for Port Hardy'\n",
      "'No records found'\n",
      "'Getting info for Flinders'\n",
      "'Getting info for Grand-Santi'\n",
      "'Getting info for Whitianga'\n",
      "'Getting info for Tommot'\n",
      "'No records found'\n",
      "'Getting info for George Town'\n",
      "'No records found'\n",
      "'Getting info for Fortuna'\n",
      "'Getting info for Makakilo City'\n",
      "'Getting info for Cherskiy'\n",
      "'Getting info for Avera'\n",
      "'Getting info for Port Elizabeth'\n",
      "'Getting info for Presidente Médici'\n",
      "'Getting info for Klaksvík'\n",
      "'Getting info for Hobart'\n",
      "'Getting info for Hasaki'\n",
      "'Getting info for New Norfolk'\n",
      "'Getting info for Tilichiki'\n",
      "'Getting info for Muğla Province'\n",
      "'Getting info for Yichun'\n",
      "'Getting info for San Jose'\n",
      "'Getting info for Iquitos'\n",
      "'Getting info for Thompson'\n",
      "'Getting info for Cidreira'\n",
      "'Getting info for Miracema do Tocantins'\n",
      "'Getting info for Flin Flon'\n",
      "'Getting info for Aksu'\n",
      "'No records found'\n",
      "'Getting info for Kahului'\n",
      "'Getting info for Khatanga'\n",
      "'Getting info for Paamiut'\n",
      "'Getting info for Jamestown'\n",
      "'Getting info for Watsa'\n",
      "'Getting info for Chernyshevskiy'\n",
      "'Getting info for Poso'\n",
      "'Getting info for Provideniya'\n",
      "'Getting info for Santarém'\n",
      "'Getting info for Uthal'\n",
      "'Getting info for Muros'\n",
      "'Getting info for Longyearbyen'\n",
      "'Getting info for Sakakah'\n",
      "'Getting info for Caravelas'\n",
      "'No records found'\n",
      "'Getting info for Atuona'\n",
      "'Getting info for Ilulissat'\n",
      "'Getting info for Hervey Bay'\n",
      "'Getting info for Vostok'\n",
      "'Getting info for Nelson Bay'\n",
      "'Getting info for Maceió'\n",
      "'Getting info for Port-Gentil'\n",
      "'Getting info for High Level'\n",
      "'No records found'\n",
      "'Getting info for Saldanha'\n",
      "'Getting info for Kristinestad'\n",
      "'Getting info for Sørland'\n",
      "'Getting info for Sistranda'\n",
      "'Getting info for Bundaberg'\n",
      "'Getting info for Kirakira'\n",
      "'Getting info for Ribeira Grande'\n",
      "'Getting info for Trincomalee'\n",
      "'Getting info for Santa Isabel Rio Negro'\n",
      "'No records found'\n",
      "'Getting info for Verāval'\n",
      "'Getting info for Warri'\n",
      "'Getting info for Ōhara'\n",
      "'Getting info for Tuatapere'\n",
      "'Getting info for East London'\n",
      "'Getting info for Malchevskaya'\n",
      "'Getting info for Preston'\n",
      "'Getting info for Hithadhoo'\n",
      "'Getting info for Barrow'\n",
      "'Getting info for Porbandar'\n",
      "'Getting info for Province of Mantua'\n",
      "'Getting info for Maltahöhe'\n",
      "'No records found'\n",
      "'No records found'\n",
      "'Getting info for Nome'\n",
      "'Getting info for Ballina'\n",
      "'No records found'\n",
      "'Getting info for Tura'\n",
      "'Getting info for Monrovia'\n",
      "'Getting info for Ternate'\n",
      "'Getting info for Novoselytsya'\n",
      "'Getting info for Kiama'\n",
      "'Getting info for Kruisfontein'\n",
      "'Getting info for Tingi'\n",
      "'Getting info for Jiuquan'\n",
      "'Getting info for Emba'\n",
      "'No records found'\n",
      "'Getting info for Terre Haute'\n",
      "'Getting info for Nangomba'\n",
      "'Getting info for Katsuura'\n",
      "'Getting info for Tazovsky'\n",
      "'Getting info for Hollister'\n",
      "'Getting info for Boyuibe'\n",
      "'Getting info for Isangel'\n",
      "'Getting info for Aswān'\n",
      "'Getting info for Margate'\n",
      "'Getting info for Iqaluit'\n",
      "'Getting info for Sitka'\n",
      "'Getting info for Havøysund'\n",
      "'No records found'\n",
      "'Getting info for Honningsvåg'\n",
      "'Getting info for Pangnirtung'\n",
      "'Getting info for Roebourne'\n",
      "'Getting info for Abu Dhabi'\n",
      "'Getting info for Bambous Virieux'\n",
      "'Getting info for Richards Bay'\n",
      "'Getting info for Shenjiamen'\n",
      "'Getting info for Requena'\n",
      "'Getting info for Guarapari'\n",
      "'Getting info for Youghal'\n",
      "'Getting info for Tabou'\n",
      "'Getting info for Haldībāri'\n",
      "'Getting info for Whitehorse'\n",
      "'Getting info for Saint-Joseph'\n",
      "'Getting info for Kununurra'\n",
      "'Getting info for Bastrop'\n",
      "'Getting info for Sawtell'\n",
      "'Getting info for Chokurdakh'\n",
      "'Getting info for Káloz'\n",
      "'Getting info for Lüderitz'\n",
      "'Getting info for Cabo San Lucas'\n",
      "'Getting info for Arraial do Cabo'\n",
      "'Getting info for Bathsheba'\n",
      "'Getting info for San Patricio'\n",
      "'No records found'\n",
      "'Getting info for Montague'\n",
      "'Getting info for Victor Harbor'\n",
      "'Getting info for Santa Rosa'\n",
      "'Getting info for Mocuba'\n",
      "'Getting info for Yulara'\n",
      "'Getting info for Hirara'\n",
      "'Getting info for Trelew'\n",
      "'Getting info for Santa Fe'\n",
      "'Getting info for Neiafu'\n",
      "'Getting info for Lata'\n",
      "'No records found'\n",
      "'Getting info for Quixeramobim'\n",
      "'No records found'\n",
      "'Getting info for Pangkalanbuun'\n",
      "'Getting info for Padre Bernardo'\n",
      "'Getting info for Bubaque'\n",
      "'Getting info for Eureka'\n",
      "'No records found'\n",
      "'Getting info for College'\n",
      "'Getting info for Jashpurnagar'\n",
      "'Getting info for Mayumba'\n",
      "'Getting info for Lebu'\n",
      "'Getting info for Gimli'\n",
      "'Getting info for Avarua'\n",
      "'Getting info for San Nicolas'\n",
      "'Getting info for Russell'\n",
      "'Getting info for Usoke'\n",
      "'Getting info for Marystown'\n",
      "'Getting info for Karratha'\n",
      "'Getting info for Ngunguru'\n",
      "'Getting info for Pokhara'\n",
      "'Getting info for Saskylakh'\n",
      "'Getting info for São José da Coroa Grande'\n",
      "'Getting info for Barra do Garças'\n",
      "'Getting info for Northam'\n",
      "'Getting info for Lagoa'\n"
     ]
    },
    {
     "name": "stdout",
     "output_type": "stream",
     "text": [
      "'Getting info for Smithers'\n",
      "'Getting info for San Juan'\n",
      "'Getting info for Kyra'\n",
      "'Getting info for Nyamuswa'\n",
      "'Getting info for Amahai'\n",
      "'Getting info for Lompoc'\n",
      "'Getting info for Barra de Tecoanapa'\n",
      "'Getting info for Vangaindrano'\n",
      "'Getting info for Bizhbulyak'\n",
      "'No records found'\n",
      "'Getting info for Yakeshi'\n",
      "'Getting info for Cockburn Town'\n",
      "'Getting info for Itarema'\n",
      "'Getting info for High Prairie'\n",
      "'Getting info for Sisimiut'\n",
      "'Getting info for Yar-Sale'\n",
      "'Getting info for Zhangaözen'\n",
      "'Getting info for Egvekinot'\n",
      "'Getting info for Hay River'\n",
      "'Getting info for Guerrero Negro'\n",
      "'Getting info for Talnakh'\n",
      "'Getting info for Torbay'\n",
      "'Getting info for Yangjiang'\n",
      "'Getting info for Osinki'\n",
      "'Getting info for Ponce'\n",
      "'Getting info for Burns Lake'\n",
      "'Getting info for Polis'\n",
      "'No records found'\n",
      "'Getting info for Thaton'\n",
      "'Getting info for Malm'\n",
      "'Getting info for Alton'\n",
      "'No records found'\n",
      "'Getting info for Samarai'\n",
      "'Getting info for Faya'\n",
      "'Getting info for Ibaan'\n",
      "'Getting info for Gizo Government Station'\n",
      "'Getting info for Champerico'\n",
      "'Getting info for Geraldton'\n",
      "'Getting info for Ust-Nera'\n",
      "'Getting info for Saint-François'\n",
      "'Getting info for Rodolfo Sánchez Taboada'\n",
      "'Getting info for Necochea'\n",
      "'No records found'\n",
      "'Getting info for Saint-Pierre'\n",
      "'Getting info for Naze'\n",
      "'Getting info for Belyy Yar'\n",
      "'Getting info for Gobabis'\n",
      "'Getting info for Ancud'\n",
      "'Getting info for Mayo'\n",
      "'Getting info for Māngrol'\n",
      "'Getting info for Vung Tau'\n",
      "'Getting info for Morón'\n",
      "'Getting info for Prince Rupert'\n",
      "'Getting info for Sobolevo'\n",
      "'Getting info for Lakhtinskiy'\n",
      "'Getting info for Esperance'\n",
      "'Getting info for Soyo'\n",
      "'Getting info for Hambantota'\n",
      "'Getting info for Tucuruí'\n",
      "'Getting info for Vila'\n",
      "'Getting info for Praia'\n",
      "'Getting info for San Antonio'\n",
      "'Getting info for Magadan'\n",
      "'Getting info for Casper'\n",
      "'Getting info for Acaraú'\n",
      "'Getting info for Leningradskiy'\n",
      "'Getting info for La Santisima Trinidad'\n",
      "'Getting info for Wanaka'\n",
      "'Getting info for São João da Barra'\n",
      "'Getting info for Berdigestyakh'\n",
      "'Getting info for Jaguarão'\n",
      "'Getting info for ‘Āhuimanu'\n",
      "'Getting info for Pochutla'\n",
      "'Getting info for Río Gallegos'\n",
      "'Getting info for Concepción del Uruguay'\n",
      "'Getting info for Carthage'\n",
      "'Getting info for Alice Springs'\n",
      "'No records found'\n",
      "'Getting info for Ust-Tsilma'\n",
      "'No records found'\n",
      "'Getting info for Sucúa'\n",
      "'Getting info for Severodvinsk'\n",
      "'Getting info for Dunedin'\n",
      "'Getting info for Spas'\n",
      "'Getting info for Labuhan'\n",
      "'Getting info for Constitución'\n",
      "'Getting info for Skagen'\n",
      "'Getting info for Lavrentiya'\n",
      "'Getting info for Kondinskoye'\n",
      "'Getting info for Srednekolymsk'\n",
      "'Getting info for Mount Isa'\n",
      "'Getting info for Manavālakurichi'\n",
      "'Getting info for Kavieng'\n",
      "'Getting info for Rocha'\n",
      "'Getting info for Vila do Maio'\n",
      "'Getting info for Scottsbluff'\n",
      "'Getting info for Santa Cruz de la Sierra'\n",
      "'Getting info for Yenagoa'\n",
      "'No records found'\n",
      "'No records found'\n",
      "'Getting info for At-Bashi'\n",
      "'Getting info for Hoima'\n",
      "'Getting info for Biskamzha'\n",
      "'Getting info for Thinadhoo'\n",
      "'Getting info for Gravdal'\n",
      "'Getting info for Maputo'\n",
      "'No records found'\n",
      "'No records found'\n",
      "'Getting info for Igarka'\n",
      "'Getting info for Kavaratti'\n",
      "'Getting info for Tahe'\n",
      "'Getting info for Vigrestad'\n",
      "'Getting info for Zemio'\n",
      "'No records found'\n",
      "'Getting info for Quang Ngai'\n",
      "'Getting info for Nicolás Bravo'\n",
      "'Getting info for Pacific Grove'\n",
      "'Getting info for Goshogawara'\n",
      "'Getting info for Cacoal'\n",
      "'Getting info for Port Hedland'\n",
      "'Getting info for Alta Floresta'\n",
      "'Getting info for Teo'\n",
      "'Getting info for Brigantine'\n",
      "'Getting info for Balyqshy'\n",
      "'Getting info for Zambezi'\n",
      "'Getting info for Cururupu'\n",
      "'Getting info for Te Anau'\n",
      "'Getting info for Kumul'\n",
      "'Getting info for Longyan'\n",
      "'Getting info for Hūn'\n",
      "'Getting info for Waddān'\n",
      "'Getting info for Labuan'\n",
      "'Getting info for Pacocha'\n",
      "'Getting info for Orán'\n",
      "'Getting info for Harper'\n",
      "'Getting info for Nobeoka'\n",
      "'Getting info for Lakes Entrance'\n",
      "'Getting info for Mgandu'\n",
      "'Getting info for Chabahar'\n",
      "'Getting info for Port Hawkesbury'\n",
      "'Getting info for Novobirilyussy'\n",
      "'Getting info for Aykhal'\n",
      "'Getting info for Baruun-Urt'\n",
      "'Getting info for Devonport'\n",
      "'Getting info for Huangnihe'\n",
      "'Getting info for Moriya'\n",
      "'Getting info for Coquimbo'\n",
      "'Getting info for Olinda'\n",
      "'Getting info for Bijapur'\n",
      "'Getting info for Xiaoshi'\n",
      "'Getting info for Polson'\n",
      "'Getting info for Siocon'\n",
      "'Getting info for Faanui'\n",
      "'Getting info for Tabuk'\n",
      "'Getting info for Mozhaysk'\n",
      "'Getting info for Pevek'\n",
      "'Getting info for Freeport'\n",
      "'No records found'\n",
      "'Getting info for North Myrtle Beach'\n",
      "'Getting info for Banyuwangi'\n",
      "'No records found'\n",
      "'Getting info for Korla'\n",
      "'Getting info for Manokwari'\n",
      "'Getting info for Launceston'\n",
      "'Getting info for Cândido Mendes'\n",
      "'No records found'\n",
      "'Getting info for Praia'\n",
      "'Getting info for Ruidoso'\n",
      "'Getting info for Chui'\n",
      "'No records found'\n",
      "'Getting info for Palana'\n",
      "'Getting info for Shimoda'\n",
      "'Getting info for Kerman'\n",
      "'Getting info for Trivandrum'\n",
      "'Getting info for Mossamedes'\n",
      "'Getting info for City of San Pedro'\n",
      "'Getting info for Natal'\n",
      "'Getting info for Moose Factory'\n",
      "'Getting info for Riviere-au-Renard'\n",
      "'Getting info for Kibungo'\n",
      "'No records found'\n",
      "'Getting info for Okhotsk'\n",
      "'Getting info for Taseyevo'\n",
      "'Getting info for Lorengau'\n",
      "'Getting info for Yumen'\n",
      "'Getting info for Gigmoto'\n",
      "'Getting info for Talcahuano'\n",
      "'Getting info for Buchanan'\n",
      "'Getting info for Halifax'\n",
      "'No records found'\n",
      "'Getting info for Nyaunglebin'\n",
      "'No records found'\n",
      "'Getting info for Tessalit'\n",
      "'Getting info for Mufumbwe'\n",
      "'Getting info for Baykit'\n",
      "'Getting info for Opuwo'\n",
      "'Getting info for Morehead'\n",
      "'Getting info for Mooresville'\n",
      "'Getting info for Sibolga'\n",
      "'Getting info for Murgab'\n",
      "'Getting info for Tarnów'\n",
      "'Getting info for Anchorage'\n",
      "'Getting info for Umluj'\n",
      "'No records found'\n",
      "'Getting info for Anshun'\n",
      "'Getting info for Kloulklubed'\n",
      "'Getting info for Kiryat Gat'\n",
      "'Getting info for Goma'\n",
      "'Getting info for Samsun Province'\n",
      "'Getting info for Sijunjung'\n",
      "'Getting info for Andalan'\n",
      "'Getting info for Nouadhibou'\n",
      "'No records found'\n",
      "'Getting info for Comodoro Rivadavia'\n",
      "'Getting info for St. Pete Beach'\n",
      "'Getting info for Villa María'\n",
      "'Getting info for Steinbach am Taunus'\n",
      "'Getting info for Shingū'\n",
      "'Getting info for Lluta'\n",
      "'No records found'\n",
      "'Getting info for Horki'\n",
      "'Getting info for Nha Trang'\n",
      "'Getting info for Vestmanna'\n",
      "'Getting info for Bengkulu'\n",
      "'Getting info for Jacqueville'\n",
      "'Getting info for San Cristobal'\n",
      "'Getting info for San Andrés'\n",
      "'Getting info for Saint-Augustin'\n",
      "'Getting info for São Raimundo Nonato'\n",
      "'Getting info for Binga'\n",
      "'Getting info for Pitimbu'\n",
      "'Getting info for Hobyo'\n",
      "'Getting info for Skegness'\n",
      "'Getting info for Mangai'\n",
      "'Getting info for Kushmurun'\n",
      "'Getting info for Terrace'\n",
      "'Getting info for Tual'\n",
      "'Getting info for Luanda'\n",
      "'Getting info for Warah'\n",
      "'Getting info for Waingapu'\n",
      "'Getting info for Dulce Nombre de Culmí'\n",
      "'Getting info for Bouna'\n",
      "'Getting info for Borş'\n",
      "'Getting info for Dabakala'\n",
      "'Getting info for Port Keats'\n",
      "'Getting info for Buraidah'\n",
      "'Getting info for Wanning'\n",
      "'Getting info for Ena'\n",
      "'Getting info for Ingham'\n",
      "'Getting info for Moree'\n",
      "'Getting info for Kanniyākumāri'\n",
      "'Getting info for Garbolovo'\n",
      "'Getting info for Rio Grande'\n",
      "'Getting info for Vilyuysk'\n",
      "\"Getting info for Ust'-Omchug\"\n",
      "'No records found'\n",
      "'Getting info for Shache'\n",
      "'Getting info for Karatuzskoye'\n",
      "'Getting info for Palauig'\n",
      "'Getting info for Chara'\n",
      "'Getting info for Kjøllefjord'\n",
      "'Getting info for Coahuayana Viejo'\n",
      "'Getting info for Talaya'\n",
      "'Getting info for Chai Badan'\n",
      "'Getting info for Havelock'\n",
      "'Getting info for Perevoz'\n",
      "'Getting info for Novo Aripuanã'\n",
      "'Getting info for Vanimo'\n",
      "'Getting info for Kemijärvi'\n",
      "'Getting info for Huayucachi'\n",
      "'Getting info for Berlevåg'\n",
      "'Getting info for Seoul'\n",
      "'Getting info for Morros'\n",
      "'Getting info for Alexandria'\n",
      "'Getting info for Mezhdurechensk'\n",
      "'Getting info for Coihueco'\n",
      "'Getting info for Nyurba'\n",
      "'Getting info for Wajima'\n",
      "'Getting info for Aksarka'\n",
      "'Getting info for Lufilufi'\n",
      "'Getting info for Labytnangi'\n",
      "'Getting info for Monte Alegre'\n",
      "'Getting info for Biak'\n",
      "'Getting info for Kattivākkam'\n",
      "'Getting info for Petropavlovsk-Kamchatskiy'\n",
      "'Getting info for Auki'\n",
      "'Getting info for Morogoro'\n",
      "'Getting info for Pendleton'\n",
      "'Getting info for Grafton'\n",
      "'Getting info for Baní'\n",
      "'Getting info for Grindavik'\n",
      "'Getting info for Takapau'\n",
      "'Getting info for Mackay'\n"
     ]
    },
    {
     "name": "stdout",
     "output_type": "stream",
     "text": [
      "'Getting info for Ugoofaaru'\n",
      "'Getting info for Grójec'\n",
      "'Getting info for Simao'\n",
      "'Getting info for Homer'\n",
      "\"Getting info for Arman'\"\n",
      "'Getting info for North Bend'\n",
      "'Getting info for Sechura'\n",
      "'Getting info for Marzuq'\n",
      "'Getting info for Udachny'\n",
      "'Getting info for Bajil'\n",
      "'Getting info for Canutama'\n",
      "'Getting info for Karangampel'\n",
      "'Getting info for Sault Ste. Marie'\n",
      "'Getting info for Zagora'\n",
      "'Getting info for Japura'\n",
      "'No records found'\n",
      "'Getting info for Los Llanos de Aridane'\n",
      "'Getting info for Balkhash'\n",
      "'Getting info for Fomboni'\n",
      "'Getting info for Patrocínio'\n",
      "'Getting info for Mitsamiouli'\n",
      "'Getting info for Bria'\n",
      "'Getting info for Davila'\n",
      "'Getting info for Inhambane'\n",
      "'Getting info for Atar'\n",
      "'Getting info for Fairbanks'\n",
      "'No records found'\n",
      "'Getting info for Martapura'\n",
      "'Getting info for Katherine'\n",
      "'Getting info for Palatka'\n"
     ]
    }
   ],
   "source": [
    "url = \"http://api.openweathermap.org/data/2.5/weather?\"\n",
    "cityObjs = []\n",
    "\n",
    "for city in cities:\n",
    "    query_url = url + \"appid=\" + weather_api_key + \"&q=\" + city\n",
    "    #print(query_url)\n",
    "    weather_response = requests.get(query_url)\n",
    "    weather_json = weather_response.json()\n",
    "    try:\n",
    "        cityName = weather_json['name']\n",
    "        cityNum = cities.index(city)\n",
    "        # latitude\n",
    "        cityLat = weather_json['coord']['lat']\n",
    "        # longitude\n",
    "        cityLon = weather_json['coord']['lon']\n",
    "        # max temp\n",
    "        maxTemp = weather_json['main']['temp_max']\n",
    "        # humidity\n",
    "        humidity = weather_json['main']['humidity']\n",
    "        # cloudiness\n",
    "        cloudiness = weather_json['clouds']['all']\n",
    "        # wind speed\n",
    "        speed = weather_json['wind']['speed']\n",
    "        # date\n",
    "        date = weather_json['dt']\n",
    "        cityObjs.append({\n",
    "            'Name' : cityName,\n",
    "            'Latitude' : cityLat,\n",
    "            'Longitude' : cityLon,\n",
    "            'Maximum Temperature' : maxTemp,\n",
    "            'Humidity' : humidity,\n",
    "            'Cloudiness' : cloudiness,\n",
    "            'Wind Speed' : speed,\n",
    "            'Date' : date\n",
    "        })\n",
    "        pprint(f\"Getting info for {cityName}\")\n",
    "    except KeyError:\n",
    "        pprint(\"No records found\")"
   ]
  },
  {
   "cell_type": "code",
   "execution_count": null,
   "metadata": {
    "scrolled": true
   },
   "outputs": [],
   "source": []
  },
  {
   "cell_type": "markdown",
   "metadata": {},
   "source": [
    "### Convert Raw Data to DataFrame\n",
    "* Export the city data into a .csv.\n",
    "* Display the DataFrame"
   ]
  },
  {
   "cell_type": "code",
   "execution_count": 8,
   "metadata": {},
   "outputs": [
    {
     "data": {
      "text/html": [
       "<div>\n",
       "<style scoped>\n",
       "    .dataframe tbody tr th:only-of-type {\n",
       "        vertical-align: middle;\n",
       "    }\n",
       "\n",
       "    .dataframe tbody tr th {\n",
       "        vertical-align: top;\n",
       "    }\n",
       "\n",
       "    .dataframe thead th {\n",
       "        text-align: right;\n",
       "    }\n",
       "</style>\n",
       "<table border=\"1\" class=\"dataframe\">\n",
       "  <thead>\n",
       "    <tr style=\"text-align: right;\">\n",
       "      <th></th>\n",
       "      <th>Name</th>\n",
       "      <th>Latitude</th>\n",
       "      <th>Longitude</th>\n",
       "      <th>Maximum Temperature</th>\n",
       "      <th>Humidity</th>\n",
       "      <th>Cloudiness</th>\n",
       "      <th>Wind Speed</th>\n",
       "      <th>Date</th>\n",
       "    </tr>\n",
       "  </thead>\n",
       "  <tbody>\n",
       "    <tr>\n",
       "      <th>0</th>\n",
       "      <td>Rikitea</td>\n",
       "      <td>-23.1203</td>\n",
       "      <td>-134.9692</td>\n",
       "      <td>296.89</td>\n",
       "      <td>74</td>\n",
       "      <td>78</td>\n",
       "      <td>3.82</td>\n",
       "      <td>1658886410</td>\n",
       "    </tr>\n",
       "    <tr>\n",
       "      <th>1</th>\n",
       "      <td>Kaitangata</td>\n",
       "      <td>-46.2817</td>\n",
       "      <td>169.8464</td>\n",
       "      <td>280.77</td>\n",
       "      <td>97</td>\n",
       "      <td>100</td>\n",
       "      <td>4.14</td>\n",
       "      <td>1658886410</td>\n",
       "    </tr>\n",
       "    <tr>\n",
       "      <th>2</th>\n",
       "      <td>Bredasdorp</td>\n",
       "      <td>-34.5322</td>\n",
       "      <td>20.0403</td>\n",
       "      <td>282.66</td>\n",
       "      <td>94</td>\n",
       "      <td>23</td>\n",
       "      <td>2.52</td>\n",
       "      <td>1658886410</td>\n",
       "    </tr>\n",
       "    <tr>\n",
       "      <th>3</th>\n",
       "      <td>Laas</td>\n",
       "      <td>46.6166</td>\n",
       "      <td>10.7002</td>\n",
       "      <td>291.64</td>\n",
       "      <td>91</td>\n",
       "      <td>100</td>\n",
       "      <td>1.01</td>\n",
       "      <td>1658886411</td>\n",
       "    </tr>\n",
       "    <tr>\n",
       "      <th>4</th>\n",
       "      <td>Price</td>\n",
       "      <td>39.5994</td>\n",
       "      <td>-110.8107</td>\n",
       "      <td>306.74</td>\n",
       "      <td>15</td>\n",
       "      <td>0</td>\n",
       "      <td>3.60</td>\n",
       "      <td>1658886411</td>\n",
       "    </tr>\n",
       "  </tbody>\n",
       "</table>\n",
       "</div>"
      ],
      "text/plain": [
       "         Name  Latitude  Longitude  Maximum Temperature  Humidity  Cloudiness  \\\n",
       "0     Rikitea  -23.1203  -134.9692               296.89        74          78   \n",
       "1  Kaitangata  -46.2817   169.8464               280.77        97         100   \n",
       "2  Bredasdorp  -34.5322    20.0403               282.66        94          23   \n",
       "3        Laas   46.6166    10.7002               291.64        91         100   \n",
       "4       Price   39.5994  -110.8107               306.74        15           0   \n",
       "\n",
       "   Wind Speed        Date  \n",
       "0        3.82  1658886410  \n",
       "1        4.14  1658886410  \n",
       "2        2.52  1658886410  \n",
       "3        1.01  1658886411  \n",
       "4        3.60  1658886411  "
      ]
     },
     "execution_count": 8,
     "metadata": {},
     "output_type": "execute_result"
    }
   ],
   "source": [
    "cityDF = pd.DataFrame(cityObjs)\n",
    "\n",
    "#cityDF\n",
    "cityDF.head()\n",
    "#cityDF.count()\n",
    "#cityDF.to_csv(\"city_dataframe.csv\", encoding=\"utf-8\", index=False)\n",
    "#cityDFcsv = cityDF"
   ]
  },
  {
   "cell_type": "code",
   "execution_count": 16,
   "metadata": {},
   "outputs": [
    {
     "data": {
      "text/html": [
       "<div>\n",
       "<style scoped>\n",
       "    .dataframe tbody tr th:only-of-type {\n",
       "        vertical-align: middle;\n",
       "    }\n",
       "\n",
       "    .dataframe tbody tr th {\n",
       "        vertical-align: top;\n",
       "    }\n",
       "\n",
       "    .dataframe thead th {\n",
       "        text-align: right;\n",
       "    }\n",
       "</style>\n",
       "<table border=\"1\" class=\"dataframe\">\n",
       "  <thead>\n",
       "    <tr style=\"text-align: right;\">\n",
       "      <th></th>\n",
       "      <th>Lat</th>\n",
       "      <th>Lng</th>\n",
       "      <th>Max Temp</th>\n",
       "      <th>Humidity</th>\n",
       "      <th>Cloudiness</th>\n",
       "      <th>Wind Speed</th>\n",
       "      <th>Date</th>\n",
       "    </tr>\n",
       "  </thead>\n",
       "  <tbody>\n",
       "    <tr>\n",
       "      <td>count</td>\n",
       "      <td>599.000000</td>\n",
       "      <td>599.000000</td>\n",
       "      <td>599.000000</td>\n",
       "      <td>599.000000</td>\n",
       "      <td>599.000000</td>\n",
       "      <td>599.000000</td>\n",
       "      <td>5.990000e+02</td>\n",
       "    </tr>\n",
       "    <tr>\n",
       "      <td>mean</td>\n",
       "      <td>19.877028</td>\n",
       "      <td>19.568998</td>\n",
       "      <td>69.794808</td>\n",
       "      <td>69.353923</td>\n",
       "      <td>51.569282</td>\n",
       "      <td>7.979416</td>\n",
       "      <td>1.593605e+09</td>\n",
       "    </tr>\n",
       "    <tr>\n",
       "      <td>std</td>\n",
       "      <td>33.262944</td>\n",
       "      <td>91.418472</td>\n",
       "      <td>15.678452</td>\n",
       "      <td>22.704698</td>\n",
       "      <td>35.405602</td>\n",
       "      <td>5.660694</td>\n",
       "      <td>5.738815e+01</td>\n",
       "    </tr>\n",
       "    <tr>\n",
       "      <td>min</td>\n",
       "      <td>-54.800000</td>\n",
       "      <td>-179.170000</td>\n",
       "      <td>12.200000</td>\n",
       "      <td>7.000000</td>\n",
       "      <td>0.000000</td>\n",
       "      <td>0.360000</td>\n",
       "      <td>1.593605e+09</td>\n",
       "    </tr>\n",
       "    <tr>\n",
       "      <td>25%</td>\n",
       "      <td>-8.540000</td>\n",
       "      <td>-61.210000</td>\n",
       "      <td>59.000000</td>\n",
       "      <td>55.000000</td>\n",
       "      <td>20.000000</td>\n",
       "      <td>3.620000</td>\n",
       "      <td>1.593605e+09</td>\n",
       "    </tr>\n",
       "    <tr>\n",
       "      <td>50%</td>\n",
       "      <td>24.370000</td>\n",
       "      <td>24.670000</td>\n",
       "      <td>73.110000</td>\n",
       "      <td>75.000000</td>\n",
       "      <td>59.000000</td>\n",
       "      <td>6.730000</td>\n",
       "      <td>1.593605e+09</td>\n",
       "    </tr>\n",
       "    <tr>\n",
       "      <td>75%</td>\n",
       "      <td>46.585000</td>\n",
       "      <td>102.255000</td>\n",
       "      <td>80.600000</td>\n",
       "      <td>87.000000</td>\n",
       "      <td>85.000000</td>\n",
       "      <td>11.050000</td>\n",
       "      <td>1.593605e+09</td>\n",
       "    </tr>\n",
       "    <tr>\n",
       "      <td>max</td>\n",
       "      <td>78.220000</td>\n",
       "      <td>179.320000</td>\n",
       "      <td>116.600000</td>\n",
       "      <td>100.000000</td>\n",
       "      <td>100.000000</td>\n",
       "      <td>42.500000</td>\n",
       "      <td>1.593605e+09</td>\n",
       "    </tr>\n",
       "  </tbody>\n",
       "</table>\n",
       "</div>"
      ],
      "text/plain": [
       "              Lat         Lng    Max Temp    Humidity  Cloudiness  Wind Speed  \\\n",
       "count  599.000000  599.000000  599.000000  599.000000  599.000000  599.000000   \n",
       "mean    19.877028   19.568998   69.794808   69.353923   51.569282    7.979416   \n",
       "std     33.262944   91.418472   15.678452   22.704698   35.405602    5.660694   \n",
       "min    -54.800000 -179.170000   12.200000    7.000000    0.000000    0.360000   \n",
       "25%     -8.540000  -61.210000   59.000000   55.000000   20.000000    3.620000   \n",
       "50%     24.370000   24.670000   73.110000   75.000000   59.000000    6.730000   \n",
       "75%     46.585000  102.255000   80.600000   87.000000   85.000000   11.050000   \n",
       "max     78.220000  179.320000  116.600000  100.000000  100.000000   42.500000   \n",
       "\n",
       "               Date  \n",
       "count  5.990000e+02  \n",
       "mean   1.593605e+09  \n",
       "std    5.738815e+01  \n",
       "min    1.593605e+09  \n",
       "25%    1.593605e+09  \n",
       "50%    1.593605e+09  \n",
       "75%    1.593605e+09  \n",
       "max    1.593605e+09  "
      ]
     },
     "execution_count": 16,
     "metadata": {},
     "output_type": "execute_result"
    }
   ],
   "source": []
  },
  {
   "cell_type": "markdown",
   "metadata": {},
   "source": [
    "## Inspect the data and remove the cities where the humidity > 100%.\n",
    "----\n",
    "Skip this step if there are no cities that have humidity > 100%. "
   ]
  },
  {
   "cell_type": "code",
   "execution_count": 9,
   "metadata": {},
   "outputs": [
    {
     "data": {
      "text/html": [
       "<div>\n",
       "<style scoped>\n",
       "    .dataframe tbody tr th:only-of-type {\n",
       "        vertical-align: middle;\n",
       "    }\n",
       "\n",
       "    .dataframe tbody tr th {\n",
       "        vertical-align: top;\n",
       "    }\n",
       "\n",
       "    .dataframe thead th {\n",
       "        text-align: right;\n",
       "    }\n",
       "</style>\n",
       "<table border=\"1\" class=\"dataframe\">\n",
       "  <thead>\n",
       "    <tr style=\"text-align: right;\">\n",
       "      <th></th>\n",
       "      <th>Name</th>\n",
       "      <th>Latitude</th>\n",
       "      <th>Longitude</th>\n",
       "      <th>Maximum Temperature</th>\n",
       "      <th>Humidity</th>\n",
       "      <th>Cloudiness</th>\n",
       "      <th>Wind Speed</th>\n",
       "      <th>Date</th>\n",
       "    </tr>\n",
       "  </thead>\n",
       "  <tbody>\n",
       "    <tr>\n",
       "      <th>0</th>\n",
       "      <td>Rikitea</td>\n",
       "      <td>-23.1203</td>\n",
       "      <td>-134.9692</td>\n",
       "      <td>296.89</td>\n",
       "      <td>74</td>\n",
       "      <td>78</td>\n",
       "      <td>3.82</td>\n",
       "      <td>1658886410</td>\n",
       "    </tr>\n",
       "    <tr>\n",
       "      <th>1</th>\n",
       "      <td>Kaitangata</td>\n",
       "      <td>-46.2817</td>\n",
       "      <td>169.8464</td>\n",
       "      <td>280.77</td>\n",
       "      <td>97</td>\n",
       "      <td>100</td>\n",
       "      <td>4.14</td>\n",
       "      <td>1658886410</td>\n",
       "    </tr>\n",
       "    <tr>\n",
       "      <th>2</th>\n",
       "      <td>Bredasdorp</td>\n",
       "      <td>-34.5322</td>\n",
       "      <td>20.0403</td>\n",
       "      <td>282.66</td>\n",
       "      <td>94</td>\n",
       "      <td>23</td>\n",
       "      <td>2.52</td>\n",
       "      <td>1658886410</td>\n",
       "    </tr>\n",
       "    <tr>\n",
       "      <th>3</th>\n",
       "      <td>Laas</td>\n",
       "      <td>46.6166</td>\n",
       "      <td>10.7002</td>\n",
       "      <td>291.64</td>\n",
       "      <td>91</td>\n",
       "      <td>100</td>\n",
       "      <td>1.01</td>\n",
       "      <td>1658886411</td>\n",
       "    </tr>\n",
       "    <tr>\n",
       "      <th>4</th>\n",
       "      <td>Price</td>\n",
       "      <td>39.5994</td>\n",
       "      <td>-110.8107</td>\n",
       "      <td>306.74</td>\n",
       "      <td>15</td>\n",
       "      <td>0</td>\n",
       "      <td>3.60</td>\n",
       "      <td>1658886411</td>\n",
       "    </tr>\n",
       "  </tbody>\n",
       "</table>\n",
       "</div>"
      ],
      "text/plain": [
       "         Name  Latitude  Longitude  Maximum Temperature  Humidity  Cloudiness  \\\n",
       "0     Rikitea  -23.1203  -134.9692               296.89        74          78   \n",
       "1  Kaitangata  -46.2817   169.8464               280.77        97         100   \n",
       "2  Bredasdorp  -34.5322    20.0403               282.66        94          23   \n",
       "3        Laas   46.6166    10.7002               291.64        91         100   \n",
       "4       Price   39.5994  -110.8107               306.74        15           0   \n",
       "\n",
       "   Wind Speed        Date  \n",
       "0        3.82  1658886410  \n",
       "1        4.14  1658886410  \n",
       "2        2.52  1658886410  \n",
       "3        1.01  1658886411  \n",
       "4        3.60  1658886411  "
      ]
     },
     "execution_count": 9,
     "metadata": {},
     "output_type": "execute_result"
    }
   ],
   "source": [
    "#loc?\n",
    "humidity99DF = cityDF.loc[cityDF['Humidity'] <= 100,:]\n",
    "humidity99DF.head()\n",
    "#humidity99DF.count()"
   ]
  },
  {
   "cell_type": "code",
   "execution_count": 11,
   "metadata": {},
   "outputs": [
    {
     "data": {
      "text/plain": [
       "[]"
      ]
     },
     "execution_count": 11,
     "metadata": {},
     "output_type": "execute_result"
    }
   ],
   "source": [
    "#  Get the indices of cities that have humidity over 100%.\n",
    "cityDF.loc[cityDF['Humidity'] > 100,:].index.tolist()"
   ]
  },
  {
   "cell_type": "code",
   "execution_count": 12,
   "metadata": {},
   "outputs": [
    {
     "data": {
      "text/html": [
       "<div>\n",
       "<style scoped>\n",
       "    .dataframe tbody tr th:only-of-type {\n",
       "        vertical-align: middle;\n",
       "    }\n",
       "\n",
       "    .dataframe tbody tr th {\n",
       "        vertical-align: top;\n",
       "    }\n",
       "\n",
       "    .dataframe thead th {\n",
       "        text-align: right;\n",
       "    }\n",
       "</style>\n",
       "<table border=\"1\" class=\"dataframe\">\n",
       "  <thead>\n",
       "    <tr style=\"text-align: right;\">\n",
       "      <th></th>\n",
       "      <th>Name</th>\n",
       "      <th>Latitude</th>\n",
       "      <th>Longitude</th>\n",
       "      <th>Maximum Temperature</th>\n",
       "      <th>Humidity</th>\n",
       "      <th>Cloudiness</th>\n",
       "      <th>Wind Speed</th>\n",
       "      <th>Date</th>\n",
       "    </tr>\n",
       "  </thead>\n",
       "  <tbody>\n",
       "    <tr>\n",
       "      <th>0</th>\n",
       "      <td>Rikitea</td>\n",
       "      <td>-23.1203</td>\n",
       "      <td>-134.9692</td>\n",
       "      <td>296.89</td>\n",
       "      <td>74</td>\n",
       "      <td>78</td>\n",
       "      <td>3.82</td>\n",
       "      <td>1658886410</td>\n",
       "    </tr>\n",
       "    <tr>\n",
       "      <th>1</th>\n",
       "      <td>Kaitangata</td>\n",
       "      <td>-46.2817</td>\n",
       "      <td>169.8464</td>\n",
       "      <td>280.77</td>\n",
       "      <td>97</td>\n",
       "      <td>100</td>\n",
       "      <td>4.14</td>\n",
       "      <td>1658886410</td>\n",
       "    </tr>\n",
       "    <tr>\n",
       "      <th>2</th>\n",
       "      <td>Bredasdorp</td>\n",
       "      <td>-34.5322</td>\n",
       "      <td>20.0403</td>\n",
       "      <td>282.66</td>\n",
       "      <td>94</td>\n",
       "      <td>23</td>\n",
       "      <td>2.52</td>\n",
       "      <td>1658886410</td>\n",
       "    </tr>\n",
       "    <tr>\n",
       "      <th>3</th>\n",
       "      <td>Laas</td>\n",
       "      <td>46.6166</td>\n",
       "      <td>10.7002</td>\n",
       "      <td>291.64</td>\n",
       "      <td>91</td>\n",
       "      <td>100</td>\n",
       "      <td>1.01</td>\n",
       "      <td>1658886411</td>\n",
       "    </tr>\n",
       "    <tr>\n",
       "      <th>4</th>\n",
       "      <td>Price</td>\n",
       "      <td>39.5994</td>\n",
       "      <td>-110.8107</td>\n",
       "      <td>306.74</td>\n",
       "      <td>15</td>\n",
       "      <td>0</td>\n",
       "      <td>3.60</td>\n",
       "      <td>1658886411</td>\n",
       "    </tr>\n",
       "  </tbody>\n",
       "</table>\n",
       "</div>"
      ],
      "text/plain": [
       "         Name  Latitude  Longitude  Maximum Temperature  Humidity  Cloudiness  \\\n",
       "0     Rikitea  -23.1203  -134.9692               296.89        74          78   \n",
       "1  Kaitangata  -46.2817   169.8464               280.77        97         100   \n",
       "2  Bredasdorp  -34.5322    20.0403               282.66        94          23   \n",
       "3        Laas   46.6166    10.7002               291.64        91         100   \n",
       "4       Price   39.5994  -110.8107               306.74        15           0   \n",
       "\n",
       "   Wind Speed        Date  \n",
       "0        3.82  1658886410  \n",
       "1        4.14  1658886410  \n",
       "2        2.52  1658886410  \n",
       "3        1.01  1658886411  \n",
       "4        3.60  1658886411  "
      ]
     },
     "execution_count": 12,
     "metadata": {},
     "output_type": "execute_result"
    }
   ],
   "source": [
    "# Make a new DataFrame equal to the city data to drop all humidity outliers by index.\n",
    "# Passing \"inplace=False\" will make a copy of the city_data DataFrame, which we call \"clean_city_data\".\n",
    "cleanCityData = cityDF.loc[cityDF['Humidity'] <= 100,:]\n",
    "cleanCityData.head()"
   ]
  },
  {
   "cell_type": "code",
   "execution_count": 13,
   "metadata": {},
   "outputs": [],
   "source": [
    "lat = cleanCityData['Latitude']\n",
    "maxTemp = cleanCityData['Maximum Temperature']\n",
    "humid = cleanCityData['Humidity']\n",
    "clouds = cleanCityData['Cloudiness']\n",
    "windspd = cleanCityData['Wind Speed']"
   ]
  },
  {
   "cell_type": "markdown",
   "metadata": {},
   "source": [
    "## Plotting the Data\n",
    "* Use proper labeling of the plots using plot titles (including date of analysis) and axes labels.\n",
    "* Save the plotted figures as .pngs."
   ]
  },
  {
   "cell_type": "markdown",
   "metadata": {},
   "source": [
    "## Latitude vs. Temperature Plot"
   ]
  },
  {
   "cell_type": "code",
   "execution_count": 25,
   "metadata": {},
   "outputs": [
    {
     "data": {
      "image/png": "[encoded data removed]",
      "text/plain": [
       "<Figure size 432x288 with 1 Axes>"
      ]
     },
     "metadata": {
      "needs_background": "light"
     },
     "output_type": "display_data"
    }
   ],
   "source": [
    "plt.scatter(lat, maxTemp, c=\"red\")\n",
    "plt.title(f\"City Latitude vs. Max Temperature ({date})\")\n",
    "plt.xlabel(\"Latitude\")\n",
    "plt.ylabel(\"Max Temperature (deg. F)\")\n",
    "plt.grid()\n",
    "plt.show()"
   ]
  },
  {
   "cell_type": "code",
   "execution_count": 33,
   "metadata": {},
   "outputs": [
    {
     "name": "stdout",
     "output_type": "stream",
     "text": [
      "The above plot shows the latitude position of a city against the maximum temperature of that city in degrees Fahrenheit.\n"
     ]
    },
    {
     "data": {
      "text/plain": [
       "<Figure size 432x288 with 0 Axes>"
      ]
     },
     "metadata": {},
     "output_type": "display_data"
    }
   ],
   "source": [
    "plt.savefig(\"lat_vs_maxTemp.png\")\n",
    "print(\"The above plot shows the latitude position of a city against the maximum temperature of that city in degrees Fahrenheit.\")"
   ]
  },
  {
   "cell_type": "markdown",
   "metadata": {},
   "source": [
    "## Latitude vs. Humidity Plot"
   ]
  },
  {
   "cell_type": "code",
   "execution_count": 26,
   "metadata": {
    "scrolled": true
   },
   "outputs": [
    {
     "data": {
      "image/png": "[encoded data removed]",
      "text/plain": [
       "<Figure size 432x288 with 1 Axes>"
      ]
     },
     "metadata": {
      "needs_background": "light"
     },
     "output_type": "display_data"
    }
   ],
   "source": [
    "plt.scatter(lat, humid, c=\"blue\")\n",
    "plt.title(f\"City Latitude vs. Humidity ({date})\")\n",
    "plt.xlabel(\"Latitude\")\n",
    "plt.ylabel(\"Humidity (%)\")\n",
    "plt.grid()\n",
    "plt.show()"
   ]
  },
  {
   "cell_type": "code",
   "execution_count": 34,
   "metadata": {},
   "outputs": [
    {
     "name": "stdout",
     "output_type": "stream",
     "text": [
      "The above plot shows the latitude position of a city against the percentage humidity of that city.\n"
     ]
    },
    {
     "data": {
      "text/plain": [
       "<Figure size 432x288 with 0 Axes>"
      ]
     },
     "metadata": {},
     "output_type": "display_data"
    }
   ],
   "source": [
    "plt.savefig(\"lat_vs_humidity.png\")\n",
    "print(\"The above plot shows the latitude position of a city against the percentage humidity of that city.\")"
   ]
  },
  {
   "cell_type": "markdown",
   "metadata": {},
   "source": [
    "## Latitude vs. Cloudiness Plot"
   ]
  },
  {
   "cell_type": "code",
   "execution_count": 27,
   "metadata": {
    "scrolled": true
   },
   "outputs": [
    {
     "data": {
      "image/png": "[encoded data removed]",
      "text/plain": [
       "<Figure size 432x288 with 1 Axes>"
      ]
     },
     "metadata": {
      "needs_background": "light"
     },
     "output_type": "display_data"
    }
   ],
   "source": [
    "plt.scatter(lat, clouds, c=\"gray\")\n",
    "plt.title(f\"City Latitude vs. Cloudiness ({date})\")\n",
    "plt.xlabel(\"Latitude\")\n",
    "plt.ylabel(\"Cloudiness (%)\")\n",
    "plt.grid()\n",
    "plt.show()"
   ]
  },
  {
   "cell_type": "code",
   "execution_count": 35,
   "metadata": {},
   "outputs": [
    {
     "name": "stdout",
     "output_type": "stream",
     "text": [
      "The above plot shows the latitude position of a city against the percent cloudiness in that city.\n"
     ]
    },
    {
     "data": {
      "text/plain": [
       "<Figure size 432x288 with 0 Axes>"
      ]
     },
     "metadata": {},
     "output_type": "display_data"
    }
   ],
   "source": [
    "plt.savefig(\"lat_vs_cloudiness.png\")\n",
    "print(\"The above plot shows the latitude position of a city against the percent cloudiness in that city.\")"
   ]
  },
  {
   "cell_type": "markdown",
   "metadata": {},
   "source": [
    "## Latitude vs. Wind Speed Plot"
   ]
  },
  {
   "cell_type": "code",
   "execution_count": 28,
   "metadata": {
    "scrolled": true
   },
   "outputs": [
    {
     "data": {
      "image/png": "[encoded data removed]",
      "text/plain": [
       "<Figure size 432x288 with 1 Axes>"
      ]
     },
     "metadata": {
      "needs_background": "light"
     },
     "output_type": "display_data"
    }
   ],
   "source": [
    "plt.scatter(lat, windspd, c=\"green\")\n",
    "plt.title(f\"City Latitude vs. Wind Speed ({date})\")\n",
    "plt.xlabel(\"Latitude\")\n",
    "plt.ylabel(\"Wind Speed (mph)\")\n",
    "plt.grid()\n",
    "plt.show()"
   ]
  },
  {
   "cell_type": "code",
   "execution_count": 36,
   "metadata": {},
   "outputs": [
    {
     "name": "stdout",
     "output_type": "stream",
     "text": [
      "The above plot shows the latitude position of a city against the wind speed of that city in miles per hour.\n"
     ]
    },
    {
     "data": {
      "text/plain": [
       "<Figure size 432x288 with 0 Axes>"
      ]
     },
     "metadata": {},
     "output_type": "display_data"
    }
   ],
   "source": [
    "plt.savefig(\"lat_vs_windSpd.png\")\n",
    "print(\"The above plot shows the latitude position of a city against the wind speed of that city in miles per hour.\")"
   ]
  },
  {
   "cell_type": "markdown",
   "metadata": {},
   "source": [
    "## Linear Regression"
   ]
  },
  {
   "cell_type": "code",
   "execution_count": 38,
   "metadata": {},
   "outputs": [
    {
     "data": {
      "text/html": [
       "<div>\n",
       "<style scoped>\n",
       "    .dataframe tbody tr th:only-of-type {\n",
       "        vertical-align: middle;\n",
       "    }\n",
       "\n",
       "    .dataframe tbody tr th {\n",
       "        vertical-align: top;\n",
       "    }\n",
       "\n",
       "    .dataframe thead th {\n",
       "        text-align: right;\n",
       "    }\n",
       "</style>\n",
       "<table border=\"1\" class=\"dataframe\">\n",
       "  <thead>\n",
       "    <tr style=\"text-align: right;\">\n",
       "      <th></th>\n",
       "      <th>Name</th>\n",
       "      <th>Latitude</th>\n",
       "      <th>Longitude</th>\n",
       "      <th>Maximum Temperature</th>\n",
       "      <th>Humidity</th>\n",
       "      <th>Cloudiness</th>\n",
       "      <th>Wind Speed</th>\n",
       "      <th>Date</th>\n",
       "    </tr>\n",
       "  </thead>\n",
       "  <tbody>\n",
       "    <tr>\n",
       "      <th>3</th>\n",
       "      <td>Laas</td>\n",
       "      <td>46.6166</td>\n",
       "      <td>10.7002</td>\n",
       "      <td>291.64</td>\n",
       "      <td>91</td>\n",
       "      <td>100</td>\n",
       "      <td>1.01</td>\n",
       "      <td>1658886411</td>\n",
       "    </tr>\n",
       "    <tr>\n",
       "      <th>4</th>\n",
       "      <td>Price</td>\n",
       "      <td>39.5994</td>\n",
       "      <td>-110.8107</td>\n",
       "      <td>306.74</td>\n",
       "      <td>15</td>\n",
       "      <td>0</td>\n",
       "      <td>3.60</td>\n",
       "      <td>1658886411</td>\n",
       "    </tr>\n",
       "    <tr>\n",
       "      <th>5</th>\n",
       "      <td>Tiksi</td>\n",
       "      <td>71.6872</td>\n",
       "      <td>128.8694</td>\n",
       "      <td>285.48</td>\n",
       "      <td>74</td>\n",
       "      <td>100</td>\n",
       "      <td>1.02</td>\n",
       "      <td>1658886411</td>\n",
       "    </tr>\n",
       "    <tr>\n",
       "      <th>9</th>\n",
       "      <td>Asău</td>\n",
       "      <td>46.4333</td>\n",
       "      <td>26.4000</td>\n",
       "      <td>294.24</td>\n",
       "      <td>74</td>\n",
       "      <td>9</td>\n",
       "      <td>2.27</td>\n",
       "      <td>1658886413</td>\n",
       "    </tr>\n",
       "    <tr>\n",
       "      <th>10</th>\n",
       "      <td>Tasiilaq</td>\n",
       "      <td>65.6145</td>\n",
       "      <td>-37.6368</td>\n",
       "      <td>277.24</td>\n",
       "      <td>94</td>\n",
       "      <td>100</td>\n",
       "      <td>1.81</td>\n",
       "      <td>1658886413</td>\n",
       "    </tr>\n",
       "  </tbody>\n",
       "</table>\n",
       "</div>"
      ],
      "text/plain": [
       "        Name  Latitude  Longitude  Maximum Temperature  Humidity  Cloudiness  \\\n",
       "3       Laas   46.6166    10.7002               291.64        91         100   \n",
       "4      Price   39.5994  -110.8107               306.74        15           0   \n",
       "5      Tiksi   71.6872   128.8694               285.48        74         100   \n",
       "9       Asău   46.4333    26.4000               294.24        74           9   \n",
       "10  Tasiilaq   65.6145   -37.6368               277.24        94         100   \n",
       "\n",
       "    Wind Speed        Date  \n",
       "3         1.01  1658886411  \n",
       "4         3.60  1658886411  \n",
       "5         1.02  1658886411  \n",
       "9         2.27  1658886413  \n",
       "10        1.81  1658886413  "
      ]
     },
     "execution_count": 38,
     "metadata": {},
     "output_type": "execute_result"
    }
   ],
   "source": [
    "posCleanCityData = cleanCityData.loc[cleanCityData[\"Latitude\"]>=0,:]\n",
    "negCleanCityData = cleanCityData.loc[cleanCityData[\"Latitude\"]<=0,:]\n",
    "posCleanCityData.head()"
   ]
  },
  {
   "cell_type": "markdown",
   "metadata": {},
   "source": [
    "####  Northern Hemisphere - Max Temp vs. Latitude Linear Regression"
   ]
  },
  {
   "cell_type": "code",
   "execution_count": 59,
   "metadata": {
    "scrolled": true
   },
   "outputs": [
    {
     "name": "stdout",
     "output_type": "stream",
     "text": [
      "The r-squared is: 0.40515626240864916\n"
     ]
    },
    {
     "data": {
      "image/png": "[encoded data removed]",
      "text/plain": [
       "<Figure size 432x288 with 1 Axes>"
      ]
     },
     "metadata": {
      "needs_background": "light"
     },
     "output_type": "display_data"
    },
    {
     "name": "stdout",
     "output_type": "stream",
     "text": [
      "The plot regression describes the relationship between latitude and max temperature; there is a negative correlation because higher latitudes generally correlate to lower maximum temperatures.\n"
     ]
    },
    {
     "data": {
      "image/png": "[encoded data removed]",
      "text/plain": [
       "<Figure size 432x288 with 1 Axes>"
      ]
     },
     "metadata": {
      "needs_background": "light"
     },
     "output_type": "display_data"
    }
   ],
   "source": [
    "posLat = posCleanCityData[\"Latitude\"]\n",
    "maxTemp = posCleanCityData[\"Maximum Temperature\"]\n",
    "x_values = posLat\n",
    "y_values = maxTemp\n",
    "(slope, intercept, rvalue, pvalue, stderr) = linregress(x_values, y_values)\n",
    "regress_values = x_values * slope + intercept\n",
    "line_eq = \"y = \" + str(round(slope,2)) + \"x + \" + str(round(intercept,2))\n",
    "plt.scatter(x_values,y_values, c=\"orange\")\n",
    "plt.plot(x_values,regress_values,\"r-\")\n",
    "#plt.annotate(line_eq,(0,50),fontsize=15,color=\"red\")\n",
    "plt.xlabel('Latitude')\n",
    "plt.ylabel('Max Temperature (deg. F)')\n",
    "print(f\"The r-squared is: {rvalue**2}\")\n",
    "plt.show()\n",
    "plt.annotate(line_eq,(0,50),fontsize=15,color=\"red\")\n",
    "plt.savefig(\"poslat_vs_maxtemp.png\")\n",
    "print(\"The plot regression describes the relationship between latitude and max temperature; there is a negative correlation because higher latitudes generally correlate to lower maximum temperatures.\")"
   ]
  },
  {
   "cell_type": "markdown",
   "metadata": {},
   "source": [
    "####  Southern Hemisphere - Max Temp vs. Latitude Linear Regression"
   ]
  },
  {
   "cell_type": "code",
   "execution_count": 60,
   "metadata": {},
   "outputs": [
    {
     "name": "stdout",
     "output_type": "stream",
     "text": [
      "The r-squared is: 0.5712903893461757\n"
     ]
    },
    {
     "data": {
      "image/png": "[encoded data removed]",
      "text/plain": [
       "<Figure size 432x288 with 1 Axes>"
      ]
     },
     "metadata": {
      "needs_background": "light"
     },
     "output_type": "display_data"
    },
    {
     "name": "stdout",
     "output_type": "stream",
     "text": [
      "The plot regression describes the relationship between latitude and max temperature; there is a positive correlation because higher latitudes below zero generally correlate to higher maximum temperatures.\n"
     ]
    },
    {
     "data": {
      "image/png": "[encoded data removed]",
      "text/plain": [
       "<Figure size 432x288 with 1 Axes>"
      ]
     },
     "metadata": {
      "needs_background": "light"
     },
     "output_type": "display_data"
    }
   ],
   "source": [
    "negLat = negCleanCityData[\"Latitude\"]\n",
    "maxTemp = negCleanCityData[\"Maximum Temperature\"]\n",
    "x_values = negLat\n",
    "y_values = maxTemp\n",
    "(slope, intercept, rvalue, pvalue, stderr) = linregress(x_values, y_values)\n",
    "regress_values = x_values * slope + intercept\n",
    "line_eq = \"y = \" + str(round(slope,2)) + \"x + \" + str(round(intercept,2))\n",
    "plt.scatter(x_values,y_values, c=\"yellow\")\n",
    "plt.plot(x_values,regress_values,\"r-\")\n",
    "#plt.annotate(line_eq,(0,50),fontsize=15,color=\"red\")\n",
    "plt.xlabel('Latitude')\n",
    "plt.ylabel('Max Temperature (deg. F)')\n",
    "print(f\"The r-squared is: {rvalue**2}\")\n",
    "plt.show()\n",
    "plt.annotate(line_eq,(0,50),fontsize=15,color=\"red\")\n",
    "plt.savefig(\"neglat_vs_maxTemp.png\")\n",
    "print(\"The plot regression describes the relationship between latitude and max temperature; there is a positive correlation because higher latitudes below zero generally correlate to higher maximum temperatures.\")"
   ]
  },
  {
   "cell_type": "markdown",
   "metadata": {},
   "source": [
    "####  Northern Hemisphere - Humidity (%) vs. Latitude Linear Regression"
   ]
  },
  {
   "cell_type": "code",
   "execution_count": 61,
   "metadata": {},
   "outputs": [
    {
     "name": "stdout",
     "output_type": "stream",
     "text": [
      "The r-squared is: 0.0016114202763336017\n"
     ]
    },
    {
     "data": {
      "image/png": "[encoded data removed]",
      "text/plain": [
       "<Figure size 432x288 with 1 Axes>"
      ]
     },
     "metadata": {
      "needs_background": "light"
     },
     "output_type": "display_data"
    },
    {
     "name": "stdout",
     "output_type": "stream",
     "text": [
      "The plot regression describes the relationship between latitude and humidity; there does not seem to be any correlation between the two.\n"
     ]
    },
    {
     "data": {
      "image/png": "[encoded data removed]",
      "text/plain": [
       "<Figure size 432x288 with 1 Axes>"
      ]
     },
     "metadata": {
      "needs_background": "light"
     },
     "output_type": "display_data"
    }
   ],
   "source": [
    "posLat = posCleanCityData[\"Latitude\"]\n",
    "humidity = posCleanCityData[\"Humidity\"]\n",
    "x_values = posLat\n",
    "y_values = humidity\n",
    "(slope, intercept, rvalue, pvalue, stderr) = linregress(x_values, y_values)\n",
    "regress_values = x_values * slope + intercept\n",
    "line_eq = \"y = \" + str(round(slope,2)) + \"x + \" + str(round(intercept,2))\n",
    "plt.scatter(x_values,y_values, c=\"teal\")\n",
    "plt.plot(x_values,regress_values,\"r-\")\n",
    "#plt.annotate(line_eq,(0,50),fontsize=15,color=\"red\")\n",
    "plt.xlabel('Latitude')\n",
    "plt.ylabel('Humidity (%)')\n",
    "print(f\"The r-squared is: {rvalue**2}\")\n",
    "plt.show()\n",
    "plt.annotate(line_eq,(0,50),fontsize=15,color=\"red\")\n",
    "plt.savefig(\"poslat_vs_humidity.png\")\n",
    "print(\"The plot regression describes the relationship between latitude and humidity; there does not seem to be any correlation between the two.\")"
   ]
  },
  {
   "cell_type": "markdown",
   "metadata": {},
   "source": [
    "####  Southern Hemisphere - Humidity (%) vs. Latitude Linear Regression"
   ]
  },
  {
   "cell_type": "code",
   "execution_count": 62,
   "metadata": {},
   "outputs": [
    {
     "name": "stdout",
     "output_type": "stream",
     "text": [
      "The r-squared is: 0.01988239416805358\n"
     ]
    },
    {
     "data": {
      "image/png": "[encoded data removed]",
      "text/plain": [
       "<Figure size 432x288 with 1 Axes>"
      ]
     },
     "metadata": {
      "needs_background": "light"
     },
     "output_type": "display_data"
    },
    {
     "name": "stdout",
     "output_type": "stream",
     "text": [
      "The plot regression describes the relationship between latitude and humidity; there seems to be a negative correlation between latitude below 0 and humidity, so higher latitude corresopnds to lower humidity.\n"
     ]
    },
    {
     "data": {
      "image/png": "[encoded data removed]",
      "text/plain": [
       "<Figure size 432x288 with 1 Axes>"
      ]
     },
     "metadata": {
      "needs_background": "light"
     },
     "output_type": "display_data"
    }
   ],
   "source": [
    "negLat = negCleanCityData[\"Latitude\"]\n",
    "humidity = negCleanCityData[\"Humidity\"]\n",
    "x_values = negLat\n",
    "y_values = humidity\n",
    "(slope, intercept, rvalue, pvalue, stderr) = linregress(x_values, y_values)\n",
    "regress_values = x_values * slope + intercept\n",
    "line_eq = \"y = \" + str(round(slope,2)) + \"x + \" + str(round(intercept,2))\n",
    "plt.scatter(x_values,y_values, c=\"blue\")\n",
    "plt.plot(x_values,regress_values,\"r-\")\n",
    "#plt.annotate(line_eq,(0,50),fontsize=15,color=\"red\")\n",
    "plt.xlabel('Latitude')\n",
    "plt.ylabel('Humidity (%)')\n",
    "print(f\"The r-squared is: {rvalue**2}\")\n",
    "plt.show()\n",
    "plt.annotate(line_eq,(0,50),fontsize=15,color=\"red\")\n",
    "plt.savefig(\"neglat_vs_Humidities y.png\")\n",
    "print(\"The plot regression describes the relationship between latitude and humidity; there seems to be a negative correlation between latitude below 0 and humidity, so higher latitude corresopnds to lower humidity.\")"
   ]
  },
  {
   "cell_type": "markdown",
   "metadata": {},
   "source": [
    "####  Northern Hemisphere - Cloudiness (%) vs. Latitude Linear Regression"
   ]
  },
  {
   "cell_type": "code",
   "execution_count": 64,
   "metadata": {},
   "outputs": [
    {
     "name": "stdout",
     "output_type": "stream",
     "text": [
      "The r-squared is: 0.0023395738174659332\n"
     ]
    },
    {
     "data": {
      "image/png": "[encoded data removed]",
      "text/plain": [
       "<Figure size 432x288 with 1 Axes>"
      ]
     },
     "metadata": {
      "needs_background": "light"
     },
     "output_type": "display_data"
    },
    {
     "name": "stdout",
     "output_type": "stream",
     "text": [
      "The plot regression describes the relationship between latitude and cloudiness; there appears to be a negative correlation due to the line of best fit, but there truly seems to be no correlation when looking at individual datapoints.\n"
     ]
    },
    {
     "data": {
      "image/png": "[encoded data removed]",
      "text/plain": [
       "<Figure size 432x288 with 1 Axes>"
      ]
     },
     "metadata": {
      "needs_background": "light"
     },
     "output_type": "display_data"
    }
   ],
   "source": [
    "posLat = posCleanCityData[\"Latitude\"]\n",
    "clouds = posCleanCityData[\"Cloudiness\"]\n",
    "x_values = posLat\n",
    "y_values = clouds\n",
    "(slope, intercept, rvalue, pvalue, stderr) = linregress(x_values, y_values)\n",
    "regress_values = x_values * slope + intercept\n",
    "line_eq = \"y = \" + str(round(slope,2)) + \"x + \" + str(round(intercept,2))\n",
    "plt.scatter(x_values,y_values, c=\"black\")\n",
    "plt.plot(x_values,regress_values,\"r-\")\n",
    "#plt.annotate(line_eq,(0,50),fontsize=15,color=\"red\")\n",
    "plt.xlabel('Latitude')\n",
    "plt.ylabel('Cloudiness (%)')\n",
    "print(f\"The r-squared is: {rvalue**2}\")\n",
    "plt.show()\n",
    "plt.annotate(line_eq,(0,50),fontsize=15,color=\"red\")\n",
    "plt.savefig(\"poslat_vs_cloud.png\")\n",
    "print(\"The plot regression describes the relationship between latitude and cloudiness; there appears to be a negative correlation due to the line of best fit, but there truly seems to be no correlation when looking at individual datapoints.\")"
   ]
  },
  {
   "cell_type": "markdown",
   "metadata": {},
   "source": [
    "####  Southern Hemisphere - Cloudiness (%) vs. Latitude Linear Regression"
   ]
  },
  {
   "cell_type": "code",
   "execution_count": 65,
   "metadata": {},
   "outputs": [
    {
     "name": "stdout",
     "output_type": "stream",
     "text": [
      "The r-squared is: 0.02086040214047601\n"
     ]
    },
    {
     "data": {
      "image/png": "[encoded data removed]",
      "text/plain": [
       "<Figure size 432x288 with 1 Axes>"
      ]
     },
     "metadata": {
      "needs_background": "light"
     },
     "output_type": "display_data"
    },
    {
     "name": "stdout",
     "output_type": "stream",
     "text": [
      "The plot regression describes the relationship between latitude and cloudiness; higher latitude below 0 (less negative) corresponds to more cloudiness.\n"
     ]
    },
    {
     "data": {
      "image/png": "[encoded data removed]",
      "text/plain": [
       "<Figure size 432x288 with 1 Axes>"
      ]
     },
     "metadata": {
      "needs_background": "light"
     },
     "output_type": "display_data"
    }
   ],
   "source": [
    "negLat = negCleanCityData[\"Latitude\"]\n",
    "clouds = negCleanCityData[\"Cloudiness\"]\n",
    "x_values = negLat\n",
    "y_values = clouds\n",
    "(slope, intercept, rvalue, pvalue, stderr) = linregress(x_values, y_values)\n",
    "regress_values = x_values * slope + intercept\n",
    "line_eq = \"y = \" + str(round(slope,2)) + \"x + \" + str(round(intercept,2))\n",
    "plt.scatter(x_values,y_values, c=\"purple\")\n",
    "plt.plot(x_values,regress_values,\"r-\")\n",
    "#plt.annotate(line_eq,(0,50),fontsize=15,color=\"red\")\n",
    "plt.xlabel('Latitude')\n",
    "plt.ylabel('Cloudiness (%)')\n",
    "print(f\"The r-squared is: {rvalue**2}\")\n",
    "plt.show()\n",
    "plt.annotate(line_eq,(0,50),fontsize=15,color=\"red\")\n",
    "plt.savefig(\"neglat_vs_cloud.png\")\n",
    "print(\"The plot regression describes the relationship between latitude and cloudiness; higher latitude below 0 (less negative) corresponds to more cloudiness.\")"
   ]
  },
  {
   "cell_type": "markdown",
   "metadata": {},
   "source": [
    "####  Northern Hemisphere - Wind Speed (mph) vs. Latitude Linear Regression"
   ]
  },
  {
   "cell_type": "code",
   "execution_count": 66,
   "metadata": {},
   "outputs": [
    {
     "name": "stdout",
     "output_type": "stream",
     "text": [
      "The r-squared is: 0.029520407229715204\n"
     ]
    },
    {
     "data": {
      "image/png": "[encoded data removed]",
      "text/plain": [
       "<Figure size 432x288 with 1 Axes>"
      ]
     },
     "metadata": {
      "needs_background": "light"
     },
     "output_type": "display_data"
    },
    {
     "name": "stdout",
     "output_type": "stream",
     "text": [
      "The plot regression describes the relationship between latitude and wind; there appears to be a positive correlation between the two.\n"
     ]
    },
    {
     "data": {
      "image/png": "[encoded data removed]",
      "text/plain": [
       "<Figure size 432x288 with 1 Axes>"
      ]
     },
     "metadata": {
      "needs_background": "light"
     },
     "output_type": "display_data"
    }
   ],
   "source": [
    "posLat = posCleanCityData[\"Latitude\"]\n",
    "windspd = posCleanCityData[\"Wind Speed\"]\n",
    "x_values = posLat\n",
    "y_values = windspd\n",
    "(slope, intercept, rvalue, pvalue, stderr) = linregress(x_values, y_values)\n",
    "regress_values = x_values * slope + intercept\n",
    "line_eq = \"y = \" + str(round(slope,2)) + \"x + \" + str(round(intercept,2))\n",
    "plt.scatter(x_values,y_values, c=\"green\")\n",
    "plt.plot(x_values,regress_values,\"r-\")\n",
    "#plt.annotate(line_eq,(0,50),fontsize=15,color=\"red\")\n",
    "plt.xlabel('Latitude')\n",
    "plt.ylabel('Wind Speed')\n",
    "print(f\"The r-squared is: {rvalue**2}\")\n",
    "plt.show()\n",
    "plt.annotate(line_eq,(0,50),fontsize=15,color=\"red\")\n",
    "plt.savefig(\"poslat_vs_windspd.png\")\n",
    "print(\"The plot regression describes the relationship between latitude and wind; there appears to be a positive correlation between the two.\")"
   ]
  },
  {
   "cell_type": "markdown",
   "metadata": {},
   "source": [
    "####  Southern Hemisphere - Wind Speed (mph) vs. Latitude Linear Regression"
   ]
  },
  {
   "cell_type": "code",
   "execution_count": 67,
   "metadata": {},
   "outputs": [
    {
     "name": "stdout",
     "output_type": "stream",
     "text": [
      "The r-squared is: 0.02453568351212145\n"
     ]
    },
    {
     "data": {
      "image/png": "[encoded data removed]",
      "text/plain": [
       "<Figure size 432x288 with 1 Axes>"
      ]
     },
     "metadata": {
      "needs_background": "light"
     },
     "output_type": "display_data"
    },
    {
     "name": "stdout",
     "output_type": "stream",
     "text": [
      "The plot regression describes the relationship between latitude and wind speed; higher latitude below 0 (less negative) tends to have lower humidity.\n"
     ]
    },
    {
     "data": {
      "image/png": "[encoded data removed]",
      "text/plain": [
       "<Figure size 432x288 with 1 Axes>"
      ]
     },
     "metadata": {
      "needs_background": "light"
     },
     "output_type": "display_data"
    }
   ],
   "source": [
    "negLat = negCleanCityData[\"Latitude\"]\n",
    "windspd = negCleanCityData[\"Wind Speed\"]\n",
    "x_values = negLat\n",
    "y_values = windspd\n",
    "(slope, intercept, rvalue, pvalue, stderr) = linregress(x_values, y_values)\n",
    "regress_values = x_values * slope + intercept\n",
    "line_eq = \"y = \" + str(round(slope,2)) + \"x + \" + str(round(intercept,2))\n",
    "plt.scatter(x_values,y_values, c=\"pink\")\n",
    "plt.plot(x_values,regress_values,\"r-\")\n",
    "#plt.annotate(line_eq,(0,50),fontsize=15,color=\"red\")\n",
    "plt.xlabel('Latitude')\n",
    "plt.ylabel('Wind Speed (mph)')\n",
    "print(f\"The r-squared is: {rvalue**2}\")\n",
    "plt.show()\n",
    "plt.annotate(line_eq,(0,50),fontsize=15,color=\"red\")\n",
    "plt.savefig(\"neglat_vs_windspd.png\")\n",
    "print(\"The plot regression describes the relationship between latitude and wind speed; higher latitude below 0 (less negative) tends to have lower humidity.\")"
   ]
  },
  {
   "cell_type": "code",
   "execution_count": null,
   "metadata": {},
   "outputs": [],
   "source": []
  }
 ],
 "metadata": {
  "anaconda-cloud": {},
  "kernel_info": {
   "name": "python3"
  },
  "kernelspec": {
   "display_name": "Python 3 (ipykernel)",
   "language": "python",
   "name": "python3"
  },
  "language_info": {
   "codemirror_mode": {
    "name": "ipython",
    "version": 3
   },
   "file_extension": ".py",
   "mimetype": "text/x-python",
   "name": "python",
   "nbconvert_exporter": "python",
   "pygments_lexer": "ipython3",
   "version": "3.9.12"
  },
  "latex_envs": {
   "LaTeX_envs_menu_present": true,
   "autoclose": false,
   "autocomplete": true,
   "bibliofile": "biblio.bib",
   "cite_by": "apalike",
   "current_citInitial": 1,
   "eqLabelWithNumbers": true,
   "eqNumInitial": 1,
   "hotkeys": {
    "equation": "Ctrl-E",
    "itemize": "Ctrl-I"
   },
   "labels_anchors": false,
   "latex_user_defs": false,
   "report_style_numbering": false,
   "user_envs_cfg": false
  },
  "nteract": {
   "version": "0.12.3"
  }
 },
 "nbformat": 4,
 "nbformat_minor": 2
}
